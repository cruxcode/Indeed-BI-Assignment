{
 "cells": [
  {
   "cell_type": "markdown",
   "metadata": {},
   "source": [
    "## Problem Statement\n",
    "<ol style=\"font-size: 20px\">\n",
    "    <li>What diagnosis had the highest hospitalization rate?</li> \n",
    "    <li>What diagnosis most often concluded with the individual leaving without being seen?</li>\n",
    "    <li>Briefly discuss your findings and any caveats you'd mention when discussing this data</li>\n",
    "</ol>"
   ]
  },
  {
   "cell_type": "markdown",
   "metadata": {},
   "source": [
    "## Approach\n",
    "<p style=\"font-size: 20px\">The analysis consists of four parts as follows:</p>\n",
    "<ol style=\"font-size: 20px\">\n",
    "    <li>Data preparation</li>\n",
    "    <li>Find diagnosis with highest hospitalization rate.</li>\n",
    "    <li>Find diagnosis with most often concluded with the individual leaving without being seen</li>\n",
    "    <li>Discussion</li>\n",
    "</ol>"
   ]
  },
  {
   "cell_type": "markdown",
   "metadata": {},
   "source": [
    "## Step 1: Data Preparation\n",
    "<b>Merging diagnosis and disposition tables for better understanding later.</b>\n",
    "As per manual all other diagonisi 71"
   ]
  },
  {
   "cell_type": "code",
   "execution_count": 1,
   "metadata": {},
   "outputs": [],
   "source": [
    "%run 'load_files.ipynb'"
   ]
  },
  {
   "cell_type": "code",
   "execution_count": 2,
   "metadata": {},
   "outputs": [
    {
     "data": {
      "text/html": [
       "<script>requirejs.config({paths: { 'plotly': ['https://cdn.plot.ly/plotly-latest.min']},});if(!window.Plotly) {{require(['plotly'],function(plotly) {window.Plotly=plotly;});}}</script>"
      ],
      "text/vnd.plotly.v1+html": [
       "<script>requirejs.config({paths: { 'plotly': ['https://cdn.plot.ly/plotly-latest.min']},});if(!window.Plotly) {{require(['plotly'],function(plotly) {window.Plotly=plotly;});}}</script>"
      ]
     },
     "metadata": {},
     "output_type": "display_data"
    }
   ],
   "source": [
    "# Load packages and configuration\n",
    "import plotly as py\n",
    "import plotly.graph_objs as go\n",
    "import numpy as np\n",
    "from scipy.stats import chi2_contingency\n",
    "py.offline.init_notebook_mode(connected=True)"
   ]
  },
  {
   "cell_type": "code",
   "execution_count": 3,
   "metadata": {},
   "outputs": [
    {
     "name": "stdout",
     "output_type": "stream",
     "text": [
      "DataFrame disposition_df loaded\n",
      "DataFrame diagnosis_df loaded\n"
     ]
    }
   ],
   "source": [
    "# Load all data pertaining to this answer\n",
    "disposition_df = load_disposition()\n",
    "diagnosis_df = load_diagnosis()"
   ]
  },
  {
   "cell_type": "code",
   "execution_count": 4,
   "metadata": {},
   "outputs": [],
   "source": [
    "# Merging all datasets\n",
    "merged_df = main_df\n",
    "merged_df = pd.merge(left=merged_df, right=disposition_df, how='left', on='disposition')\n",
    "merged_df = pd.merge(left=merged_df, right=diagnosis_df, how='left', on='diag')"
   ]
  },
  {
   "cell_type": "code",
   "execution_count": 5,
   "metadata": {},
   "outputs": [
    {
     "name": "stdout",
     "output_type": "stream",
     "text": [
      "Diagnosis missing: 0\n",
      "Disposition missing: 0\n",
      "Diagnosis explanation missing 0\n",
      "Disposition explanantion is missing 0\n"
     ]
    }
   ],
   "source": [
    "# Checking for missing values in merged dataframe for concerned columns\n",
    "print(\"Diagnosis missing:\", num_missing(merged_df, 'diag'))\n",
    "print(\"Disposition missing:\", num_missing(merged_df, 'disposition'))\n",
    "print(\"Diagnosis explanation missing\", num_missing(merged_df, 'diag_exp'))\n",
    "print(\"Disposition explanantion is missing\", num_missing(merged_df, 'disposition_exp'))"
   ]
  },
  {
   "cell_type": "code",
   "execution_count": 6,
   "metadata": {},
   "outputs": [
    {
     "name": "stdout",
     "output_type": "stream",
     "text": [
      "Top 3 frequent other diagnosis type\n",
      " PAIN             2655\n",
      "BACK PAIN         271\n",
      "INJURY            223\n",
      "LOW BACK PAIN     201\n",
      "CHEST PAIN        195\n",
      "Name: diag_other, dtype: int64\n",
      "\n",
      "Number of other type of diagnosis: 1238\n"
     ]
    }
   ],
   "source": [
    "print(\"Top 3 frequent other diagnosis type\\n\", merged_df[\"diag_other\"].value_counts().nlargest(5))\n",
    "print(\"\\nNumber of other type of diagnosis:\", merged_df[\"diag_other\"].value_counts().shape[0])\n",
    "diag_other = merged_df[\"diag_other\"].value_counts().to_frame().rename(columns={'diag_other': 'Frequency'})"
   ]
  },
  {
   "cell_type": "code",
   "execution_count": 7,
   "metadata": {},
   "outputs": [],
   "source": [
    "# Seperating elements of diag_other which have frequency greater than 100.\n",
    "# For finding out the diagnosis which lead to maximum number of hospitalizationa or unseen\n",
    "i = [0]\n",
    "def add_diag_other_index(x):\n",
    "    if(x[\"Frequency\"] >= 100):\n",
    "        i[0] = i[0] + 1 \n",
    "        return 710+i[0]\n",
    "    return 71\n",
    "\n",
    "diag_other['diag'] = diag_other.apply(add_diag_other_index, axis=1)"
   ]
  },
  {
   "cell_type": "code",
   "execution_count": 8,
   "metadata": {},
   "outputs": [
    {
     "data": {
      "text/html": [
       "<div>\n",
       "<style scoped>\n",
       "    .dataframe tbody tr th:only-of-type {\n",
       "        vertical-align: middle;\n",
       "    }\n",
       "\n",
       "    .dataframe tbody tr th {\n",
       "        vertical-align: top;\n",
       "    }\n",
       "\n",
       "    .dataframe thead th {\n",
       "        text-align: right;\n",
       "    }\n",
       "</style>\n",
       "<table border=\"1\" class=\"dataframe\">\n",
       "  <thead>\n",
       "    <tr style=\"text-align: right;\">\n",
       "      <th></th>\n",
       "      <th>Frequency</th>\n",
       "      <th>diag</th>\n",
       "    </tr>\n",
       "  </thead>\n",
       "  <tbody>\n",
       "    <tr>\n",
       "      <th>PAIN</th>\n",
       "      <td>2655</td>\n",
       "      <td>711</td>\n",
       "    </tr>\n",
       "    <tr>\n",
       "      <th>BACK PAIN</th>\n",
       "      <td>271</td>\n",
       "      <td>712</td>\n",
       "    </tr>\n",
       "    <tr>\n",
       "      <th>INJURY</th>\n",
       "      <td>223</td>\n",
       "      <td>713</td>\n",
       "    </tr>\n",
       "    <tr>\n",
       "      <th>LOW BACK PAIN</th>\n",
       "      <td>201</td>\n",
       "      <td>714</td>\n",
       "    </tr>\n",
       "    <tr>\n",
       "      <th>CHEST PAIN</th>\n",
       "      <td>195</td>\n",
       "      <td>715</td>\n",
       "    </tr>\n",
       "  </tbody>\n",
       "</table>\n",
       "</div>"
      ],
      "text/plain": [
       "               Frequency  diag\n",
       "PAIN                2655   711\n",
       "BACK PAIN            271   712\n",
       "INJURY               223   713\n",
       "LOW BACK PAIN        201   714\n",
       "CHEST PAIN           195   715"
      ]
     },
     "execution_count": 8,
     "metadata": {},
     "output_type": "execute_result"
    }
   ],
   "source": [
    "diag_other.head()"
   ]
  },
  {
   "cell_type": "code",
   "execution_count": 9,
   "metadata": {},
   "outputs": [],
   "source": [
    "def diag_final(x):\n",
    "    if x[\"diag\"] == 71:\n",
    "        try:\n",
    "            a = diag_other.loc[x[\"diag_other\"]][\"diag\"].item()\n",
    "            x[\"diag_exp\"] = x[\"diag_other\"]\n",
    "            return a\n",
    "        except TypeError:\n",
    "            return x[\"diag\"]\n",
    "    return x[\"diag\"]\n",
    "\n",
    "def diag_exp_final(x):\n",
    "    if x[\"diag_mod\"] > 710:\n",
    "        try:\n",
    "            return x[\"diag_other\"]\n",
    "        except TypeError:\n",
    "            return x[\"diag_exp\"]\n",
    "    return x[\"diag_exp\"]\n",
    "\n",
    "merged_df[\"diag_mod\"] = merged_df.apply(diag_final, axis=1)\n",
    "merged_df[\"diag_exp_mod\"] = merged_df.apply(diag_exp_final, axis=1)"
   ]
  },
  {
   "cell_type": "code",
   "execution_count": 10,
   "metadata": {},
   "outputs": [],
   "source": [
    "merged_df[\"diag_mod_str\"] = merged_df[\"diag_mod\"].astype(object, inplace=True)"
   ]
  },
  {
   "cell_type": "markdown",
   "metadata": {},
   "source": [
    "## Step 2: Considering disposition code 4 and 5 as corresponding to hospitalization"
   ]
  },
  {
   "cell_type": "code",
   "execution_count": 11,
   "metadata": {},
   "outputs": [],
   "source": [
    "# There are two columns for diagnosis, considering both the columns\n",
    "total_hospitalized = merged_df[(merged_df[\"disposition\"]==4) | (merged_df[\"disposition\"]==5)].shape[0]\n",
    "# Diagnosis Count Vs Hospitalized \n",
    "diag_hospitalized = merged_df[(merged_df[\"disposition\"]==4) | (merged_df[\"disposition\"]==5)][\"diag_exp_mod\"].value_counts()\\\n",
    "                    .to_frame().reset_index().rename(columns={'index': 'diag_exp_mod', 'diag_exp_mod': 'Frequency'})\\\n",
    "                    .sort_values(by=['Frequency'], ascending=False)"
   ]
  },
  {
   "cell_type": "code",
   "execution_count": 12,
   "metadata": {
    "scrolled": false
   },
   "outputs": [
    {
     "name": "stdout",
     "output_type": "stream",
     "text": [
      "Populating the interactive namespace from numpy and matplotlib\n"
     ]
    },
    {
     "data": {
      "text/plain": [
       "<matplotlib.figure.Figure at 0x7f22583bc358>"
      ]
     },
     "metadata": {},
     "output_type": "display_data"
    },
    {
     "data": {
      "image/png": "[encoded data removed]",
      "text/plain": [
       "<matplotlib.figure.Figure at 0x7f22213d0828>"
      ]
     },
     "metadata": {},
     "output_type": "display_data"
    }
   ],
   "source": [
    "# Creating visualisation for required analysis\n",
    "%pylab inline\n",
    "pylab.rcParams['figure.figsize'] = (15, 6)\n",
    "plt.figure()\n",
    "diag_hospitalized.iloc[0:20].plot(x='diag_exp_mod', y='Frequency', kind='bar', title=\"Hospitalization frequency VS Diagnosis\");"
   ]
  },
  {
   "cell_type": "markdown",
   "metadata": {},
   "source": [
    "## Step 2 Answer: Fracture (diag code 57) has highest number of hospitalization"
   ]
  },
  {
   "cell_type": "markdown",
   "metadata": {},
   "source": [
    "## Step 3: Disposition code 6 is for left without seen"
   ]
  },
  {
   "cell_type": "code",
   "execution_count": 13,
   "metadata": {},
   "outputs": [],
   "source": [
    "# Repeating same steps for code 6\n",
    "total_unseen = merged_df[(merged_df[\"disposition\"]==6)].shape[0]\n",
    "diag_unseen = merged_df[(merged_df[\"disposition\"]==6)][\"diag_exp_mod\"].value_counts()\\\n",
    "                    .to_frame().reset_index().rename(columns={'index': 'diag_exp_mod', 'diag_exp_mod': 'Frequency'})\\\n",
    "                    .sort_values(by=['Frequency'], ascending=False)"
   ]
  },
  {
   "cell_type": "code",
   "execution_count": 14,
   "metadata": {},
   "outputs": [
    {
     "name": "stdout",
     "output_type": "stream",
     "text": [
      "Populating the interactive namespace from numpy and matplotlib\n"
     ]
    },
    {
     "data": {
      "text/plain": [
       "<matplotlib.figure.Figure at 0x7f22583bc518>"
      ]
     },
     "metadata": {},
     "output_type": "display_data"
    },
    {
     "data": {
      "image/png": "[encoded data removed]",
      "text/plain": [
       "<matplotlib.figure.Figure at 0x7f2222970e80>"
      ]
     },
     "metadata": {},
     "output_type": "display_data"
    }
   ],
   "source": [
    "# Creating visualisation for required analysis\n",
    "%pylab inline\n",
    "pylab.rcParams['figure.figsize'] = (15, 6)\n",
    "plt.figure()\n",
    "diag_unseen.iloc[0:20].plot(x='diag_exp_mod', y='Frequency', kind='bar', title=\"Individual leaving without seen VS Diagnosis\");"
   ]
  },
  {
   "cell_type": "markdown",
   "metadata": {},
   "source": [
    "## Step 3 Answer: Most of diagnosis of unseen are Laceration(diag code 71) and PAIN with both having a frequency of 123."
   ]
  },
  {
   "cell_type": "markdown",
   "metadata": {},
   "source": [
    "## Step 4: Discussion\n",
    "<p style=\"font-size: 20px\"> An attempt to find few facts and caveats about diagnosis and disposition with injuries.</p>"
   ]
  },
  {
   "cell_type": "markdown",
   "metadata": {},
   "source": [
    "<b>None of the disposition were Not Recorded.</b>"
   ]
  },
  {
   "cell_type": "code",
   "execution_count": 15,
   "metadata": {},
   "outputs": [
    {
     "name": "stdout",
     "output_type": "stream",
     "text": [
      "Total Disposition Not Recorded incidents: 0\n"
     ]
    }
   ],
   "source": [
    "total_unrecorded = merged_df[(merged_df[\"disposition\"]==9)].shape[0]\n",
    "print(\"Total Disposition Not Recorded incidents:\", total_unrecorded)"
   ]
  },
  {
   "cell_type": "markdown",
   "metadata": {},
   "source": [
    "<b>The bar charts displaying frequencies of different dispositions for a diagnosis clearly shows association/correlation between these two variables. This has been further substantiated by the Chi Square test.\n",
    "Most of the Internal Organ injuries are of grade less than 3 as they are not hospitalized.</b>"
   ]
  },
  {
   "cell_type": "code",
   "execution_count": 16,
   "metadata": {},
   "outputs": [],
   "source": [
    "# Preparing data for plotting histograms as required in plotly\n",
    "diag_freq = merged_df[\"diag_exp_mod\"].value_counts().to_frame().reset_index().rename(columns={'index': 'diag_exp_mod', 'diag_exp_mod': 'Frequency'})\n",
    "df = merged_df\n",
    "data = []\n",
    "buttons = []\n",
    "\n",
    "demo = df.groupby(['disposition'])[df.columns[0]].count().to_frame().reset_index().rename(columns={'CPSC Case #': 'Frequency'})\n",
    "trace = go.Bar(x=demo['disposition'], y=demo.Frequency)\n",
    "data.append(trace)\n",
    "label = 'All'\n",
    "method = 'update'\n",
    "visible = [False]*(diag_freq.shape[0] + 1)\n",
    "visible[0] = True\n",
    "args = [{'visible': visible}, {'title': 'Distribution of all diagnosis' + ' across dispositions'}]\n",
    "buttons.append(dict(label= label, method=method, args=args))\n",
    "\n",
    "for i in range(diag_freq.shape[0]):\n",
    "    diag_exp = diag_freq.iloc[i].diag_exp_mod[0:20]\n",
    "    demo = df[df.diag_exp_mod == diag_exp].groupby(['disposition'])[df.columns[0]].count().to_frame().reset_index().rename(columns={'CPSC Case #': 'Frequency'})\n",
    "    trace = go.Bar(x=demo['disposition'], y=demo.Frequency)\n",
    "    data.append(trace)\n",
    "    label = diag_exp\n",
    "    method = 'update'\n",
    "    visible = [False]*(diag_freq.shape[0] + 1)\n",
    "    visible[i+1] = True\n",
    "    args = [{'visible': visible}, {'title': 'Distribution of ' + diag_exp + ' across dispositions'}]\n",
    "    buttons.append(dict(label= label, method=method, args=args))\n",
    "\n",
    "# Preparing inputs for dashboard\n",
    "updatemenus = list([\n",
    "    dict(active=0,\n",
    "         buttons=list(buttons),\n",
    "    )\n",
    "])\n",
    "\n",
    "layout = dict(title='Frequency distribution for diagnosis across dispositions.', showlegend=False, updatemenus=updatemenus, margin=go.Margin(\n",
    "        l=50,\n",
    "        r=50,\n",
    "        b=100,\n",
    "        t=100,\n",
    "        pad=4\n",
    "    ))\n",
    "\n",
    "fig = dict(data=data, layout=layout)"
   ]
  },
  {
   "cell_type": "code",
   "execution_count": 17,
   "metadata": {},
   "outputs": [
    {
     "data": {
      "application/vnd.plotly.v1+json": {
       "data": [
        {
         "type": "bar",
         "x": [
          1,
          2,
          4,
          5,
          6,
          8
         ],
         "y": [
          59807,
          651,
          3979,
          415,
          619,
          28
         ]
        },
        {
         "type": "bar",
         "x": [
          1,
          2,
          4,
          5,
          6
         ],
         "y": [
          11910,
          41,
          185,
          48,
          123
         ]
        },
        {
         "type": "bar",
         "x": [],
         "y": []
        },
        {
         "type": "bar",
         "x": [
          1,
          2,
          4,
          5,
          6
         ],
         "y": [
          10248,
          11,
          43,
          3,
          21
         ]
        },
        {
         "type": "bar",
         "x": [
          1,
          2,
          4,
          5,
          6,
          8
         ],
         "y": [
          7561,
          267,
          1811,
          88,
          6,
          2
         ]
        },
        {
         "type": "bar",
         "x": [],
         "y": []
        },
        {
         "type": "bar",
         "x": [
          1,
          2,
          4,
          5,
          6,
          8
         ],
         "y": [
          3372,
          39,
          245,
          31,
          107,
          13
         ]
        },
        {
         "type": "bar",
         "x": [
          1,
          2,
          4,
          5,
          6
         ],
         "y": [
          2265,
          15,
          220,
          32,
          123
         ]
        },
        {
         "type": "bar",
         "x": [
          1,
          2,
          4,
          5,
          6
         ],
         "y": [
          1399,
          4,
          70,
          15,
          7
         ]
        },
        {
         "type": "bar",
         "x": [
          1,
          2,
          4,
          5,
          6
         ],
         "y": [
          1241,
          8,
          10,
          1,
          10
         ]
        },
        {
         "type": "bar",
         "x": [
          1,
          2,
          4,
          5,
          6
         ],
         "y": [
          928,
          8,
          43,
          6,
          3
         ]
        },
        {
         "type": "bar",
         "x": [
          1,
          2,
          4,
          5,
          6,
          8
         ],
         "y": [
          554,
          18,
          88,
          39,
          24,
          1
         ]
        },
        {
         "type": "bar",
         "x": [
          1,
          4,
          5,
          6
         ],
         "y": [
          612,
          15,
          2,
          7
         ]
        },
        {
         "type": "bar",
         "x": [
          1,
          2,
          4,
          5,
          6
         ],
         "y": [
          472,
          1,
          42,
          7,
          12
         ]
        },
        {
         "type": "bar",
         "x": [],
         "y": []
        },
        {
         "type": "bar",
         "x": [],
         "y": []
        },
        {
         "type": "bar",
         "x": [],
         "y": []
        },
        {
         "type": "bar",
         "x": [],
         "y": []
        },
        {
         "type": "bar",
         "x": [
          1,
          2,
          4,
          5,
          6
         ],
         "y": [
          318,
          4,
          12,
          1,
          2
         ]
        },
        {
         "type": "bar",
         "x": [
          1,
          2,
          4,
          5,
          6
         ],
         "y": [
          248,
          3,
          8,
          2,
          10
         ]
        },
        {
         "type": "bar",
         "x": [
          1,
          2,
          4,
          5,
          6
         ],
         "y": [
          242,
          2,
          2,
          1,
          4
         ]
        },
        {
         "type": "bar",
         "x": [
          1,
          2,
          4,
          6
         ],
         "y": [
          217,
          1,
          1,
          4
         ]
        },
        {
         "type": "bar",
         "x": [
          1,
          4,
          5,
          6
         ],
         "y": [
          195,
          3,
          1,
          2
         ]
        },
        {
         "type": "bar",
         "x": [
          1,
          2,
          4
         ],
         "y": [
          179,
          2,
          17
         ]
        },
        {
         "type": "bar",
         "x": [
          1,
          4,
          5
         ],
         "y": [
          129,
          59,
          7
         ]
        },
        {
         "type": "bar",
         "x": [
          1,
          2,
          4,
          6
         ],
         "y": [
          159,
          3,
          28,
          1
         ]
        },
        {
         "type": "bar",
         "x": [
          1,
          2,
          4,
          5,
          6,
          8
         ],
         "y": [
          147,
          3,
          13,
          3,
          3,
          1
         ]
        },
        {
         "type": "bar",
         "x": [
          1,
          2,
          4,
          6
         ],
         "y": [
          153,
          1,
          5,
          1
         ]
        },
        {
         "type": "bar",
         "x": [
          1,
          2,
          4,
          5,
          6
         ],
         "y": [
          103,
          1,
          40,
          9,
          1
         ]
        },
        {
         "type": "bar",
         "x": [
          1,
          4,
          5,
          6
         ],
         "y": [
          142,
          3,
          1,
          5
         ]
        },
        {
         "type": "bar",
         "x": [
          1,
          2
         ],
         "y": [
          146,
          3
         ]
        },
        {
         "type": "bar",
         "x": [
          1,
          2,
          4,
          5,
          6
         ],
         "y": [
          88,
          12,
          20,
          3,
          2
         ]
        },
        {
         "type": "bar",
         "x": [
          1,
          4,
          6
         ],
         "y": [
          108,
          1,
          3
         ]
        },
        {
         "type": "bar",
         "x": [],
         "y": []
        },
        {
         "type": "bar",
         "x": [],
         "y": []
        },
        {
         "type": "bar",
         "x": [
          1,
          2,
          4,
          5
         ],
         "y": [
          58,
          4,
          1,
          1
         ]
        },
        {
         "type": "bar",
         "x": [],
         "y": []
        },
        {
         "type": "bar",
         "x": [],
         "y": []
        },
        {
         "type": "bar",
         "x": [
          1,
          4
         ],
         "y": [
          29,
          3
         ]
        },
        {
         "type": "bar",
         "x": [
          1
         ],
         "y": [
          25
         ]
        },
        {
         "type": "bar",
         "x": [
          1,
          4
         ],
         "y": [
          17,
          2
         ]
        }
       ],
       "layout": {
        "margin": {
         "b": 100,
         "l": 50,
         "pad": 4,
         "r": 50,
         "t": 100
        },
        "showlegend": false,
        "title": "Frequency distribution for diagnosis across dispositions.",
        "updatemenus": [
         {
          "active": 0,
          "buttons": [
           {
            "args": [
             {
              "visible": [
               true,
               false,
               false,
               false,
               false,
               false,
               false,
               false,
               false,
               false,
               false,
               false,
               false,
               false,
               false,
               false,
               false,
               false,
               false,
               false,
               false,
               false,
               false,
               false,
               false,
               false,
               false,
               false,
               false,
               false,
               false,
               false,
               false,
               false,
               false,
               false,
               false,
               false,
               false,
               false,
               false
              ]
             },
             {
              "title": "Distribution of all diagnosis across dispositions"
             }
            ],
            "label": "All",
            "method": "update"
           },
           {
            "args": [
             {
              "visible": [
               false,
               true,
               false,
               false,
               false,
               false,
               false,
               false,
               false,
               false,
               false,
               false,
               false,
               false,
               false,
               false,
               false,
               false,
               false,
               false,
               false,
               false,
               false,
               false,
               false,
               false,
               false,
               false,
               false,
               false,
               false,
               false,
               false,
               false,
               false,
               false,
               false,
               false,
               false,
               false,
               false
              ]
             },
             {
              "title": "Distribution of Laceration across dispositions"
             }
            ],
            "label": "Laceration",
            "method": "update"
           },
           {
            "args": [
             {
              "visible": [
               false,
               false,
               true,
               false,
               false,
               false,
               false,
               false,
               false,
               false,
               false,
               false,
               false,
               false,
               false,
               false,
               false,
               false,
               false,
               false,
               false,
               false,
               false,
               false,
               false,
               false,
               false,
               false,
               false,
               false,
               false,
               false,
               false,
               false,
               false,
               false,
               false,
               false,
               false,
               false,
               false
              ]
             },
             {
              "title": "Distribution of Contusions, Abrasion across dispositions"
             }
            ],
            "label": "Contusions, Abrasion",
            "method": "update"
           },
           {
            "args": [
             {
              "visible": [
               false,
               false,
               false,
               true,
               false,
               false,
               false,
               false,
               false,
               false,
               false,
               false,
               false,
               false,
               false,
               false,
               false,
               false,
               false,
               false,
               false,
               false,
               false,
               false,
               false,
               false,
               false,
               false,
               false,
               false,
               false,
               false,
               false,
               false,
               false,
               false,
               false,
               false,
               false,
               false,
               false
              ]
             },
             {
              "title": "Distribution of Strain or Sprain across dispositions"
             }
            ],
            "label": "Strain or Sprain",
            "method": "update"
           },
           {
            "args": [
             {
              "visible": [
               false,
               false,
               false,
               false,
               true,
               false,
               false,
               false,
               false,
               false,
               false,
               false,
               false,
               false,
               false,
               false,
               false,
               false,
               false,
               false,
               false,
               false,
               false,
               false,
               false,
               false,
               false,
               false,
               false,
               false,
               false,
               false,
               false,
               false,
               false,
               false,
               false,
               false,
               false,
               false,
               false
              ]
             },
             {
              "title": "Distribution of Fracture across dispositions"
             }
            ],
            "label": "Fracture",
            "method": "update"
           },
           {
            "args": [
             {
              "visible": [
               false,
               false,
               false,
               false,
               false,
               true,
               false,
               false,
               false,
               false,
               false,
               false,
               false,
               false,
               false,
               false,
               false,
               false,
               false,
               false,
               false,
               false,
               false,
               false,
               false,
               false,
               false,
               false,
               false,
               false,
               false,
               false,
               false,
               false,
               false,
               false,
               false,
               false,
               false,
               false,
               false
              ]
             },
             {
              "title": "Distribution of Internal organ injur across dispositions"
             }
            ],
            "label": "Internal organ injur",
            "method": "update"
           },
           {
            "args": [
             {
              "visible": [
               false,
               false,
               false,
               false,
               false,
               false,
               true,
               false,
               false,
               false,
               false,
               false,
               false,
               false,
               false,
               false,
               false,
               false,
               false,
               false,
               false,
               false,
               false,
               false,
               false,
               false,
               false,
               false,
               false,
               false,
               false,
               false,
               false,
               false,
               false,
               false,
               false,
               false,
               false,
               false,
               false
              ]
             },
             {
              "title": "Distribution of Other/Not Stated across dispositions"
             }
            ],
            "label": "Other/Not Stated",
            "method": "update"
           },
           {
            "args": [
             {
              "visible": [
               false,
               false,
               false,
               false,
               false,
               false,
               false,
               true,
               false,
               false,
               false,
               false,
               false,
               false,
               false,
               false,
               false,
               false,
               false,
               false,
               false,
               false,
               false,
               false,
               false,
               false,
               false,
               false,
               false,
               false,
               false,
               false,
               false,
               false,
               false,
               false,
               false,
               false,
               false,
               false,
               false
              ]
             },
             {
              "title": "Distribution of PAIN across dispositions"
             }
            ],
            "label": "PAIN",
            "method": "update"
           },
           {
            "args": [
             {
              "visible": [
               false,
               false,
               false,
               false,
               false,
               false,
               false,
               false,
               true,
               false,
               false,
               false,
               false,
               false,
               false,
               false,
               false,
               false,
               false,
               false,
               false,
               false,
               false,
               false,
               false,
               false,
               false,
               false,
               false,
               false,
               false,
               false,
               false,
               false,
               false,
               false,
               false,
               false,
               false,
               false,
               false
              ]
             },
             {
              "title": "Distribution of Concussions across dispositions"
             }
            ],
            "label": "Concussions",
            "method": "update"
           },
           {
            "args": [
             {
              "visible": [
               false,
               false,
               false,
               false,
               false,
               false,
               false,
               false,
               false,
               true,
               false,
               false,
               false,
               false,
               false,
               false,
               false,
               false,
               false,
               false,
               false,
               false,
               false,
               false,
               false,
               false,
               false,
               false,
               false,
               false,
               false,
               false,
               false,
               false,
               false,
               false,
               false,
               false,
               false,
               false,
               false
              ]
             },
             {
              "title": "Distribution of Foreign body across dispositions"
             }
            ],
            "label": "Foreign body",
            "method": "update"
           },
           {
            "args": [
             {
              "visible": [
               false,
               false,
               false,
               false,
               false,
               false,
               false,
               false,
               false,
               false,
               true,
               false,
               false,
               false,
               false,
               false,
               false,
               false,
               false,
               false,
               false,
               false,
               false,
               false,
               false,
               false,
               false,
               false,
               false,
               false,
               false,
               false,
               false,
               false,
               false,
               false,
               false,
               false,
               false,
               false,
               false
              ]
             },
             {
              "title": "Distribution of Dislocation across dispositions"
             }
            ],
            "label": "Dislocation",
            "method": "update"
           },
           {
            "args": [
             {
              "visible": [
               false,
               false,
               false,
               false,
               false,
               false,
               false,
               false,
               false,
               false,
               false,
               true,
               false,
               false,
               false,
               false,
               false,
               false,
               false,
               false,
               false,
               false,
               false,
               false,
               false,
               false,
               false,
               false,
               false,
               false,
               false,
               false,
               false,
               false,
               false,
               false,
               false,
               false,
               false,
               false,
               false
              ]
             },
             {
              "title": "Distribution of Poisoning across dispositions"
             }
            ],
            "label": "Poisoning",
            "method": "update"
           },
           {
            "args": [
             {
              "visible": [
               false,
               false,
               false,
               false,
               false,
               false,
               false,
               false,
               false,
               false,
               false,
               false,
               true,
               false,
               false,
               false,
               false,
               false,
               false,
               false,
               false,
               false,
               false,
               false,
               false,
               false,
               false,
               false,
               false,
               false,
               false,
               false,
               false,
               false,
               false,
               false,
               false,
               false,
               false,
               false,
               false
              ]
             },
             {
              "title": "Distribution of Puncture across dispositions"
             }
            ],
            "label": "Puncture",
            "method": "update"
           },
           {
            "args": [
             {
              "visible": [
               false,
               false,
               false,
               false,
               false,
               false,
               false,
               false,
               false,
               false,
               false,
               false,
               false,
               true,
               false,
               false,
               false,
               false,
               false,
               false,
               false,
               false,
               false,
               false,
               false,
               false,
               false,
               false,
               false,
               false,
               false,
               false,
               false,
               false,
               false,
               false,
               false,
               false,
               false,
               false,
               false
              ]
             },
             {
              "title": "Distribution of Hematoma across dispositions"
             }
            ],
            "label": "Hematoma",
            "method": "update"
           },
           {
            "args": [
             {
              "visible": [
               false,
               false,
               false,
               false,
               false,
               false,
               false,
               false,
               false,
               false,
               false,
               false,
               false,
               false,
               true,
               false,
               false,
               false,
               false,
               false,
               false,
               false,
               false,
               false,
               false,
               false,
               false,
               false,
               false,
               false,
               false,
               false,
               false,
               false,
               false,
               false,
               false,
               false,
               false,
               false,
               false
              ]
             },
             {
              "title": "Distribution of Burns, thermal (from across dispositions"
             }
            ],
            "label": "Burns, thermal (from",
            "method": "update"
           },
           {
            "args": [
             {
              "visible": [
               false,
               false,
               false,
               false,
               false,
               false,
               false,
               false,
               false,
               false,
               false,
               false,
               false,
               false,
               false,
               true,
               false,
               false,
               false,
               false,
               false,
               false,
               false,
               false,
               false,
               false,
               false,
               false,
               false,
               false,
               false,
               false,
               false,
               false,
               false,
               false,
               false,
               false,
               false,
               false,
               false
              ]
             },
             {
              "title": "Distribution of Ingested foreign obj across dispositions"
             }
            ],
            "label": "Ingested foreign obj",
            "method": "update"
           },
           {
            "args": [
             {
              "visible": [
               false,
               false,
               false,
               false,
               false,
               false,
               false,
               false,
               false,
               false,
               false,
               false,
               false,
               false,
               false,
               false,
               true,
               false,
               false,
               false,
               false,
               false,
               false,
               false,
               false,
               false,
               false,
               false,
               false,
               false,
               false,
               false,
               false,
               false,
               false,
               false,
               false,
               false,
               false,
               false,
               false
              ]
             },
             {
              "title": "Distribution of Dermatitis, Conjunct across dispositions"
             }
            ],
            "label": "Dermatitis, Conjunct",
            "method": "update"
           },
           {
            "args": [
             {
              "visible": [
               false,
               false,
               false,
               false,
               false,
               false,
               false,
               false,
               false,
               false,
               false,
               false,
               false,
               false,
               false,
               false,
               false,
               true,
               false,
               false,
               false,
               false,
               false,
               false,
               false,
               false,
               false,
               false,
               false,
               false,
               false,
               false,
               false,
               false,
               false,
               false,
               false,
               false,
               false,
               false,
               false
              ]
             },
             {
              "title": "Distribution of Burns, scald (from h across dispositions"
             }
            ],
            "label": "Burns, scald (from h",
            "method": "update"
           },
           {
            "args": [
             {
              "visible": [
               false,
               false,
               false,
               false,
               false,
               false,
               false,
               false,
               false,
               false,
               false,
               false,
               false,
               false,
               false,
               false,
               false,
               false,
               true,
               false,
               false,
               false,
               false,
               false,
               false,
               false,
               false,
               false,
               false,
               false,
               false,
               false,
               false,
               false,
               false,
               false,
               false,
               false,
               false,
               false,
               false
              ]
             },
             {
              "title": "Distribution of Avulsion across dispositions"
             }
            ],
            "label": "Avulsion",
            "method": "update"
           },
           {
            "args": [
             {
              "visible": [
               false,
               false,
               false,
               false,
               false,
               false,
               false,
               false,
               false,
               false,
               false,
               false,
               false,
               false,
               false,
               false,
               false,
               false,
               false,
               true,
               false,
               false,
               false,
               false,
               false,
               false,
               false,
               false,
               false,
               false,
               false,
               false,
               false,
               false,
               false,
               false,
               false,
               false,
               false,
               false,
               false
              ]
             },
             {
              "title": "Distribution of BACK PAIN across dispositions"
             }
            ],
            "label": "BACK PAIN",
            "method": "update"
           },
           {
            "args": [
             {
              "visible": [
               false,
               false,
               false,
               false,
               false,
               false,
               false,
               false,
               false,
               false,
               false,
               false,
               false,
               false,
               false,
               false,
               false,
               false,
               false,
               false,
               true,
               false,
               false,
               false,
               false,
               false,
               false,
               false,
               false,
               false,
               false,
               false,
               false,
               false,
               false,
               false,
               false,
               false,
               false,
               false,
               false
              ]
             },
             {
              "title": "Distribution of Dental injury across dispositions"
             }
            ],
            "label": "Dental injury",
            "method": "update"
           },
           {
            "args": [
             {
              "visible": [
               false,
               false,
               false,
               false,
               false,
               false,
               false,
               false,
               false,
               false,
               false,
               false,
               false,
               false,
               false,
               false,
               false,
               false,
               false,
               false,
               false,
               true,
               false,
               false,
               false,
               false,
               false,
               false,
               false,
               false,
               false,
               false,
               false,
               false,
               false,
               false,
               false,
               false,
               false,
               false,
               false
              ]
             },
             {
              "title": "Distribution of INJURY across dispositions"
             }
            ],
            "label": "INJURY",
            "method": "update"
           },
           {
            "args": [
             {
              "visible": [
               false,
               false,
               false,
               false,
               false,
               false,
               false,
               false,
               false,
               false,
               false,
               false,
               false,
               false,
               false,
               false,
               false,
               false,
               false,
               false,
               false,
               false,
               true,
               false,
               false,
               false,
               false,
               false,
               false,
               false,
               false,
               false,
               false,
               false,
               false,
               false,
               false,
               false,
               false,
               false,
               false
              ]
             },
             {
              "title": "Distribution of LOW BACK PAIN across dispositions"
             }
            ],
            "label": "LOW BACK PAIN",
            "method": "update"
           },
           {
            "args": [
             {
              "visible": [
               false,
               false,
               false,
               false,
               false,
               false,
               false,
               false,
               false,
               false,
               false,
               false,
               false,
               false,
               false,
               false,
               false,
               false,
               false,
               false,
               false,
               false,
               false,
               true,
               false,
               false,
               false,
               false,
               false,
               false,
               false,
               false,
               false,
               false,
               false,
               false,
               false,
               false,
               false,
               false,
               false
              ]
             },
             {
              "title": "Distribution of Nerve damage across dispositions"
             }
            ],
            "label": "Nerve damage",
            "method": "update"
           },
           {
            "args": [
             {
              "visible": [
               false,
               false,
               false,
               false,
               false,
               false,
               false,
               false,
               false,
               false,
               false,
               false,
               false,
               false,
               false,
               false,
               false,
               false,
               false,
               false,
               false,
               false,
               false,
               false,
               true,
               false,
               false,
               false,
               false,
               false,
               false,
               false,
               false,
               false,
               false,
               false,
               false,
               false,
               false,
               false,
               false
              ]
             },
             {
              "title": "Distribution of CHEST PAIN across dispositions"
             }
            ],
            "label": "CHEST PAIN",
            "method": "update"
           },
           {
            "args": [
             {
              "visible": [
               false,
               false,
               false,
               false,
               false,
               false,
               false,
               false,
               false,
               false,
               false,
               false,
               false,
               false,
               false,
               false,
               false,
               false,
               false,
               false,
               false,
               false,
               false,
               false,
               false,
               true,
               false,
               false,
               false,
               false,
               false,
               false,
               false,
               false,
               false,
               false,
               false,
               false,
               false,
               false,
               false
              ]
             },
             {
              "title": "Distribution of CELLULITIS across dispositions"
             }
            ],
            "label": "CELLULITIS",
            "method": "update"
           },
           {
            "args": [
             {
              "visible": [
               false,
               false,
               false,
               false,
               false,
               false,
               false,
               false,
               false,
               false,
               false,
               false,
               false,
               false,
               false,
               false,
               false,
               false,
               false,
               false,
               false,
               false,
               false,
               false,
               false,
               false,
               true,
               false,
               false,
               false,
               false,
               false,
               false,
               false,
               false,
               false,
               false,
               false,
               false,
               false,
               false
              ]
             },
             {
              "title": "Distribution of Anoxia across dispositions"
             }
            ],
            "label": "Anoxia",
            "method": "update"
           },
           {
            "args": [
             {
              "visible": [
               false,
               false,
               false,
               false,
               false,
               false,
               false,
               false,
               false,
               false,
               false,
               false,
               false,
               false,
               false,
               false,
               false,
               false,
               false,
               false,
               false,
               false,
               false,
               false,
               false,
               false,
               false,
               true,
               false,
               false,
               false,
               false,
               false,
               false,
               false,
               false,
               false,
               false,
               false,
               false,
               false
              ]
             },
             {
              "title": "Distribution of TRAUMA across dispositions"
             }
            ],
            "label": "TRAUMA",
            "method": "update"
           },
           {
            "args": [
             {
              "visible": [
               false,
               false,
               false,
               false,
               false,
               false,
               false,
               false,
               false,
               false,
               false,
               false,
               false,
               false,
               false,
               false,
               false,
               false,
               false,
               false,
               false,
               false,
               false,
               false,
               false,
               false,
               false,
               false,
               true,
               false,
               false,
               false,
               false,
               false,
               false,
               false,
               false,
               false,
               false,
               false,
               false
              ]
             },
             {
              "title": "Distribution of SYNCOPE across dispositions"
             }
            ],
            "label": "SYNCOPE",
            "method": "update"
           },
           {
            "args": [
             {
              "visible": [
               false,
               false,
               false,
               false,
               false,
               false,
               false,
               false,
               false,
               false,
               false,
               false,
               false,
               false,
               false,
               false,
               false,
               false,
               false,
               false,
               false,
               false,
               false,
               false,
               false,
               false,
               false,
               false,
               false,
               true,
               false,
               false,
               false,
               false,
               false,
               false,
               false,
               false,
               false,
               false,
               false
              ]
             },
             {
              "title": "Distribution of KNEE PAIN across dispositions"
             }
            ],
            "label": "KNEE PAIN",
            "method": "update"
           },
           {
            "args": [
             {
              "visible": [
               false,
               false,
               false,
               false,
               false,
               false,
               false,
               false,
               false,
               false,
               false,
               false,
               false,
               false,
               false,
               false,
               false,
               false,
               false,
               false,
               false,
               false,
               false,
               false,
               false,
               false,
               false,
               false,
               false,
               false,
               true,
               false,
               false,
               false,
               false,
               false,
               false,
               false,
               false,
               false,
               false
              ]
             },
             {
              "title": "Distribution of Crushing across dispositions"
             }
            ],
            "label": "Crushing",
            "method": "update"
           },
           {
            "args": [
             {
              "visible": [
               false,
               false,
               false,
               false,
               false,
               false,
               false,
               false,
               false,
               false,
               false,
               false,
               false,
               false,
               false,
               false,
               false,
               false,
               false,
               false,
               false,
               false,
               false,
               false,
               false,
               false,
               false,
               false,
               false,
               false,
               false,
               true,
               false,
               false,
               false,
               false,
               false,
               false,
               false,
               false,
               false
              ]
             },
             {
              "title": "Distribution of Amputation across dispositions"
             }
            ],
            "label": "Amputation",
            "method": "update"
           },
           {
            "args": [
             {
              "visible": [
               false,
               false,
               false,
               false,
               false,
               false,
               false,
               false,
               false,
               false,
               false,
               false,
               false,
               false,
               false,
               false,
               false,
               false,
               false,
               false,
               false,
               false,
               false,
               false,
               false,
               false,
               false,
               false,
               false,
               false,
               false,
               false,
               true,
               false,
               false,
               false,
               false,
               false,
               false,
               false,
               false
              ]
             },
             {
              "title": "Distribution of SHOULDER PAIN across dispositions"
             }
            ],
            "label": "SHOULDER PAIN",
            "method": "update"
           },
           {
            "args": [
             {
              "visible": [
               false,
               false,
               false,
               false,
               false,
               false,
               false,
               false,
               false,
               false,
               false,
               false,
               false,
               false,
               false,
               false,
               false,
               false,
               false,
               false,
               false,
               false,
               false,
               false,
               false,
               false,
               false,
               false,
               false,
               false,
               false,
               false,
               false,
               true,
               false,
               false,
               false,
               false,
               false,
               false,
               false
              ]
             },
             {
              "title": "Distribution of Burns, chemical (cau across dispositions"
             }
            ],
            "label": "Burns, chemical (cau",
            "method": "update"
           },
           {
            "args": [
             {
              "visible": [
               false,
               false,
               false,
               false,
               false,
               false,
               false,
               false,
               false,
               false,
               false,
               false,
               false,
               false,
               false,
               false,
               false,
               false,
               false,
               false,
               false,
               false,
               false,
               false,
               false,
               false,
               false,
               false,
               false,
               false,
               false,
               false,
               false,
               false,
               true,
               false,
               false,
               false,
               false,
               false,
               false
              ]
             },
             {
              "title": "Distribution of Aspirated foreign ob across dispositions"
             }
            ],
            "label": "Aspirated foreign ob",
            "method": "update"
           },
           {
            "args": [
             {
              "visible": [
               false,
               false,
               false,
               false,
               false,
               false,
               false,
               false,
               false,
               false,
               false,
               false,
               false,
               false,
               false,
               false,
               false,
               false,
               false,
               false,
               false,
               false,
               false,
               false,
               false,
               false,
               false,
               false,
               false,
               false,
               false,
               false,
               false,
               false,
               false,
               true,
               false,
               false,
               false,
               false,
               false
              ]
             },
             {
              "title": "Distribution of Hemorrhage across dispositions"
             }
            ],
            "label": "Hemorrhage",
            "method": "update"
           },
           {
            "args": [
             {
              "visible": [
               false,
               false,
               false,
               false,
               false,
               false,
               false,
               false,
               false,
               false,
               false,
               false,
               false,
               false,
               false,
               false,
               false,
               false,
               false,
               false,
               false,
               false,
               false,
               false,
               false,
               false,
               false,
               false,
               false,
               false,
               false,
               false,
               false,
               false,
               false,
               false,
               true,
               false,
               false,
               false,
               false
              ]
             },
             {
              "title": "Distribution of Submersion (includin across dispositions"
             }
            ],
            "label": "Submersion (includin",
            "method": "update"
           },
           {
            "args": [
             {
              "visible": [
               false,
               false,
               false,
               false,
               false,
               false,
               false,
               false,
               false,
               false,
               false,
               false,
               false,
               false,
               false,
               false,
               false,
               false,
               false,
               false,
               false,
               false,
               false,
               false,
               false,
               false,
               false,
               false,
               false,
               false,
               false,
               false,
               false,
               false,
               false,
               false,
               false,
               true,
               false,
               false,
               false
              ]
             },
             {
              "title": "Distribution of Burns, radiation (in across dispositions"
             }
            ],
            "label": "Burns, radiation (in",
            "method": "update"
           },
           {
            "args": [
             {
              "visible": [
               false,
               false,
               false,
               false,
               false,
               false,
               false,
               false,
               false,
               false,
               false,
               false,
               false,
               false,
               false,
               false,
               false,
               false,
               false,
               false,
               false,
               false,
               false,
               false,
               false,
               false,
               false,
               false,
               false,
               false,
               false,
               false,
               false,
               false,
               false,
               false,
               false,
               false,
               true,
               false,
               false
              ]
             },
             {
              "title": "Distribution of Electric shock across dispositions"
             }
            ],
            "label": "Electric shock",
            "method": "update"
           },
           {
            "args": [
             {
              "visible": [
               false,
               false,
               false,
               false,
               false,
               false,
               false,
               false,
               false,
               false,
               false,
               false,
               false,
               false,
               false,
               false,
               false,
               false,
               false,
               false,
               false,
               false,
               false,
               false,
               false,
               false,
               false,
               false,
               false,
               false,
               false,
               false,
               false,
               false,
               false,
               false,
               false,
               false,
               false,
               true,
               false
              ]
             },
             {
              "title": "Distribution of Burns, electrical across dispositions"
             }
            ],
            "label": "Burns, electrical",
            "method": "update"
           },
           {
            "args": [
             {
              "visible": [
               false,
               false,
               false,
               false,
               false,
               false,
               false,
               false,
               false,
               false,
               false,
               false,
               false,
               false,
               false,
               false,
               false,
               false,
               false,
               false,
               false,
               false,
               false,
               false,
               false,
               false,
               false,
               false,
               false,
               false,
               false,
               false,
               false,
               false,
               false,
               false,
               false,
               false,
               false,
               false,
               true
              ]
             },
             {
              "title": "Distribution of Burns, not specified across dispositions"
             }
            ],
            "label": "Burns, not specified",
            "method": "update"
           }
          ]
         }
        ]
       }
      },
      "text/html": [
       "<div id=\"f654292c-bd09-48e9-b9d3-d227cdffa04f\" style=\"height: 525px; width: 100%;\" class=\"plotly-graph-div\"></div><script type=\"text/javascript\">require([\"plotly\"], function(Plotly) { window.PLOTLYENV=window.PLOTLYENV || {};window.PLOTLYENV.BASE_URL=\"https://plot.ly\";Plotly.newPlot(\"f654292c-bd09-48e9-b9d3-d227cdffa04f\", [{\"type\": \"bar\", \"y\": [59807, 651, 3979, 415, 619, 28], \"x\": [1, 2, 4, 5, 6, 8]}, {\"type\": \"bar\", \"y\": [11910, 41, 185, 48, 123], \"x\": [1, 2, 4, 5, 6]}, {\"type\": \"bar\", \"y\": [], \"x\": []}, {\"type\": \"bar\", \"y\": [10248, 11, 43, 3, 21], \"x\": [1, 2, 4, 5, 6]}, {\"type\": \"bar\", \"y\": [7561, 267, 1811, 88, 6, 2], \"x\": [1, 2, 4, 5, 6, 8]}, {\"type\": \"bar\", \"y\": [], \"x\": []}, {\"type\": \"bar\", \"y\": [3372, 39, 245, 31, 107, 13], \"x\": [1, 2, 4, 5, 6, 8]}, {\"type\": \"bar\", \"y\": [2265, 15, 220, 32, 123], \"x\": [1, 2, 4, 5, 6]}, {\"type\": \"bar\", \"y\": [1399, 4, 70, 15, 7], \"x\": [1, 2, 4, 5, 6]}, {\"type\": \"bar\", \"y\": [1241, 8, 10, 1, 10], \"x\": [1, 2, 4, 5, 6]}, {\"type\": \"bar\", \"y\": [928, 8, 43, 6, 3], \"x\": [1, 2, 4, 5, 6]}, {\"type\": \"bar\", \"y\": [554, 18, 88, 39, 24, 1], \"x\": [1, 2, 4, 5, 6, 8]}, {\"type\": \"bar\", \"y\": [612, 15, 2, 7], \"x\": [1, 4, 5, 6]}, {\"type\": \"bar\", \"y\": [472, 1, 42, 7, 12], \"x\": [1, 2, 4, 5, 6]}, {\"type\": \"bar\", \"y\": [], \"x\": []}, {\"type\": \"bar\", \"y\": [], \"x\": []}, {\"type\": \"bar\", \"y\": [], \"x\": []}, {\"type\": \"bar\", \"y\": [], \"x\": []}, {\"type\": \"bar\", \"y\": [318, 4, 12, 1, 2], \"x\": [1, 2, 4, 5, 6]}, {\"type\": \"bar\", \"y\": [248, 3, 8, 2, 10], \"x\": [1, 2, 4, 5, 6]}, {\"type\": \"bar\", \"y\": [242, 2, 2, 1, 4], \"x\": [1, 2, 4, 5, 6]}, {\"type\": \"bar\", \"y\": [217, 1, 1, 4], \"x\": [1, 2, 4, 6]}, {\"type\": \"bar\", \"y\": [195, 3, 1, 2], \"x\": [1, 4, 5, 6]}, {\"type\": \"bar\", \"y\": [179, 2, 17], \"x\": [1, 2, 4]}, {\"type\": \"bar\", \"y\": [129, 59, 7], \"x\": [1, 4, 5]}, {\"type\": \"bar\", \"y\": [159, 3, 28, 1], \"x\": [1, 2, 4, 6]}, {\"type\": \"bar\", \"y\": [147, 3, 13, 3, 3, 1], \"x\": [1, 2, 4, 5, 6, 8]}, {\"type\": \"bar\", \"y\": [153, 1, 5, 1], \"x\": [1, 2, 4, 6]}, {\"type\": \"bar\", \"y\": [103, 1, 40, 9, 1], \"x\": [1, 2, 4, 5, 6]}, {\"type\": \"bar\", \"y\": [142, 3, 1, 5], \"x\": [1, 4, 5, 6]}, {\"type\": \"bar\", \"y\": [146, 3], \"x\": [1, 2]}, {\"type\": \"bar\", \"y\": [88, 12, 20, 3, 2], \"x\": [1, 2, 4, 5, 6]}, {\"type\": \"bar\", \"y\": [108, 1, 3], \"x\": [1, 4, 6]}, {\"type\": \"bar\", \"y\": [], \"x\": []}, {\"type\": \"bar\", \"y\": [], \"x\": []}, {\"type\": \"bar\", \"y\": [58, 4, 1, 1], \"x\": [1, 2, 4, 5]}, {\"type\": \"bar\", \"y\": [], \"x\": []}, {\"type\": \"bar\", \"y\": [], \"x\": []}, {\"type\": \"bar\", \"y\": [29, 3], \"x\": [1, 4]}, {\"type\": \"bar\", \"y\": [25], \"x\": [1]}, {\"type\": \"bar\", \"y\": [17, 2], \"x\": [1, 4]}], {\"margin\": {\"pad\": 4, \"t\": 100, \"b\": 100, \"l\": 50, \"r\": 50}, \"updatemenus\": [{\"buttons\": [{\"args\": [{\"visible\": [true, false, false, false, false, false, false, false, false, false, false, false, false, false, false, false, false, false, false, false, false, false, false, false, false, false, false, false, false, false, false, false, false, false, false, false, false, false, false, false, false]}, {\"title\": \"Distribution of all diagnosis across dispositions\"}], \"label\": \"All\", \"method\": \"update\"}, {\"args\": [{\"visible\": [false, true, false, false, false, false, false, false, false, false, false, false, false, false, false, false, false, false, false, false, false, false, false, false, false, false, false, false, false, false, false, false, false, false, false, false, false, false, false, false, false]}, {\"title\": \"Distribution of Laceration across dispositions\"}], \"label\": \"Laceration\", \"method\": \"update\"}, {\"args\": [{\"visible\": [false, false, true, false, false, false, false, false, false, false, false, false, false, false, false, false, false, false, false, false, false, false, false, false, false, false, false, false, false, false, false, false, false, false, false, false, false, false, false, false, false]}, {\"title\": \"Distribution of Contusions, Abrasion across dispositions\"}], \"label\": \"Contusions, Abrasion\", \"method\": \"update\"}, {\"args\": [{\"visible\": [false, false, false, true, false, false, false, false, false, false, false, false, false, false, false, false, false, false, false, false, false, false, false, false, false, false, false, false, false, false, false, false, false, false, false, false, false, false, false, false, false]}, {\"title\": \"Distribution of Strain or Sprain across dispositions\"}], \"label\": \"Strain or Sprain\", \"method\": \"update\"}, {\"args\": [{\"visible\": [false, false, false, false, true, false, false, false, false, false, false, false, false, false, false, false, false, false, false, false, false, false, false, false, false, false, false, false, false, false, false, false, false, false, false, false, false, false, false, false, false]}, {\"title\": \"Distribution of Fracture across dispositions\"}], \"label\": \"Fracture\", \"method\": \"update\"}, {\"args\": [{\"visible\": [false, false, false, false, false, true, false, false, false, false, false, false, false, false, false, false, false, false, false, false, false, false, false, false, false, false, false, false, false, false, false, false, false, false, false, false, false, false, false, false, false]}, {\"title\": \"Distribution of Internal organ injur across dispositions\"}], \"label\": \"Internal organ injur\", \"method\": \"update\"}, {\"args\": [{\"visible\": [false, false, false, false, false, false, true, false, false, false, false, false, false, false, false, false, false, false, false, false, false, false, false, false, false, false, false, false, false, false, false, false, false, false, false, false, false, false, false, false, false]}, {\"title\": \"Distribution of Other/Not Stated across dispositions\"}], \"label\": \"Other/Not Stated\", \"method\": \"update\"}, {\"args\": [{\"visible\": [false, false, false, false, false, false, false, true, false, false, false, false, false, false, false, false, false, false, false, false, false, false, false, false, false, false, false, false, false, false, false, false, false, false, false, false, false, false, false, false, false]}, {\"title\": \"Distribution of PAIN across dispositions\"}], \"label\": \"PAIN\", \"method\": \"update\"}, {\"args\": [{\"visible\": [false, false, false, false, false, false, false, false, true, false, false, false, false, false, false, false, false, false, false, false, false, false, false, false, false, false, false, false, false, false, false, false, false, false, false, false, false, false, false, false, false]}, {\"title\": \"Distribution of Concussions across dispositions\"}], \"label\": \"Concussions\", \"method\": \"update\"}, {\"args\": [{\"visible\": [false, false, false, false, false, false, false, false, false, true, false, false, false, false, false, false, false, false, false, false, false, false, false, false, false, false, false, false, false, false, false, false, false, false, false, false, false, false, false, false, false]}, {\"title\": \"Distribution of Foreign body across dispositions\"}], \"label\": \"Foreign body\", \"method\": \"update\"}, {\"args\": [{\"visible\": [false, false, false, false, false, false, false, false, false, false, true, false, false, false, false, false, false, false, false, false, false, false, false, false, false, false, false, false, false, false, false, false, false, false, false, false, false, false, false, false, false]}, {\"title\": \"Distribution of Dislocation across dispositions\"}], \"label\": \"Dislocation\", \"method\": \"update\"}, {\"args\": [{\"visible\": [false, false, false, false, false, false, false, false, false, false, false, true, false, false, false, false, false, false, false, false, false, false, false, false, false, false, false, false, false, false, false, false, false, false, false, false, false, false, false, false, false]}, {\"title\": \"Distribution of Poisoning across dispositions\"}], \"label\": \"Poisoning\", \"method\": \"update\"}, {\"args\": [{\"visible\": [false, false, false, false, false, false, false, false, false, false, false, false, true, false, false, false, false, false, false, false, false, false, false, false, false, false, false, false, false, false, false, false, false, false, false, false, false, false, false, false, false]}, {\"title\": \"Distribution of Puncture across dispositions\"}], \"label\": \"Puncture\", \"method\": \"update\"}, {\"args\": [{\"visible\": [false, false, false, false, false, false, false, false, false, false, false, false, false, true, false, false, false, false, false, false, false, false, false, false, false, false, false, false, false, false, false, false, false, false, false, false, false, false, false, false, false]}, {\"title\": \"Distribution of Hematoma across dispositions\"}], \"label\": \"Hematoma\", \"method\": \"update\"}, {\"args\": [{\"visible\": [false, false, false, false, false, false, false, false, false, false, false, false, false, false, true, false, false, false, false, false, false, false, false, false, false, false, false, false, false, false, false, false, false, false, false, false, false, false, false, false, false]}, {\"title\": \"Distribution of Burns, thermal (from across dispositions\"}], \"label\": \"Burns, thermal (from\", \"method\": \"update\"}, {\"args\": [{\"visible\": [false, false, false, false, false, false, false, false, false, false, false, false, false, false, false, true, false, false, false, false, false, false, false, false, false, false, false, false, false, false, false, false, false, false, false, false, false, false, false, false, false]}, {\"title\": \"Distribution of Ingested foreign obj across dispositions\"}], \"label\": \"Ingested foreign obj\", \"method\": \"update\"}, {\"args\": [{\"visible\": [false, false, false, false, false, false, false, false, false, false, false, false, false, false, false, false, true, false, false, false, false, false, false, false, false, false, false, false, false, false, false, false, false, false, false, false, false, false, false, false, false]}, {\"title\": \"Distribution of Dermatitis, Conjunct across dispositions\"}], \"label\": \"Dermatitis, Conjunct\", \"method\": \"update\"}, {\"args\": [{\"visible\": [false, false, false, false, false, false, false, false, false, false, false, false, false, false, false, false, false, true, false, false, false, false, false, false, false, false, false, false, false, false, false, false, false, false, false, false, false, false, false, false, false]}, {\"title\": \"Distribution of Burns, scald (from h across dispositions\"}], \"label\": \"Burns, scald (from h\", \"method\": \"update\"}, {\"args\": [{\"visible\": [false, false, false, false, false, false, false, false, false, false, false, false, false, false, false, false, false, false, true, false, false, false, false, false, false, false, false, false, false, false, false, false, false, false, false, false, false, false, false, false, false]}, {\"title\": \"Distribution of Avulsion across dispositions\"}], \"label\": \"Avulsion\", \"method\": \"update\"}, {\"args\": [{\"visible\": [false, false, false, false, false, false, false, false, false, false, false, false, false, false, false, false, false, false, false, true, false, false, false, false, false, false, false, false, false, false, false, false, false, false, false, false, false, false, false, false, false]}, {\"title\": \"Distribution of BACK PAIN across dispositions\"}], \"label\": \"BACK PAIN\", \"method\": \"update\"}, {\"args\": [{\"visible\": [false, false, false, false, false, false, false, false, false, false, false, false, false, false, false, false, false, false, false, false, true, false, false, false, false, false, false, false, false, false, false, false, false, false, false, false, false, false, false, false, false]}, {\"title\": \"Distribution of Dental injury across dispositions\"}], \"label\": \"Dental injury\", \"method\": \"update\"}, {\"args\": [{\"visible\": [false, false, false, false, false, false, false, false, false, false, false, false, false, false, false, false, false, false, false, false, false, true, false, false, false, false, false, false, false, false, false, false, false, false, false, false, false, false, false, false, false]}, {\"title\": \"Distribution of INJURY across dispositions\"}], \"label\": \"INJURY\", \"method\": \"update\"}, {\"args\": [{\"visible\": [false, false, false, false, false, false, false, false, false, false, false, false, false, false, false, false, false, false, false, false, false, false, true, false, false, false, false, false, false, false, false, false, false, false, false, false, false, false, false, false, false]}, {\"title\": \"Distribution of LOW BACK PAIN across dispositions\"}], \"label\": \"LOW BACK PAIN\", \"method\": \"update\"}, {\"args\": [{\"visible\": [false, false, false, false, false, false, false, false, false, false, false, false, false, false, false, false, false, false, false, false, false, false, false, true, false, false, false, false, false, false, false, false, false, false, false, false, false, false, false, false, false]}, {\"title\": \"Distribution of Nerve damage across dispositions\"}], \"label\": \"Nerve damage\", \"method\": \"update\"}, {\"args\": [{\"visible\": [false, false, false, false, false, false, false, false, false, false, false, false, false, false, false, false, false, false, false, false, false, false, false, false, true, false, false, false, false, false, false, false, false, false, false, false, false, false, false, false, false]}, {\"title\": \"Distribution of CHEST PAIN across dispositions\"}], \"label\": \"CHEST PAIN\", \"method\": \"update\"}, {\"args\": [{\"visible\": [false, false, false, false, false, false, false, false, false, false, false, false, false, false, false, false, false, false, false, false, false, false, false, false, false, true, false, false, false, false, false, false, false, false, false, false, false, false, false, false, false]}, {\"title\": \"Distribution of CELLULITIS across dispositions\"}], \"label\": \"CELLULITIS\", \"method\": \"update\"}, {\"args\": [{\"visible\": [false, false, false, false, false, false, false, false, false, false, false, false, false, false, false, false, false, false, false, false, false, false, false, false, false, false, true, false, false, false, false, false, false, false, false, false, false, false, false, false, false]}, {\"title\": \"Distribution of Anoxia across dispositions\"}], \"label\": \"Anoxia\", \"method\": \"update\"}, {\"args\": [{\"visible\": [false, false, false, false, false, false, false, false, false, false, false, false, false, false, false, false, false, false, false, false, false, false, false, false, false, false, false, true, false, false, false, false, false, false, false, false, false, false, false, false, false]}, {\"title\": \"Distribution of TRAUMA across dispositions\"}], \"label\": \"TRAUMA\", \"method\": \"update\"}, {\"args\": [{\"visible\": [false, false, false, false, false, false, false, false, false, false, false, false, false, false, false, false, false, false, false, false, false, false, false, false, false, false, false, false, true, false, false, false, false, false, false, false, false, false, false, false, false]}, {\"title\": \"Distribution of SYNCOPE across dispositions\"}], \"label\": \"SYNCOPE\", \"method\": \"update\"}, {\"args\": [{\"visible\": [false, false, false, false, false, false, false, false, false, false, false, false, false, false, false, false, false, false, false, false, false, false, false, false, false, false, false, false, false, true, false, false, false, false, false, false, false, false, false, false, false]}, {\"title\": \"Distribution of KNEE PAIN across dispositions\"}], \"label\": \"KNEE PAIN\", \"method\": \"update\"}, {\"args\": [{\"visible\": [false, false, false, false, false, false, false, false, false, false, false, false, false, false, false, false, false, false, false, false, false, false, false, false, false, false, false, false, false, false, true, false, false, false, false, false, false, false, false, false, false]}, {\"title\": \"Distribution of Crushing across dispositions\"}], \"label\": \"Crushing\", \"method\": \"update\"}, {\"args\": [{\"visible\": [false, false, false, false, false, false, false, false, false, false, false, false, false, false, false, false, false, false, false, false, false, false, false, false, false, false, false, false, false, false, false, true, false, false, false, false, false, false, false, false, false]}, {\"title\": \"Distribution of Amputation across dispositions\"}], \"label\": \"Amputation\", \"method\": \"update\"}, {\"args\": [{\"visible\": [false, false, false, false, false, false, false, false, false, false, false, false, false, false, false, false, false, false, false, false, false, false, false, false, false, false, false, false, false, false, false, false, true, false, false, false, false, false, false, false, false]}, {\"title\": \"Distribution of SHOULDER PAIN across dispositions\"}], \"label\": \"SHOULDER PAIN\", \"method\": \"update\"}, {\"args\": [{\"visible\": [false, false, false, false, false, false, false, false, false, false, false, false, false, false, false, false, false, false, false, false, false, false, false, false, false, false, false, false, false, false, false, false, false, true, false, false, false, false, false, false, false]}, {\"title\": \"Distribution of Burns, chemical (cau across dispositions\"}], \"label\": \"Burns, chemical (cau\", \"method\": \"update\"}, {\"args\": [{\"visible\": [false, false, false, false, false, false, false, false, false, false, false, false, false, false, false, false, false, false, false, false, false, false, false, false, false, false, false, false, false, false, false, false, false, false, true, false, false, false, false, false, false]}, {\"title\": \"Distribution of Aspirated foreign ob across dispositions\"}], \"label\": \"Aspirated foreign ob\", \"method\": \"update\"}, {\"args\": [{\"visible\": [false, false, false, false, false, false, false, false, false, false, false, false, false, false, false, false, false, false, false, false, false, false, false, false, false, false, false, false, false, false, false, false, false, false, false, true, false, false, false, false, false]}, {\"title\": \"Distribution of Hemorrhage across dispositions\"}], \"label\": \"Hemorrhage\", \"method\": \"update\"}, {\"args\": [{\"visible\": [false, false, false, false, false, false, false, false, false, false, false, false, false, false, false, false, false, false, false, false, false, false, false, false, false, false, false, false, false, false, false, false, false, false, false, false, true, false, false, false, false]}, {\"title\": \"Distribution of Submersion (includin across dispositions\"}], \"label\": \"Submersion (includin\", \"method\": \"update\"}, {\"args\": [{\"visible\": [false, false, false, false, false, false, false, false, false, false, false, false, false, false, false, false, false, false, false, false, false, false, false, false, false, false, false, false, false, false, false, false, false, false, false, false, false, true, false, false, false]}, {\"title\": \"Distribution of Burns, radiation (in across dispositions\"}], \"label\": \"Burns, radiation (in\", \"method\": \"update\"}, {\"args\": [{\"visible\": [false, false, false, false, false, false, false, false, false, false, false, false, false, false, false, false, false, false, false, false, false, false, false, false, false, false, false, false, false, false, false, false, false, false, false, false, false, false, true, false, false]}, {\"title\": \"Distribution of Electric shock across dispositions\"}], \"label\": \"Electric shock\", \"method\": \"update\"}, {\"args\": [{\"visible\": [false, false, false, false, false, false, false, false, false, false, false, false, false, false, false, false, false, false, false, false, false, false, false, false, false, false, false, false, false, false, false, false, false, false, false, false, false, false, false, true, false]}, {\"title\": \"Distribution of Burns, electrical across dispositions\"}], \"label\": \"Burns, electrical\", \"method\": \"update\"}, {\"args\": [{\"visible\": [false, false, false, false, false, false, false, false, false, false, false, false, false, false, false, false, false, false, false, false, false, false, false, false, false, false, false, false, false, false, false, false, false, false, false, false, false, false, false, false, true]}, {\"title\": \"Distribution of Burns, not specified across dispositions\"}], \"label\": \"Burns, not specified\", \"method\": \"update\"}], \"active\": 0}], \"showlegend\": false, \"title\": \"Frequency distribution for diagnosis across dispositions.\"}, {\"linkText\": \"Export to plot.ly\", \"showLink\": true})});</script>"
      ],
      "text/vnd.plotly.v1+html": [
       "<div id=\"f654292c-bd09-48e9-b9d3-d227cdffa04f\" style=\"height: 525px; width: 100%;\" class=\"plotly-graph-div\"></div><script type=\"text/javascript\">require([\"plotly\"], function(Plotly) { window.PLOTLYENV=window.PLOTLYENV || {};window.PLOTLYENV.BASE_URL=\"https://plot.ly\";Plotly.newPlot(\"f654292c-bd09-48e9-b9d3-d227cdffa04f\", [{\"type\": \"bar\", \"y\": [59807, 651, 3979, 415, 619, 28], \"x\": [1, 2, 4, 5, 6, 8]}, {\"type\": \"bar\", \"y\": [11910, 41, 185, 48, 123], \"x\": [1, 2, 4, 5, 6]}, {\"type\": \"bar\", \"y\": [], \"x\": []}, {\"type\": \"bar\", \"y\": [10248, 11, 43, 3, 21], \"x\": [1, 2, 4, 5, 6]}, {\"type\": \"bar\", \"y\": [7561, 267, 1811, 88, 6, 2], \"x\": [1, 2, 4, 5, 6, 8]}, {\"type\": \"bar\", \"y\": [], \"x\": []}, {\"type\": \"bar\", \"y\": [3372, 39, 245, 31, 107, 13], \"x\": [1, 2, 4, 5, 6, 8]}, {\"type\": \"bar\", \"y\": [2265, 15, 220, 32, 123], \"x\": [1, 2, 4, 5, 6]}, {\"type\": \"bar\", \"y\": [1399, 4, 70, 15, 7], \"x\": [1, 2, 4, 5, 6]}, {\"type\": \"bar\", \"y\": [1241, 8, 10, 1, 10], \"x\": [1, 2, 4, 5, 6]}, {\"type\": \"bar\", \"y\": [928, 8, 43, 6, 3], \"x\": [1, 2, 4, 5, 6]}, {\"type\": \"bar\", \"y\": [554, 18, 88, 39, 24, 1], \"x\": [1, 2, 4, 5, 6, 8]}, {\"type\": \"bar\", \"y\": [612, 15, 2, 7], \"x\": [1, 4, 5, 6]}, {\"type\": \"bar\", \"y\": [472, 1, 42, 7, 12], \"x\": [1, 2, 4, 5, 6]}, {\"type\": \"bar\", \"y\": [], \"x\": []}, {\"type\": \"bar\", \"y\": [], \"x\": []}, {\"type\": \"bar\", \"y\": [], \"x\": []}, {\"type\": \"bar\", \"y\": [], \"x\": []}, {\"type\": \"bar\", \"y\": [318, 4, 12, 1, 2], \"x\": [1, 2, 4, 5, 6]}, {\"type\": \"bar\", \"y\": [248, 3, 8, 2, 10], \"x\": [1, 2, 4, 5, 6]}, {\"type\": \"bar\", \"y\": [242, 2, 2, 1, 4], \"x\": [1, 2, 4, 5, 6]}, {\"type\": \"bar\", \"y\": [217, 1, 1, 4], \"x\": [1, 2, 4, 6]}, {\"type\": \"bar\", \"y\": [195, 3, 1, 2], \"x\": [1, 4, 5, 6]}, {\"type\": \"bar\", \"y\": [179, 2, 17], \"x\": [1, 2, 4]}, {\"type\": \"bar\", \"y\": [129, 59, 7], \"x\": [1, 4, 5]}, {\"type\": \"bar\", \"y\": [159, 3, 28, 1], \"x\": [1, 2, 4, 6]}, {\"type\": \"bar\", \"y\": [147, 3, 13, 3, 3, 1], \"x\": [1, 2, 4, 5, 6, 8]}, {\"type\": \"bar\", \"y\": [153, 1, 5, 1], \"x\": [1, 2, 4, 6]}, {\"type\": \"bar\", \"y\": [103, 1, 40, 9, 1], \"x\": [1, 2, 4, 5, 6]}, {\"type\": \"bar\", \"y\": [142, 3, 1, 5], \"x\": [1, 4, 5, 6]}, {\"type\": \"bar\", \"y\": [146, 3], \"x\": [1, 2]}, {\"type\": \"bar\", \"y\": [88, 12, 20, 3, 2], \"x\": [1, 2, 4, 5, 6]}, {\"type\": \"bar\", \"y\": [108, 1, 3], \"x\": [1, 4, 6]}, {\"type\": \"bar\", \"y\": [], \"x\": []}, {\"type\": \"bar\", \"y\": [], \"x\": []}, {\"type\": \"bar\", \"y\": [58, 4, 1, 1], \"x\": [1, 2, 4, 5]}, {\"type\": \"bar\", \"y\": [], \"x\": []}, {\"type\": \"bar\", \"y\": [], \"x\": []}, {\"type\": \"bar\", \"y\": [29, 3], \"x\": [1, 4]}, {\"type\": \"bar\", \"y\": [25], \"x\": [1]}, {\"type\": \"bar\", \"y\": [17, 2], \"x\": [1, 4]}], {\"margin\": {\"pad\": 4, \"t\": 100, \"b\": 100, \"l\": 50, \"r\": 50}, \"updatemenus\": [{\"buttons\": [{\"args\": [{\"visible\": [true, false, false, false, false, false, false, false, false, false, false, false, false, false, false, false, false, false, false, false, false, false, false, false, false, false, false, false, false, false, false, false, false, false, false, false, false, false, false, false, false]}, {\"title\": \"Distribution of all diagnosis across dispositions\"}], \"label\": \"All\", \"method\": \"update\"}, {\"args\": [{\"visible\": [false, true, false, false, false, false, false, false, false, false, false, false, false, false, false, false, false, false, false, false, false, false, false, false, false, false, false, false, false, false, false, false, false, false, false, false, false, false, false, false, false]}, {\"title\": \"Distribution of Laceration across dispositions\"}], \"label\": \"Laceration\", \"method\": \"update\"}, {\"args\": [{\"visible\": [false, false, true, false, false, false, false, false, false, false, false, false, false, false, false, false, false, false, false, false, false, false, false, false, false, false, false, false, false, false, false, false, false, false, false, false, false, false, false, false, false]}, {\"title\": \"Distribution of Contusions, Abrasion across dispositions\"}], \"label\": \"Contusions, Abrasion\", \"method\": \"update\"}, {\"args\": [{\"visible\": [false, false, false, true, false, false, false, false, false, false, false, false, false, false, false, false, false, false, false, false, false, false, false, false, false, false, false, false, false, false, false, false, false, false, false, false, false, false, false, false, false]}, {\"title\": \"Distribution of Strain or Sprain across dispositions\"}], \"label\": \"Strain or Sprain\", \"method\": \"update\"}, {\"args\": [{\"visible\": [false, false, false, false, true, false, false, false, false, false, false, false, false, false, false, false, false, false, false, false, false, false, false, false, false, false, false, false, false, false, false, false, false, false, false, false, false, false, false, false, false]}, {\"title\": \"Distribution of Fracture across dispositions\"}], \"label\": \"Fracture\", \"method\": \"update\"}, {\"args\": [{\"visible\": [false, false, false, false, false, true, false, false, false, false, false, false, false, false, false, false, false, false, false, false, false, false, false, false, false, false, false, false, false, false, false, false, false, false, false, false, false, false, false, false, false]}, {\"title\": \"Distribution of Internal organ injur across dispositions\"}], \"label\": \"Internal organ injur\", \"method\": \"update\"}, {\"args\": [{\"visible\": [false, false, false, false, false, false, true, false, false, false, false, false, false, false, false, false, false, false, false, false, false, false, false, false, false, false, false, false, false, false, false, false, false, false, false, false, false, false, false, false, false]}, {\"title\": \"Distribution of Other/Not Stated across dispositions\"}], \"label\": \"Other/Not Stated\", \"method\": \"update\"}, {\"args\": [{\"visible\": [false, false, false, false, false, false, false, true, false, false, false, false, false, false, false, false, false, false, false, false, false, false, false, false, false, false, false, false, false, false, false, false, false, false, false, false, false, false, false, false, false]}, {\"title\": \"Distribution of PAIN across dispositions\"}], \"label\": \"PAIN\", \"method\": \"update\"}, {\"args\": [{\"visible\": [false, false, false, false, false, false, false, false, true, false, false, false, false, false, false, false, false, false, false, false, false, false, false, false, false, false, false, false, false, false, false, false, false, false, false, false, false, false, false, false, false]}, {\"title\": \"Distribution of Concussions across dispositions\"}], \"label\": \"Concussions\", \"method\": \"update\"}, {\"args\": [{\"visible\": [false, false, false, false, false, false, false, false, false, true, false, false, false, false, false, false, false, false, false, false, false, false, false, false, false, false, false, false, false, false, false, false, false, false, false, false, false, false, false, false, false]}, {\"title\": \"Distribution of Foreign body across dispositions\"}], \"label\": \"Foreign body\", \"method\": \"update\"}, {\"args\": [{\"visible\": [false, false, false, false, false, false, false, false, false, false, true, false, false, false, false, false, false, false, false, false, false, false, false, false, false, false, false, false, false, false, false, false, false, false, false, false, false, false, false, false, false]}, {\"title\": \"Distribution of Dislocation across dispositions\"}], \"label\": \"Dislocation\", \"method\": \"update\"}, {\"args\": [{\"visible\": [false, false, false, false, false, false, false, false, false, false, false, true, false, false, false, false, false, false, false, false, false, false, false, false, false, false, false, false, false, false, false, false, false, false, false, false, false, false, false, false, false]}, {\"title\": \"Distribution of Poisoning across dispositions\"}], \"label\": \"Poisoning\", \"method\": \"update\"}, {\"args\": [{\"visible\": [false, false, false, false, false, false, false, false, false, false, false, false, true, false, false, false, false, false, false, false, false, false, false, false, false, false, false, false, false, false, false, false, false, false, false, false, false, false, false, false, false]}, {\"title\": \"Distribution of Puncture across dispositions\"}], \"label\": \"Puncture\", \"method\": \"update\"}, {\"args\": [{\"visible\": [false, false, false, false, false, false, false, false, false, false, false, false, false, true, false, false, false, false, false, false, false, false, false, false, false, false, false, false, false, false, false, false, false, false, false, false, false, false, false, false, false]}, {\"title\": \"Distribution of Hematoma across dispositions\"}], \"label\": \"Hematoma\", \"method\": \"update\"}, {\"args\": [{\"visible\": [false, false, false, false, false, false, false, false, false, false, false, false, false, false, true, false, false, false, false, false, false, false, false, false, false, false, false, false, false, false, false, false, false, false, false, false, false, false, false, false, false]}, {\"title\": \"Distribution of Burns, thermal (from across dispositions\"}], \"label\": \"Burns, thermal (from\", \"method\": \"update\"}, {\"args\": [{\"visible\": [false, false, false, false, false, false, false, false, false, false, false, false, false, false, false, true, false, false, false, false, false, false, false, false, false, false, false, false, false, false, false, false, false, false, false, false, false, false, false, false, false]}, {\"title\": \"Distribution of Ingested foreign obj across dispositions\"}], \"label\": \"Ingested foreign obj\", \"method\": \"update\"}, {\"args\": [{\"visible\": [false, false, false, false, false, false, false, false, false, false, false, false, false, false, false, false, true, false, false, false, false, false, false, false, false, false, false, false, false, false, false, false, false, false, false, false, false, false, false, false, false]}, {\"title\": \"Distribution of Dermatitis, Conjunct across dispositions\"}], \"label\": \"Dermatitis, Conjunct\", \"method\": \"update\"}, {\"args\": [{\"visible\": [false, false, false, false, false, false, false, false, false, false, false, false, false, false, false, false, false, true, false, false, false, false, false, false, false, false, false, false, false, false, false, false, false, false, false, false, false, false, false, false, false]}, {\"title\": \"Distribution of Burns, scald (from h across dispositions\"}], \"label\": \"Burns, scald (from h\", \"method\": \"update\"}, {\"args\": [{\"visible\": [false, false, false, false, false, false, false, false, false, false, false, false, false, false, false, false, false, false, true, false, false, false, false, false, false, false, false, false, false, false, false, false, false, false, false, false, false, false, false, false, false]}, {\"title\": \"Distribution of Avulsion across dispositions\"}], \"label\": \"Avulsion\", \"method\": \"update\"}, {\"args\": [{\"visible\": [false, false, false, false, false, false, false, false, false, false, false, false, false, false, false, false, false, false, false, true, false, false, false, false, false, false, false, false, false, false, false, false, false, false, false, false, false, false, false, false, false]}, {\"title\": \"Distribution of BACK PAIN across dispositions\"}], \"label\": \"BACK PAIN\", \"method\": \"update\"}, {\"args\": [{\"visible\": [false, false, false, false, false, false, false, false, false, false, false, false, false, false, false, false, false, false, false, false, true, false, false, false, false, false, false, false, false, false, false, false, false, false, false, false, false, false, false, false, false]}, {\"title\": \"Distribution of Dental injury across dispositions\"}], \"label\": \"Dental injury\", \"method\": \"update\"}, {\"args\": [{\"visible\": [false, false, false, false, false, false, false, false, false, false, false, false, false, false, false, false, false, false, false, false, false, true, false, false, false, false, false, false, false, false, false, false, false, false, false, false, false, false, false, false, false]}, {\"title\": \"Distribution of INJURY across dispositions\"}], \"label\": \"INJURY\", \"method\": \"update\"}, {\"args\": [{\"visible\": [false, false, false, false, false, false, false, false, false, false, false, false, false, false, false, false, false, false, false, false, false, false, true, false, false, false, false, false, false, false, false, false, false, false, false, false, false, false, false, false, false]}, {\"title\": \"Distribution of LOW BACK PAIN across dispositions\"}], \"label\": \"LOW BACK PAIN\", \"method\": \"update\"}, {\"args\": [{\"visible\": [false, false, false, false, false, false, false, false, false, false, false, false, false, false, false, false, false, false, false, false, false, false, false, true, false, false, false, false, false, false, false, false, false, false, false, false, false, false, false, false, false]}, {\"title\": \"Distribution of Nerve damage across dispositions\"}], \"label\": \"Nerve damage\", \"method\": \"update\"}, {\"args\": [{\"visible\": [false, false, false, false, false, false, false, false, false, false, false, false, false, false, false, false, false, false, false, false, false, false, false, false, true, false, false, false, false, false, false, false, false, false, false, false, false, false, false, false, false]}, {\"title\": \"Distribution of CHEST PAIN across dispositions\"}], \"label\": \"CHEST PAIN\", \"method\": \"update\"}, {\"args\": [{\"visible\": [false, false, false, false, false, false, false, false, false, false, false, false, false, false, false, false, false, false, false, false, false, false, false, false, false, true, false, false, false, false, false, false, false, false, false, false, false, false, false, false, false]}, {\"title\": \"Distribution of CELLULITIS across dispositions\"}], \"label\": \"CELLULITIS\", \"method\": \"update\"}, {\"args\": [{\"visible\": [false, false, false, false, false, false, false, false, false, false, false, false, false, false, false, false, false, false, false, false, false, false, false, false, false, false, true, false, false, false, false, false, false, false, false, false, false, false, false, false, false]}, {\"title\": \"Distribution of Anoxia across dispositions\"}], \"label\": \"Anoxia\", \"method\": \"update\"}, {\"args\": [{\"visible\": [false, false, false, false, false, false, false, false, false, false, false, false, false, false, false, false, false, false, false, false, false, false, false, false, false, false, false, true, false, false, false, false, false, false, false, false, false, false, false, false, false]}, {\"title\": \"Distribution of TRAUMA across dispositions\"}], \"label\": \"TRAUMA\", \"method\": \"update\"}, {\"args\": [{\"visible\": [false, false, false, false, false, false, false, false, false, false, false, false, false, false, false, false, false, false, false, false, false, false, false, false, false, false, false, false, true, false, false, false, false, false, false, false, false, false, false, false, false]}, {\"title\": \"Distribution of SYNCOPE across dispositions\"}], \"label\": \"SYNCOPE\", \"method\": \"update\"}, {\"args\": [{\"visible\": [false, false, false, false, false, false, false, false, false, false, false, false, false, false, false, false, false, false, false, false, false, false, false, false, false, false, false, false, false, true, false, false, false, false, false, false, false, false, false, false, false]}, {\"title\": \"Distribution of KNEE PAIN across dispositions\"}], \"label\": \"KNEE PAIN\", \"method\": \"update\"}, {\"args\": [{\"visible\": [false, false, false, false, false, false, false, false, false, false, false, false, false, false, false, false, false, false, false, false, false, false, false, false, false, false, false, false, false, false, true, false, false, false, false, false, false, false, false, false, false]}, {\"title\": \"Distribution of Crushing across dispositions\"}], \"label\": \"Crushing\", \"method\": \"update\"}, {\"args\": [{\"visible\": [false, false, false, false, false, false, false, false, false, false, false, false, false, false, false, false, false, false, false, false, false, false, false, false, false, false, false, false, false, false, false, true, false, false, false, false, false, false, false, false, false]}, {\"title\": \"Distribution of Amputation across dispositions\"}], \"label\": \"Amputation\", \"method\": \"update\"}, {\"args\": [{\"visible\": [false, false, false, false, false, false, false, false, false, false, false, false, false, false, false, false, false, false, false, false, false, false, false, false, false, false, false, false, false, false, false, false, true, false, false, false, false, false, false, false, false]}, {\"title\": \"Distribution of SHOULDER PAIN across dispositions\"}], \"label\": \"SHOULDER PAIN\", \"method\": \"update\"}, {\"args\": [{\"visible\": [false, false, false, false, false, false, false, false, false, false, false, false, false, false, false, false, false, false, false, false, false, false, false, false, false, false, false, false, false, false, false, false, false, true, false, false, false, false, false, false, false]}, {\"title\": \"Distribution of Burns, chemical (cau across dispositions\"}], \"label\": \"Burns, chemical (cau\", \"method\": \"update\"}, {\"args\": [{\"visible\": [false, false, false, false, false, false, false, false, false, false, false, false, false, false, false, false, false, false, false, false, false, false, false, false, false, false, false, false, false, false, false, false, false, false, true, false, false, false, false, false, false]}, {\"title\": \"Distribution of Aspirated foreign ob across dispositions\"}], \"label\": \"Aspirated foreign ob\", \"method\": \"update\"}, {\"args\": [{\"visible\": [false, false, false, false, false, false, false, false, false, false, false, false, false, false, false, false, false, false, false, false, false, false, false, false, false, false, false, false, false, false, false, false, false, false, false, true, false, false, false, false, false]}, {\"title\": \"Distribution of Hemorrhage across dispositions\"}], \"label\": \"Hemorrhage\", \"method\": \"update\"}, {\"args\": [{\"visible\": [false, false, false, false, false, false, false, false, false, false, false, false, false, false, false, false, false, false, false, false, false, false, false, false, false, false, false, false, false, false, false, false, false, false, false, false, true, false, false, false, false]}, {\"title\": \"Distribution of Submersion (includin across dispositions\"}], \"label\": \"Submersion (includin\", \"method\": \"update\"}, {\"args\": [{\"visible\": [false, false, false, false, false, false, false, false, false, false, false, false, false, false, false, false, false, false, false, false, false, false, false, false, false, false, false, false, false, false, false, false, false, false, false, false, false, true, false, false, false]}, {\"title\": \"Distribution of Burns, radiation (in across dispositions\"}], \"label\": \"Burns, radiation (in\", \"method\": \"update\"}, {\"args\": [{\"visible\": [false, false, false, false, false, false, false, false, false, false, false, false, false, false, false, false, false, false, false, false, false, false, false, false, false, false, false, false, false, false, false, false, false, false, false, false, false, false, true, false, false]}, {\"title\": \"Distribution of Electric shock across dispositions\"}], \"label\": \"Electric shock\", \"method\": \"update\"}, {\"args\": [{\"visible\": [false, false, false, false, false, false, false, false, false, false, false, false, false, false, false, false, false, false, false, false, false, false, false, false, false, false, false, false, false, false, false, false, false, false, false, false, false, false, false, true, false]}, {\"title\": \"Distribution of Burns, electrical across dispositions\"}], \"label\": \"Burns, electrical\", \"method\": \"update\"}, {\"args\": [{\"visible\": [false, false, false, false, false, false, false, false, false, false, false, false, false, false, false, false, false, false, false, false, false, false, false, false, false, false, false, false, false, false, false, false, false, false, false, false, false, false, false, false, true]}, {\"title\": \"Distribution of Burns, not specified across dispositions\"}], \"label\": \"Burns, not specified\", \"method\": \"update\"}], \"active\": 0}], \"showlegend\": false, \"title\": \"Frequency distribution for diagnosis across dispositions.\"}, {\"linkText\": \"Export to plot.ly\", \"showLink\": true})});</script>"
      ]
     },
     "metadata": {},
     "output_type": "display_data"
    }
   ],
   "source": [
    "# Plot the dashboard\n",
    "py.offline.iplot(fig, filename='update_dropdown')"
   ]
  },
  {
   "cell_type": "code",
   "execution_count": 18,
   "metadata": {},
   "outputs": [],
   "source": [
    "# Creating contingency table\n",
    "contingency_table = pd.pivot_table(merged_df, values=[\"CPSC Case #\"], index=[\"disposition\"], columns=[\"diag_exp_mod\"], aggfunc=lambda x: len(x.unique())).fillna(value=0)\n",
    "# Calculating chi square and p-value\n",
    "chi2, p, dof, _ = chi2_contingency(contingency_table.values)"
   ]
  },
  {
   "cell_type": "code",
   "execution_count": 19,
   "metadata": {},
   "outputs": [
    {
     "name": "stdout",
     "output_type": "stream",
     "text": [
      "Chi square, significance level and degrees of freedom are 7840.758888460437 , 0.0 and 195 respectively\n"
     ]
    }
   ],
   "source": [
    "print(\"Chi square, significance level and degrees of freedom are\", chi2, \",\" , p, \"and\", dof, \"respectively\")"
   ]
  },
  {
   "cell_type": "markdown",
   "metadata": {},
   "source": [
    "<b>Most of the deaths are due to Cardiac arrest. Internal organ injury(code 62) is the second largest reason for deaths.</b>"
   ]
  },
  {
   "cell_type": "code",
   "execution_count": 20,
   "metadata": {},
   "outputs": [],
   "source": [
    "# Preparing data for plotting histograms as required in plotly\n",
    "disp_freq = merged_df[\"disposition\"].value_counts().to_frame().reset_index().rename(columns={'index': 'disp', 'disposition': 'Frequency'})\n",
    "df = merged_df\n",
    "data = []\n",
    "buttons = []\n",
    "\n",
    "demo = df.groupby(['diag_exp_mod'])[df.columns[0]].count().to_frame().reset_index().rename(columns={'CPSC Case #': 'Frequency'})\n",
    "trace = go.Bar(x=demo['diag_exp_mod'], y=demo.Frequency)\n",
    "data.append(trace)\n",
    "label = 'All'\n",
    "method = 'update'\n",
    "visible = [False]*(diag_freq.shape[0] + 1)\n",
    "visible[0] = True\n",
    "args = [{'visible': visible}, {'title': 'Distribution of all dispositions' + ' across diagnosis'}]\n",
    "buttons.append(dict(label= label, method=method, args=args))\n",
    "\n",
    "for i in range(disp_freq.shape[0]):\n",
    "    disp = disp_freq.iloc[i].disp\n",
    "    disp_exp = disposition_df[disposition_df[\"disposition\"] == disp][\"disposition_exp\"].item()[:20]\n",
    "    demo = df[df.disposition == disp].groupby(['diag_exp_mod'])[df.columns[0]].count().to_frame().reset_index().rename(columns={'CPSC Case #': 'Frequency'})\n",
    "    trace = go.Bar(x=demo['diag_exp_mod'], y=demo.Frequency)\n",
    "    data.append(trace)\n",
    "    label = disp_exp\n",
    "    method = 'update'\n",
    "    visible = [False]*(diag_freq.shape[0] + 1)\n",
    "    visible[i+1] = True\n",
    "    args = [{'visible': visible}, {'title': 'Distribution of ' + disp_exp + ' across diagnosis'}]\n",
    "    buttons.append(dict(label= label, method=method, args=args))\n",
    "\n",
    "# Preparing inputs for dashboard\n",
    "updatemenus = list([\n",
    "    dict(active=0,\n",
    "         buttons=list(buttons),\n",
    "    )\n",
    "])\n",
    "\n",
    "layout = dict(title='Frequency distribution for disposition across diagnosis.', showlegend=False, updatemenus=updatemenus, margin=go.Margin(\n",
    "        l=50,\n",
    "        r=50,\n",
    "        b=100,\n",
    "        t=100,\n",
    "        pad=4\n",
    "    ))\n",
    "\n",
    "fig = dict(data=data, layout=layout)"
   ]
  },
  {
   "cell_type": "code",
   "execution_count": 21,
   "metadata": {},
   "outputs": [
    {
     "data": {
      "application/vnd.plotly.v1+json": {
       "data": [
        {
         "type": "bar",
         "x": [
          "Amputation",
          "Anoxia",
          "Aspirated foreign object",
          "Avulsion",
          "BACK PAIN",
          "Burns, chemical (caustics, etc.)",
          "Burns, electrical",
          "Burns, not specified",
          "Burns, radiation (includes all cell damage by ultraviolet, x- rays, microwaves, laser beam, radioactive materials, etc.)",
          "Burns, scald (from hot liquids or steam)",
          "Burns, thermal (from flames or hot surface)",
          "CELLULITIS",
          "CHEST PAIN",
          "Concussions",
          "Contusions, Abrasions",
          "Crushing",
          "Dental injury",
          "Dermatitis, Conjunctivitis",
          "Dislocation",
          "Electric shock",
          "Foreign body",
          "Fracture",
          "Hematoma",
          "Hemorrhage",
          "INJURY",
          "Ingested foreign object",
          "Internal organ injury",
          "KNEE PAIN",
          "LOW BACK PAIN",
          "Laceration",
          "Nerve damage",
          "Other/Not Stated",
          "PAIN",
          "Poisoning",
          "Puncture",
          "SHOULDER PAIN",
          "SYNCOPE",
          "Strain or Sprain",
          "Submersion (including Drowning)",
          "TRAUMA"
         ],
         "y": [
          125,
          170,
          66,
          337,
          271,
          86,
          25,
          19,
          35,
          392,
          512,
          191,
          195,
          1495,
          10646,
          149,
          251,
          414,
          988,
          32,
          1270,
          9735,
          534,
          64,
          223,
          483,
          5306,
          151,
          201,
          12307,
          198,
          3807,
          2655,
          724,
          636,
          112,
          154,
          10326,
          54,
          160
         ]
        },
        {
         "type": "bar",
         "x": [
          "Amputation",
          "Anoxia",
          "Aspirated foreign object",
          "Avulsion",
          "BACK PAIN",
          "Burns, chemical (caustics, etc.)",
          "Burns, electrical",
          "Burns, not specified",
          "Burns, radiation (includes all cell damage by ultraviolet, x- rays, microwaves, laser beam, radioactive materials, etc.)",
          "Burns, scald (from hot liquids or steam)",
          "Burns, thermal (from flames or hot surface)",
          "CELLULITIS",
          "CHEST PAIN",
          "Concussions",
          "Contusions, Abrasions",
          "Crushing",
          "Dental injury",
          "Dermatitis, Conjunctivitis",
          "Dislocation",
          "Electric shock",
          "Foreign body",
          "Fracture",
          "Hematoma",
          "Hemorrhage",
          "INJURY",
          "Ingested foreign object",
          "Internal organ injury",
          "KNEE PAIN",
          "LOW BACK PAIN",
          "Laceration",
          "Nerve damage",
          "Other/Not Stated",
          "PAIN",
          "Poisoning",
          "Puncture",
          "SHOULDER PAIN",
          "SYNCOPE",
          "Strain or Sprain",
          "Submersion (including Drowning)",
          "TRAUMA"
         ],
         "y": [
          88,
          147,
          57,
          318,
          248,
          82,
          25,
          17,
          34,
          336,
          443,
          159,
          129,
          1399,
          10312,
          146,
          242,
          410,
          928,
          29,
          1241,
          7561,
          472,
          58,
          217,
          403,
          4439,
          142,
          195,
          11910,
          179,
          3372,
          2265,
          554,
          612,
          108,
          103,
          10248,
          26,
          153
         ]
        },
        {
         "type": "bar",
         "x": [
          "Amputation",
          "Anoxia",
          "Aspirated foreign object",
          "Avulsion",
          "BACK PAIN",
          "Burns, not specified",
          "Burns, scald (from hot liquids or steam)",
          "Burns, thermal (from flames or hot surface)",
          "CELLULITIS",
          "CHEST PAIN",
          "Concussions",
          "Contusions, Abrasions",
          "Dental injury",
          "Dermatitis, Conjunctivitis",
          "Dislocation",
          "Electric shock",
          "Foreign body",
          "Fracture",
          "Hematoma",
          "Hemorrhage",
          "INJURY",
          "Ingested foreign object",
          "Internal organ injury",
          "KNEE PAIN",
          "LOW BACK PAIN",
          "Laceration",
          "Nerve damage",
          "Other/Not Stated",
          "PAIN",
          "Poisoning",
          "Puncture",
          "SHOULDER PAIN",
          "SYNCOPE",
          "Strain or Sprain",
          "Submersion (including Drowning)",
          "TRAUMA"
         ],
         "y": [
          20,
          13,
          5,
          12,
          8,
          2,
          29,
          27,
          28,
          59,
          70,
          217,
          2,
          2,
          43,
          3,
          10,
          1811,
          42,
          1,
          1,
          56,
          630,
          3,
          3,
          185,
          17,
          245,
          220,
          88,
          15,
          1,
          40,
          43,
          23,
          5
         ]
        },
        {
         "type": "bar",
         "x": [
          "Amputation",
          "Anoxia",
          "Aspirated foreign object",
          "Avulsion",
          "BACK PAIN",
          "Burns, chemical (caustics, etc.)",
          "Burns, scald (from hot liquids or steam)",
          "Burns, thermal (from flames or hot surface)",
          "CELLULITIS",
          "Concussions",
          "Contusions, Abrasions",
          "Crushing",
          "Dental injury",
          "Dislocation",
          "Foreign body",
          "Fracture",
          "Hematoma",
          "Hemorrhage",
          "INJURY",
          "Ingested foreign object",
          "Internal organ injury",
          "Laceration",
          "Nerve damage",
          "Other/Not Stated",
          "PAIN",
          "Poisoning",
          "SYNCOPE",
          "Strain or Sprain",
          "TRAUMA"
         ],
         "y": [
          12,
          3,
          2,
          4,
          3,
          1,
          20,
          29,
          3,
          4,
          29,
          3,
          2,
          8,
          8,
          267,
          1,
          4,
          1,
          18,
          101,
          41,
          2,
          39,
          15,
          18,
          1,
          11,
          1
         ]
        },
        {
         "type": "bar",
         "x": [
          "Amputation",
          "Anoxia",
          "Aspirated foreign object",
          "Avulsion",
          "BACK PAIN",
          "Burns, chemical (caustics, etc.)",
          "Burns, radiation (includes all cell damage by ultraviolet, x- rays, microwaves, laser beam, radioactive materials, etc.)",
          "Burns, scald (from hot liquids or steam)",
          "Burns, thermal (from flames or hot surface)",
          "CELLULITIS",
          "Concussions",
          "Contusions, Abrasions",
          "Dental injury",
          "Dermatitis, Conjunctivitis",
          "Dislocation",
          "Foreign body",
          "Fracture",
          "Hematoma",
          "INJURY",
          "Ingested foreign object",
          "Internal organ injury",
          "KNEE PAIN",
          "LOW BACK PAIN",
          "Laceration",
          "Other/Not Stated",
          "PAIN",
          "Poisoning",
          "Puncture",
          "SHOULDER PAIN",
          "SYNCOPE",
          "Strain or Sprain",
          "TRAUMA"
         ],
         "y": [
          2,
          3,
          2,
          2,
          10,
          2,
          1,
          5,
          10,
          1,
          7,
          52,
          4,
          2,
          3,
          10,
          6,
          12,
          4,
          1,
          63,
          5,
          2,
          123,
          107,
          123,
          24,
          7,
          3,
          1,
          21,
          1
         ]
        },
        {
         "type": "bar",
         "x": [
          "Amputation",
          "Anoxia",
          "Avulsion",
          "BACK PAIN",
          "Burns, chemical (caustics, etc.)",
          "Burns, scald (from hot liquids or steam)",
          "Burns, thermal (from flames or hot surface)",
          "CHEST PAIN",
          "Concussions",
          "Contusions, Abrasions",
          "Dental injury",
          "Dislocation",
          "Foreign body",
          "Fracture",
          "Hematoma",
          "Hemorrhage",
          "Ingested foreign object",
          "Internal organ injury",
          "KNEE PAIN",
          "LOW BACK PAIN",
          "Laceration",
          "Other/Not Stated",
          "PAIN",
          "Poisoning",
          "Puncture",
          "SYNCOPE",
          "Strain or Sprain",
          "Submersion (including Drowning)"
         ],
         "y": [
          3,
          3,
          1,
          2,
          1,
          2,
          3,
          7,
          15,
          34,
          1,
          6,
          1,
          88,
          7,
          1,
          5,
          66,
          1,
          1,
          48,
          31,
          32,
          39,
          2,
          9,
          3,
          3
         ]
        },
        {
         "type": "bar",
         "x": [
          "Anoxia",
          "Contusions, Abrasions",
          "Fracture",
          "Internal organ injury",
          "Other/Not Stated",
          "Poisoning",
          "Submersion (including Drowning)"
         ],
         "y": [
          1,
          2,
          2,
          7,
          13,
          1,
          2
         ]
        }
       ],
       "layout": {
        "margin": {
         "b": 100,
         "l": 50,
         "pad": 4,
         "r": 50,
         "t": 100
        },
        "showlegend": false,
        "title": "Frequency distribution for disposition across diagnosis.",
        "updatemenus": [
         {
          "active": 0,
          "buttons": [
           {
            "args": [
             {
              "visible": [
               true,
               false,
               false,
               false,
               false,
               false,
               false,
               false,
               false,
               false,
               false,
               false,
               false,
               false,
               false,
               false,
               false,
               false,
               false,
               false,
               false,
               false,
               false,
               false,
               false,
               false,
               false,
               false,
               false,
               false,
               false,
               false,
               false,
               false,
               false,
               false,
               false,
               false,
               false,
               false,
               false
              ]
             },
             {
              "title": "Distribution of all dispositions across diagnosis"
             }
            ],
            "label": "All",
            "method": "update"
           },
           {
            "args": [
             {
              "visible": [
               false,
               true,
               false,
               false,
               false,
               false,
               false,
               false,
               false,
               false,
               false,
               false,
               false,
               false,
               false,
               false,
               false,
               false,
               false,
               false,
               false,
               false,
               false,
               false,
               false,
               false,
               false,
               false,
               false,
               false,
               false,
               false,
               false,
               false,
               false,
               false,
               false,
               false,
               false,
               false,
               false
              ]
             },
             {
              "title": "Distribution of Treated and released across diagnosis"
             }
            ],
            "label": "Treated and released",
            "method": "update"
           },
           {
            "args": [
             {
              "visible": [
               false,
               false,
               true,
               false,
               false,
               false,
               false,
               false,
               false,
               false,
               false,
               false,
               false,
               false,
               false,
               false,
               false,
               false,
               false,
               false,
               false,
               false,
               false,
               false,
               false,
               false,
               false,
               false,
               false,
               false,
               false,
               false,
               false,
               false,
               false,
               false,
               false,
               false,
               false,
               false,
               false
              ]
             },
             {
              "title": "Distribution of Treated and admitted across diagnosis"
             }
            ],
            "label": "Treated and admitted",
            "method": "update"
           },
           {
            "args": [
             {
              "visible": [
               false,
               false,
               false,
               true,
               false,
               false,
               false,
               false,
               false,
               false,
               false,
               false,
               false,
               false,
               false,
               false,
               false,
               false,
               false,
               false,
               false,
               false,
               false,
               false,
               false,
               false,
               false,
               false,
               false,
               false,
               false,
               false,
               false,
               false,
               false,
               false,
               false,
               false,
               false,
               false,
               false
              ]
             },
             {
              "title": "Distribution of Treated and transfer across diagnosis"
             }
            ],
            "label": "Treated and transfer",
            "method": "update"
           },
           {
            "args": [
             {
              "visible": [
               false,
               false,
               false,
               false,
               true,
               false,
               false,
               false,
               false,
               false,
               false,
               false,
               false,
               false,
               false,
               false,
               false,
               false,
               false,
               false,
               false,
               false,
               false,
               false,
               false,
               false,
               false,
               false,
               false,
               false,
               false,
               false,
               false,
               false,
               false,
               false,
               false,
               false,
               false,
               false,
               false
              ]
             },
             {
              "title": "Distribution of Left without being s across diagnosis"
             }
            ],
            "label": "Left without being s",
            "method": "update"
           },
           {
            "args": [
             {
              "visible": [
               false,
               false,
               false,
               false,
               false,
               true,
               false,
               false,
               false,
               false,
               false,
               false,
               false,
               false,
               false,
               false,
               false,
               false,
               false,
               false,
               false,
               false,
               false,
               false,
               false,
               false,
               false,
               false,
               false,
               false,
               false,
               false,
               false,
               false,
               false,
               false,
               false,
               false,
               false,
               false,
               false
              ]
             },
             {
              "title": "Distribution of Held for observation across diagnosis"
             }
            ],
            "label": "Held for observation",
            "method": "update"
           },
           {
            "args": [
             {
              "visible": [
               false,
               false,
               false,
               false,
               false,
               false,
               true,
               false,
               false,
               false,
               false,
               false,
               false,
               false,
               false,
               false,
               false,
               false,
               false,
               false,
               false,
               false,
               false,
               false,
               false,
               false,
               false,
               false,
               false,
               false,
               false,
               false,
               false,
               false,
               false,
               false,
               false,
               false,
               false,
               false,
               false
              ]
             },
             {
              "title": "Distribution of Fatality, including  across diagnosis"
             }
            ],
            "label": "Fatality, including ",
            "method": "update"
           }
          ]
         }
        ]
       }
      },
      "text/html": [
       "<div id=\"f7ccac78-b08b-4311-9bee-d3ebd1ce476c\" style=\"height: 525px; width: 100%;\" class=\"plotly-graph-div\"></div><script type=\"text/javascript\">require([\"plotly\"], function(Plotly) { window.PLOTLYENV=window.PLOTLYENV || {};window.PLOTLYENV.BASE_URL=\"https://plot.ly\";Plotly.newPlot(\"f7ccac78-b08b-4311-9bee-d3ebd1ce476c\", [{\"type\": \"bar\", \"y\": [125, 170, 66, 337, 271, 86, 25, 19, 35, 392, 512, 191, 195, 1495, 10646, 149, 251, 414, 988, 32, 1270, 9735, 534, 64, 223, 483, 5306, 151, 201, 12307, 198, 3807, 2655, 724, 636, 112, 154, 10326, 54, 160], \"x\": [\"Amputation\", \"Anoxia\", \"Aspirated foreign object\", \"Avulsion\", \"BACK PAIN\", \"Burns, chemical (caustics, etc.)\", \"Burns, electrical\", \"Burns, not specified\", \"Burns, radiation (includes all cell damage by ultraviolet, x- rays, microwaves, laser beam, radioactive materials, etc.)\", \"Burns, scald (from hot liquids or steam)\", \"Burns, thermal (from flames or hot surface)\", \"CELLULITIS\", \"CHEST PAIN\", \"Concussions\", \"Contusions, Abrasions\", \"Crushing\", \"Dental injury\", \"Dermatitis, Conjunctivitis\", \"Dislocation\", \"Electric shock\", \"Foreign body\", \"Fracture\", \"Hematoma\", \"Hemorrhage\", \"INJURY\", \"Ingested foreign object\", \"Internal organ injury\", \"KNEE PAIN\", \"LOW BACK PAIN\", \"Laceration\", \"Nerve damage\", \"Other/Not Stated\", \"PAIN\", \"Poisoning\", \"Puncture\", \"SHOULDER PAIN\", \"SYNCOPE\", \"Strain or Sprain\", \"Submersion (including Drowning)\", \"TRAUMA\"]}, {\"type\": \"bar\", \"y\": [88, 147, 57, 318, 248, 82, 25, 17, 34, 336, 443, 159, 129, 1399, 10312, 146, 242, 410, 928, 29, 1241, 7561, 472, 58, 217, 403, 4439, 142, 195, 11910, 179, 3372, 2265, 554, 612, 108, 103, 10248, 26, 153], \"x\": [\"Amputation\", \"Anoxia\", \"Aspirated foreign object\", \"Avulsion\", \"BACK PAIN\", \"Burns, chemical (caustics, etc.)\", \"Burns, electrical\", \"Burns, not specified\", \"Burns, radiation (includes all cell damage by ultraviolet, x- rays, microwaves, laser beam, radioactive materials, etc.)\", \"Burns, scald (from hot liquids or steam)\", \"Burns, thermal (from flames or hot surface)\", \"CELLULITIS\", \"CHEST PAIN\", \"Concussions\", \"Contusions, Abrasions\", \"Crushing\", \"Dental injury\", \"Dermatitis, Conjunctivitis\", \"Dislocation\", \"Electric shock\", \"Foreign body\", \"Fracture\", \"Hematoma\", \"Hemorrhage\", \"INJURY\", \"Ingested foreign object\", \"Internal organ injury\", \"KNEE PAIN\", \"LOW BACK PAIN\", \"Laceration\", \"Nerve damage\", \"Other/Not Stated\", \"PAIN\", \"Poisoning\", \"Puncture\", \"SHOULDER PAIN\", \"SYNCOPE\", \"Strain or Sprain\", \"Submersion (including Drowning)\", \"TRAUMA\"]}, {\"type\": \"bar\", \"y\": [20, 13, 5, 12, 8, 2, 29, 27, 28, 59, 70, 217, 2, 2, 43, 3, 10, 1811, 42, 1, 1, 56, 630, 3, 3, 185, 17, 245, 220, 88, 15, 1, 40, 43, 23, 5], \"x\": [\"Amputation\", \"Anoxia\", \"Aspirated foreign object\", \"Avulsion\", \"BACK PAIN\", \"Burns, not specified\", \"Burns, scald (from hot liquids or steam)\", \"Burns, thermal (from flames or hot surface)\", \"CELLULITIS\", \"CHEST PAIN\", \"Concussions\", \"Contusions, Abrasions\", \"Dental injury\", \"Dermatitis, Conjunctivitis\", \"Dislocation\", \"Electric shock\", \"Foreign body\", \"Fracture\", \"Hematoma\", \"Hemorrhage\", \"INJURY\", \"Ingested foreign object\", \"Internal organ injury\", \"KNEE PAIN\", \"LOW BACK PAIN\", \"Laceration\", \"Nerve damage\", \"Other/Not Stated\", \"PAIN\", \"Poisoning\", \"Puncture\", \"SHOULDER PAIN\", \"SYNCOPE\", \"Strain or Sprain\", \"Submersion (including Drowning)\", \"TRAUMA\"]}, {\"type\": \"bar\", \"y\": [12, 3, 2, 4, 3, 1, 20, 29, 3, 4, 29, 3, 2, 8, 8, 267, 1, 4, 1, 18, 101, 41, 2, 39, 15, 18, 1, 11, 1], \"x\": [\"Amputation\", \"Anoxia\", \"Aspirated foreign object\", \"Avulsion\", \"BACK PAIN\", \"Burns, chemical (caustics, etc.)\", \"Burns, scald (from hot liquids or steam)\", \"Burns, thermal (from flames or hot surface)\", \"CELLULITIS\", \"Concussions\", \"Contusions, Abrasions\", \"Crushing\", \"Dental injury\", \"Dislocation\", \"Foreign body\", \"Fracture\", \"Hematoma\", \"Hemorrhage\", \"INJURY\", \"Ingested foreign object\", \"Internal organ injury\", \"Laceration\", \"Nerve damage\", \"Other/Not Stated\", \"PAIN\", \"Poisoning\", \"SYNCOPE\", \"Strain or Sprain\", \"TRAUMA\"]}, {\"type\": \"bar\", \"y\": [2, 3, 2, 2, 10, 2, 1, 5, 10, 1, 7, 52, 4, 2, 3, 10, 6, 12, 4, 1, 63, 5, 2, 123, 107, 123, 24, 7, 3, 1, 21, 1], \"x\": [\"Amputation\", \"Anoxia\", \"Aspirated foreign object\", \"Avulsion\", \"BACK PAIN\", \"Burns, chemical (caustics, etc.)\", \"Burns, radiation (includes all cell damage by ultraviolet, x- rays, microwaves, laser beam, radioactive materials, etc.)\", \"Burns, scald (from hot liquids or steam)\", \"Burns, thermal (from flames or hot surface)\", \"CELLULITIS\", \"Concussions\", \"Contusions, Abrasions\", \"Dental injury\", \"Dermatitis, Conjunctivitis\", \"Dislocation\", \"Foreign body\", \"Fracture\", \"Hematoma\", \"INJURY\", \"Ingested foreign object\", \"Internal organ injury\", \"KNEE PAIN\", \"LOW BACK PAIN\", \"Laceration\", \"Other/Not Stated\", \"PAIN\", \"Poisoning\", \"Puncture\", \"SHOULDER PAIN\", \"SYNCOPE\", \"Strain or Sprain\", \"TRAUMA\"]}, {\"type\": \"bar\", \"y\": [3, 3, 1, 2, 1, 2, 3, 7, 15, 34, 1, 6, 1, 88, 7, 1, 5, 66, 1, 1, 48, 31, 32, 39, 2, 9, 3, 3], \"x\": [\"Amputation\", \"Anoxia\", \"Avulsion\", \"BACK PAIN\", \"Burns, chemical (caustics, etc.)\", \"Burns, scald (from hot liquids or steam)\", \"Burns, thermal (from flames or hot surface)\", \"CHEST PAIN\", \"Concussions\", \"Contusions, Abrasions\", \"Dental injury\", \"Dislocation\", \"Foreign body\", \"Fracture\", \"Hematoma\", \"Hemorrhage\", \"Ingested foreign object\", \"Internal organ injury\", \"KNEE PAIN\", \"LOW BACK PAIN\", \"Laceration\", \"Other/Not Stated\", \"PAIN\", \"Poisoning\", \"Puncture\", \"SYNCOPE\", \"Strain or Sprain\", \"Submersion (including Drowning)\"]}, {\"type\": \"bar\", \"y\": [1, 2, 2, 7, 13, 1, 2], \"x\": [\"Anoxia\", \"Contusions, Abrasions\", \"Fracture\", \"Internal organ injury\", \"Other/Not Stated\", \"Poisoning\", \"Submersion (including Drowning)\"]}], {\"margin\": {\"pad\": 4, \"t\": 100, \"b\": 100, \"l\": 50, \"r\": 50}, \"updatemenus\": [{\"buttons\": [{\"args\": [{\"visible\": [true, false, false, false, false, false, false, false, false, false, false, false, false, false, false, false, false, false, false, false, false, false, false, false, false, false, false, false, false, false, false, false, false, false, false, false, false, false, false, false, false]}, {\"title\": \"Distribution of all dispositions across diagnosis\"}], \"label\": \"All\", \"method\": \"update\"}, {\"args\": [{\"visible\": [false, true, false, false, false, false, false, false, false, false, false, false, false, false, false, false, false, false, false, false, false, false, false, false, false, false, false, false, false, false, false, false, false, false, false, false, false, false, false, false, false]}, {\"title\": \"Distribution of Treated and released across diagnosis\"}], \"label\": \"Treated and released\", \"method\": \"update\"}, {\"args\": [{\"visible\": [false, false, true, false, false, false, false, false, false, false, false, false, false, false, false, false, false, false, false, false, false, false, false, false, false, false, false, false, false, false, false, false, false, false, false, false, false, false, false, false, false]}, {\"title\": \"Distribution of Treated and admitted across diagnosis\"}], \"label\": \"Treated and admitted\", \"method\": \"update\"}, {\"args\": [{\"visible\": [false, false, false, true, false, false, false, false, false, false, false, false, false, false, false, false, false, false, false, false, false, false, false, false, false, false, false, false, false, false, false, false, false, false, false, false, false, false, false, false, false]}, {\"title\": \"Distribution of Treated and transfer across diagnosis\"}], \"label\": \"Treated and transfer\", \"method\": \"update\"}, {\"args\": [{\"visible\": [false, false, false, false, true, false, false, false, false, false, false, false, false, false, false, false, false, false, false, false, false, false, false, false, false, false, false, false, false, false, false, false, false, false, false, false, false, false, false, false, false]}, {\"title\": \"Distribution of Left without being s across diagnosis\"}], \"label\": \"Left without being s\", \"method\": \"update\"}, {\"args\": [{\"visible\": [false, false, false, false, false, true, false, false, false, false, false, false, false, false, false, false, false, false, false, false, false, false, false, false, false, false, false, false, false, false, false, false, false, false, false, false, false, false, false, false, false]}, {\"title\": \"Distribution of Held for observation across diagnosis\"}], \"label\": \"Held for observation\", \"method\": \"update\"}, {\"args\": [{\"visible\": [false, false, false, false, false, false, true, false, false, false, false, false, false, false, false, false, false, false, false, false, false, false, false, false, false, false, false, false, false, false, false, false, false, false, false, false, false, false, false, false, false]}, {\"title\": \"Distribution of Fatality, including  across diagnosis\"}], \"label\": \"Fatality, including \", \"method\": \"update\"}], \"active\": 0}], \"showlegend\": false, \"title\": \"Frequency distribution for disposition across diagnosis.\"}, {\"linkText\": \"Export to plot.ly\", \"showLink\": true})});</script>"
      ],
      "text/vnd.plotly.v1+html": [
       "<div id=\"f7ccac78-b08b-4311-9bee-d3ebd1ce476c\" style=\"height: 525px; width: 100%;\" class=\"plotly-graph-div\"></div><script type=\"text/javascript\">require([\"plotly\"], function(Plotly) { window.PLOTLYENV=window.PLOTLYENV || {};window.PLOTLYENV.BASE_URL=\"https://plot.ly\";Plotly.newPlot(\"f7ccac78-b08b-4311-9bee-d3ebd1ce476c\", [{\"type\": \"bar\", \"y\": [125, 170, 66, 337, 271, 86, 25, 19, 35, 392, 512, 191, 195, 1495, 10646, 149, 251, 414, 988, 32, 1270, 9735, 534, 64, 223, 483, 5306, 151, 201, 12307, 198, 3807, 2655, 724, 636, 112, 154, 10326, 54, 160], \"x\": [\"Amputation\", \"Anoxia\", \"Aspirated foreign object\", \"Avulsion\", \"BACK PAIN\", \"Burns, chemical (caustics, etc.)\", \"Burns, electrical\", \"Burns, not specified\", \"Burns, radiation (includes all cell damage by ultraviolet, x- rays, microwaves, laser beam, radioactive materials, etc.)\", \"Burns, scald (from hot liquids or steam)\", \"Burns, thermal (from flames or hot surface)\", \"CELLULITIS\", \"CHEST PAIN\", \"Concussions\", \"Contusions, Abrasions\", \"Crushing\", \"Dental injury\", \"Dermatitis, Conjunctivitis\", \"Dislocation\", \"Electric shock\", \"Foreign body\", \"Fracture\", \"Hematoma\", \"Hemorrhage\", \"INJURY\", \"Ingested foreign object\", \"Internal organ injury\", \"KNEE PAIN\", \"LOW BACK PAIN\", \"Laceration\", \"Nerve damage\", \"Other/Not Stated\", \"PAIN\", \"Poisoning\", \"Puncture\", \"SHOULDER PAIN\", \"SYNCOPE\", \"Strain or Sprain\", \"Submersion (including Drowning)\", \"TRAUMA\"]}, {\"type\": \"bar\", \"y\": [88, 147, 57, 318, 248, 82, 25, 17, 34, 336, 443, 159, 129, 1399, 10312, 146, 242, 410, 928, 29, 1241, 7561, 472, 58, 217, 403, 4439, 142, 195, 11910, 179, 3372, 2265, 554, 612, 108, 103, 10248, 26, 153], \"x\": [\"Amputation\", \"Anoxia\", \"Aspirated foreign object\", \"Avulsion\", \"BACK PAIN\", \"Burns, chemical (caustics, etc.)\", \"Burns, electrical\", \"Burns, not specified\", \"Burns, radiation (includes all cell damage by ultraviolet, x- rays, microwaves, laser beam, radioactive materials, etc.)\", \"Burns, scald (from hot liquids or steam)\", \"Burns, thermal (from flames or hot surface)\", \"CELLULITIS\", \"CHEST PAIN\", \"Concussions\", \"Contusions, Abrasions\", \"Crushing\", \"Dental injury\", \"Dermatitis, Conjunctivitis\", \"Dislocation\", \"Electric shock\", \"Foreign body\", \"Fracture\", \"Hematoma\", \"Hemorrhage\", \"INJURY\", \"Ingested foreign object\", \"Internal organ injury\", \"KNEE PAIN\", \"LOW BACK PAIN\", \"Laceration\", \"Nerve damage\", \"Other/Not Stated\", \"PAIN\", \"Poisoning\", \"Puncture\", \"SHOULDER PAIN\", \"SYNCOPE\", \"Strain or Sprain\", \"Submersion (including Drowning)\", \"TRAUMA\"]}, {\"type\": \"bar\", \"y\": [20, 13, 5, 12, 8, 2, 29, 27, 28, 59, 70, 217, 2, 2, 43, 3, 10, 1811, 42, 1, 1, 56, 630, 3, 3, 185, 17, 245, 220, 88, 15, 1, 40, 43, 23, 5], \"x\": [\"Amputation\", \"Anoxia\", \"Aspirated foreign object\", \"Avulsion\", \"BACK PAIN\", \"Burns, not specified\", \"Burns, scald (from hot liquids or steam)\", \"Burns, thermal (from flames or hot surface)\", \"CELLULITIS\", \"CHEST PAIN\", \"Concussions\", \"Contusions, Abrasions\", \"Dental injury\", \"Dermatitis, Conjunctivitis\", \"Dislocation\", \"Electric shock\", \"Foreign body\", \"Fracture\", \"Hematoma\", \"Hemorrhage\", \"INJURY\", \"Ingested foreign object\", \"Internal organ injury\", \"KNEE PAIN\", \"LOW BACK PAIN\", \"Laceration\", \"Nerve damage\", \"Other/Not Stated\", \"PAIN\", \"Poisoning\", \"Puncture\", \"SHOULDER PAIN\", \"SYNCOPE\", \"Strain or Sprain\", \"Submersion (including Drowning)\", \"TRAUMA\"]}, {\"type\": \"bar\", \"y\": [12, 3, 2, 4, 3, 1, 20, 29, 3, 4, 29, 3, 2, 8, 8, 267, 1, 4, 1, 18, 101, 41, 2, 39, 15, 18, 1, 11, 1], \"x\": [\"Amputation\", \"Anoxia\", \"Aspirated foreign object\", \"Avulsion\", \"BACK PAIN\", \"Burns, chemical (caustics, etc.)\", \"Burns, scald (from hot liquids or steam)\", \"Burns, thermal (from flames or hot surface)\", \"CELLULITIS\", \"Concussions\", \"Contusions, Abrasions\", \"Crushing\", \"Dental injury\", \"Dislocation\", \"Foreign body\", \"Fracture\", \"Hematoma\", \"Hemorrhage\", \"INJURY\", \"Ingested foreign object\", \"Internal organ injury\", \"Laceration\", \"Nerve damage\", \"Other/Not Stated\", \"PAIN\", \"Poisoning\", \"SYNCOPE\", \"Strain or Sprain\", \"TRAUMA\"]}, {\"type\": \"bar\", \"y\": [2, 3, 2, 2, 10, 2, 1, 5, 10, 1, 7, 52, 4, 2, 3, 10, 6, 12, 4, 1, 63, 5, 2, 123, 107, 123, 24, 7, 3, 1, 21, 1], \"x\": [\"Amputation\", \"Anoxia\", \"Aspirated foreign object\", \"Avulsion\", \"BACK PAIN\", \"Burns, chemical (caustics, etc.)\", \"Burns, radiation (includes all cell damage by ultraviolet, x- rays, microwaves, laser beam, radioactive materials, etc.)\", \"Burns, scald (from hot liquids or steam)\", \"Burns, thermal (from flames or hot surface)\", \"CELLULITIS\", \"Concussions\", \"Contusions, Abrasions\", \"Dental injury\", \"Dermatitis, Conjunctivitis\", \"Dislocation\", \"Foreign body\", \"Fracture\", \"Hematoma\", \"INJURY\", \"Ingested foreign object\", \"Internal organ injury\", \"KNEE PAIN\", \"LOW BACK PAIN\", \"Laceration\", \"Other/Not Stated\", \"PAIN\", \"Poisoning\", \"Puncture\", \"SHOULDER PAIN\", \"SYNCOPE\", \"Strain or Sprain\", \"TRAUMA\"]}, {\"type\": \"bar\", \"y\": [3, 3, 1, 2, 1, 2, 3, 7, 15, 34, 1, 6, 1, 88, 7, 1, 5, 66, 1, 1, 48, 31, 32, 39, 2, 9, 3, 3], \"x\": [\"Amputation\", \"Anoxia\", \"Avulsion\", \"BACK PAIN\", \"Burns, chemical (caustics, etc.)\", \"Burns, scald (from hot liquids or steam)\", \"Burns, thermal (from flames or hot surface)\", \"CHEST PAIN\", \"Concussions\", \"Contusions, Abrasions\", \"Dental injury\", \"Dislocation\", \"Foreign body\", \"Fracture\", \"Hematoma\", \"Hemorrhage\", \"Ingested foreign object\", \"Internal organ injury\", \"KNEE PAIN\", \"LOW BACK PAIN\", \"Laceration\", \"Other/Not Stated\", \"PAIN\", \"Poisoning\", \"Puncture\", \"SYNCOPE\", \"Strain or Sprain\", \"Submersion (including Drowning)\"]}, {\"type\": \"bar\", \"y\": [1, 2, 2, 7, 13, 1, 2], \"x\": [\"Anoxia\", \"Contusions, Abrasions\", \"Fracture\", \"Internal organ injury\", \"Other/Not Stated\", \"Poisoning\", \"Submersion (including Drowning)\"]}], {\"margin\": {\"pad\": 4, \"t\": 100, \"b\": 100, \"l\": 50, \"r\": 50}, \"updatemenus\": [{\"buttons\": [{\"args\": [{\"visible\": [true, false, false, false, false, false, false, false, false, false, false, false, false, false, false, false, false, false, false, false, false, false, false, false, false, false, false, false, false, false, false, false, false, false, false, false, false, false, false, false, false]}, {\"title\": \"Distribution of all dispositions across diagnosis\"}], \"label\": \"All\", \"method\": \"update\"}, {\"args\": [{\"visible\": [false, true, false, false, false, false, false, false, false, false, false, false, false, false, false, false, false, false, false, false, false, false, false, false, false, false, false, false, false, false, false, false, false, false, false, false, false, false, false, false, false]}, {\"title\": \"Distribution of Treated and released across diagnosis\"}], \"label\": \"Treated and released\", \"method\": \"update\"}, {\"args\": [{\"visible\": [false, false, true, false, false, false, false, false, false, false, false, false, false, false, false, false, false, false, false, false, false, false, false, false, false, false, false, false, false, false, false, false, false, false, false, false, false, false, false, false, false]}, {\"title\": \"Distribution of Treated and admitted across diagnosis\"}], \"label\": \"Treated and admitted\", \"method\": \"update\"}, {\"args\": [{\"visible\": [false, false, false, true, false, false, false, false, false, false, false, false, false, false, false, false, false, false, false, false, false, false, false, false, false, false, false, false, false, false, false, false, false, false, false, false, false, false, false, false, false]}, {\"title\": \"Distribution of Treated and transfer across diagnosis\"}], \"label\": \"Treated and transfer\", \"method\": \"update\"}, {\"args\": [{\"visible\": [false, false, false, false, true, false, false, false, false, false, false, false, false, false, false, false, false, false, false, false, false, false, false, false, false, false, false, false, false, false, false, false, false, false, false, false, false, false, false, false, false]}, {\"title\": \"Distribution of Left without being s across diagnosis\"}], \"label\": \"Left without being s\", \"method\": \"update\"}, {\"args\": [{\"visible\": [false, false, false, false, false, true, false, false, false, false, false, false, false, false, false, false, false, false, false, false, false, false, false, false, false, false, false, false, false, false, false, false, false, false, false, false, false, false, false, false, false]}, {\"title\": \"Distribution of Held for observation across diagnosis\"}], \"label\": \"Held for observation\", \"method\": \"update\"}, {\"args\": [{\"visible\": [false, false, false, false, false, false, true, false, false, false, false, false, false, false, false, false, false, false, false, false, false, false, false, false, false, false, false, false, false, false, false, false, false, false, false, false, false, false, false, false, false]}, {\"title\": \"Distribution of Fatality, including  across diagnosis\"}], \"label\": \"Fatality, including \", \"method\": \"update\"}], \"active\": 0}], \"showlegend\": false, \"title\": \"Frequency distribution for disposition across diagnosis.\"}, {\"linkText\": \"Export to plot.ly\", \"showLink\": true})});</script>"
      ]
     },
     "metadata": {},
     "output_type": "display_data"
    }
   ],
   "source": [
    "# Plot the dashboard\n",
    "py.offline.iplot(fig, filename='update_dropdown_2')"
   ]
  }
 ],
 "metadata": {
  "kernelspec": {
   "display_name": "Python 3",
   "language": "python",
   "name": "python3"
  },
  "language_info": {
   "codemirror_mode": {
    "name": "ipython",
    "version": 3
   },
   "file_extension": ".py",
   "mimetype": "text/x-python",
   "name": "python",
   "nbconvert_exporter": "python",
   "pygments_lexer": "ipython3",
   "version": "3.5.2"
  }
 },
 "nbformat": 4,
 "nbformat_minor": 2
}
