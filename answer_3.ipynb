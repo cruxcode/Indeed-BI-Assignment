{
 "cells": [
  {
   "cell_type": "markdown",
   "metadata": {},
   "source": [
    "## Problem Statement\n",
    "<ol style=\"font-size: 20px\">\n",
    "    <li>What diagnosis had the highest hospitalization rate?</li> \n",
    "    <li>What diagnosis most often concluded with the individual leaving without being seen?</li>\n",
    "    <li>Briefly discuss your findings and any caveats you'd mention when discussing this data</li>\n",
    "</ol>"
   ]
  },
  {
   "cell_type": "markdown",
   "metadata": {},
   "source": [
    "## Approach\n",
    "<p style=\"font-size: 20px\">The analysis consists of four parts as follows:</p>\n",
    "<ol style=\"font-size: 20px\">\n",
    "    <li>Data preparation</li>\n",
    "    <li>Find diagnosis with highest hospitalization rate.</li>\n",
    "    <li>Find diagnosis with most often concluded with the individual leaving without being seen</li>\n",
    "</ol>"
   ]
  },
  {
   "cell_type": "markdown",
   "metadata": {},
   "source": [
    "## Step 1: Data Preparation\n",
    "<b>Merging diagnosis and disposition tables for better understanding later.</b>"
   ]
  },
  {
   "cell_type": "code",
   "execution_count": 1,
   "metadata": {},
   "outputs": [],
   "source": [
    "%run 'load_files.ipynb'"
   ]
  },
  {
   "cell_type": "code",
   "execution_count": 2,
   "metadata": {},
   "outputs": [
    {
     "data": {
      "text/html": [
       "<script>requirejs.config({paths: { 'plotly': ['https://cdn.plot.ly/plotly-latest.min']},});if(!window.Plotly) {{require(['plotly'],function(plotly) {window.Plotly=plotly;});}}</script>"
      ],
      "text/vnd.plotly.v1+html": [
       "<script>requirejs.config({paths: { 'plotly': ['https://cdn.plot.ly/plotly-latest.min']},});if(!window.Plotly) {{require(['plotly'],function(plotly) {window.Plotly=plotly;});}}</script>"
      ]
     },
     "metadata": {},
     "output_type": "display_data"
    }
   ],
   "source": [
    "# Load packages and configuration\n",
    "import plotly as py\n",
    "import plotly.graph_objs as go\n",
    "import numpy as np\n",
    "from scipy.stats import chi2_contingency\n",
    "py.offline.init_notebook_mode(connected=True)"
   ]
  },
  {
   "cell_type": "code",
   "execution_count": 3,
   "metadata": {},
   "outputs": [
    {
     "name": "stdout",
     "output_type": "stream",
     "text": [
      "DataFrame disposition_df loaded\n",
      "DataFrame diagnosis_df loaded\n"
     ]
    }
   ],
   "source": [
    "# Load all data pertaining to this answer\n",
    "disposition_df = load_disposition()\n",
    "diagnosis_df = load_diagnosis()"
   ]
  },
  {
   "cell_type": "code",
   "execution_count": 4,
   "metadata": {},
   "outputs": [],
   "source": [
    "# Merging all datasets\n",
    "merged_df = main_df\n",
    "merged_df = pd.merge(left=merged_df, right=disposition_df, how='left', on='disposition')\n",
    "merged_df = pd.merge(left=merged_df, right=diagnosis_df, how='left', on='diag')"
   ]
  },
  {
   "cell_type": "code",
   "execution_count": 5,
   "metadata": {},
   "outputs": [
    {
     "name": "stdout",
     "output_type": "stream",
     "text": [
      "Diagnosis missing: 0\n",
      "Disposition missing: 0\n",
      "Diagnosis explanation missing 0\n",
      "Disposition explanantion is missing 0\n"
     ]
    }
   ],
   "source": [
    "# Checking for missing values in merged dataframe for concerned columns\n",
    "print(\"Diagnosis missing:\", num_missing(merged_df, 'diag'))\n",
    "print(\"Disposition missing:\", num_missing(merged_df, 'disposition'))\n",
    "print(\"Diagnosis explanation missing\", num_missing(merged_df, 'diag_exp'))\n",
    "print(\"Disposition explanantion is missing\", num_missing(merged_df, 'disposition_exp'))"
   ]
  },
  {
   "cell_type": "code",
   "execution_count": 6,
   "metadata": {},
   "outputs": [
    {
     "name": "stdout",
     "output_type": "stream",
     "text": [
      "Top 3 frequent other diagnosis type\n",
      " PAIN         2655\n",
      "BACK PAIN     271\n",
      "INJURY        223\n",
      "Name: diag_other, dtype: int64\n",
      "\n",
      "Number of other type of diagnosis: 1238\n"
     ]
    }
   ],
   "source": [
    "print(\"Top 3 frequent other diagnosis type\\n\", merged_df[\"diag_other\"].value_counts().nlargest(3))\n",
    "print(\"\\nNumber of other type of diagnosis:\", merged_df[\"diag_other\"].value_counts().shape[0])"
   ]
  },
  {
   "cell_type": "markdown",
   "metadata": {},
   "source": [
    "## Step 2: Considering disposition code 4 and 5 as corresponding to hospitalization"
   ]
  },
  {
   "cell_type": "code",
   "execution_count": 7,
   "metadata": {},
   "outputs": [],
   "source": [
    "# There are two columns for diagnosis, considering both the columns\n",
    "total_hospitalized = merged_df[(merged_df[\"disposition\"]==4) | (merged_df[\"disposition\"]==5)].shape[0]\n",
    "# Diagnosis Count Vs Hospitalized \n",
    "diag_hospitalized = merged_df[(merged_df[\"disposition\"]==4) | (merged_df[\"disposition\"]==5)][\"diag\"].value_counts()\\\n",
    "                    .to_frame().reset_index().rename(columns={'index': 'diag', 'diag': 'Frequency'})\\\n",
    "                    .sort_values(by=['Frequency'], ascending=False)\n",
    "diag_hospitalized = pd.merge(left=diag_hospitalized, right=diagnosis_df, how='left', on='diag')\n",
    "# Other diagnosis count Vs Hospitalize\n",
    "diag_other_hospitalized = merged_df[(merged_df[\"disposition\"]==4) | (merged_df[\"disposition\"]==5)][\"diag_other\"] \\\n",
    "                        .value_counts()\\\n",
    "                        .to_frame().reset_index().rename(columns={'index': 'diag_exp', 'diag_other': 'Frequency'})\\\n",
    "                        .sort_values(by=['Frequency'], ascending=False)"
   ]
  },
  {
   "cell_type": "code",
   "execution_count": 8,
   "metadata": {},
   "outputs": [],
   "source": [
    "# Concating the above two data frames\n",
    "concat_hospitalized = pd.concat([diag_hospitalized.drop(['diag'], axis=1), diag_other_hospitalized], ignore_index = True)\\\n",
    "                        .sort_values(by=['Frequency'], ascending=False)"
   ]
  },
  {
   "cell_type": "code",
   "execution_count": 9,
   "metadata": {},
   "outputs": [
    {
     "data": {
      "text/html": [
       "<div>\n",
       "<style scoped>\n",
       "    .dataframe tbody tr th:only-of-type {\n",
       "        vertical-align: middle;\n",
       "    }\n",
       "\n",
       "    .dataframe tbody tr th {\n",
       "        vertical-align: top;\n",
       "    }\n",
       "\n",
       "    .dataframe thead th {\n",
       "        text-align: right;\n",
       "    }\n",
       "</style>\n",
       "<table border=\"1\" class=\"dataframe\">\n",
       "  <thead>\n",
       "    <tr style=\"text-align: right;\">\n",
       "      <th></th>\n",
       "      <th>Frequency</th>\n",
       "      <th>diag_exp</th>\n",
       "    </tr>\n",
       "  </thead>\n",
       "  <tbody>\n",
       "    <tr>\n",
       "      <th>0</th>\n",
       "      <td>1899</td>\n",
       "      <td>Fracture</td>\n",
       "    </tr>\n",
       "    <tr>\n",
       "      <th>1</th>\n",
       "      <td>696</td>\n",
       "      <td>Other/Not Stated</td>\n",
       "    </tr>\n",
       "    <tr>\n",
       "      <th>2</th>\n",
       "      <td>696</td>\n",
       "      <td>Internal organ injury</td>\n",
       "    </tr>\n",
       "    <tr>\n",
       "      <th>27</th>\n",
       "      <td>252</td>\n",
       "      <td>PAIN</td>\n",
       "    </tr>\n",
       "    <tr>\n",
       "      <th>3</th>\n",
       "      <td>251</td>\n",
       "      <td>Contusions, Abrasions</td>\n",
       "    </tr>\n",
       "  </tbody>\n",
       "</table>\n",
       "</div>"
      ],
      "text/plain": [
       "    Frequency               diag_exp\n",
       "0        1899               Fracture\n",
       "1         696       Other/Not Stated\n",
       "2         696  Internal organ injury\n",
       "27        252                   PAIN\n",
       "3         251  Contusions, Abrasions"
      ]
     },
     "execution_count": 9,
     "metadata": {},
     "output_type": "execute_result"
    }
   ],
   "source": [
    "concat_hospitalized.head()"
   ]
  },
  {
   "cell_type": "code",
   "execution_count": 10,
   "metadata": {
    "scrolled": false
   },
   "outputs": [
    {
     "name": "stdout",
     "output_type": "stream",
     "text": [
      "Populating the interactive namespace from numpy and matplotlib\n"
     ]
    },
    {
     "data": {
      "text/plain": [
       "<matplotlib.figure.Figure at 0x7ffbacbf55f8>"
      ]
     },
     "metadata": {},
     "output_type": "display_data"
    },
    {
     "data": {
      "image/png": "[encoded data removed]",
      "text/plain": [
       "<matplotlib.figure.Figure at 0x7ffba3bcbfd0>"
      ]
     },
     "metadata": {},
     "output_type": "display_data"
    }
   ],
   "source": [
    "# Creating visualisation for required analysis\n",
    "%pylab inline\n",
    "pylab.rcParams['figure.figsize'] = (15, 6)\n",
    "plt.figure()\n",
    "concat_hospitalized.iloc[0:20].plot(x='diag_exp', y='Frequency', kind='bar', title=\"Hospitalization frequency VS Diagnosis\");"
   ]
  },
  {
   "cell_type": "markdown",
   "metadata": {},
   "source": [
    "## Step 2 Answer: Fracture (diag code 57) has highest number of hospitalization"
   ]
  },
  {
   "cell_type": "markdown",
   "metadata": {},
   "source": [
    "## Step 3: Disposition code 6 is for left without seen"
   ]
  },
  {
   "cell_type": "code",
   "execution_count": 11,
   "metadata": {},
   "outputs": [],
   "source": [
    "# Repeating same steps for code 6\n",
    "total_unseen = merged_df[(merged_df[\"disposition\"]==6)].shape[0]\n",
    "diag_unseen = merged_df[(merged_df[\"disposition\"]==6)][\"diag\"].value_counts()\\\n",
    "                    .to_frame().reset_index().rename(columns={'index': 'diag', 'diag': 'Frequency'})\\\n",
    "                    .sort_values(by=['Frequency'], ascending=False)\n",
    "diag_unseen = pd.merge(left=diag_unseen, right=diagnosis_df, how='left', on='diag')\n",
    "diag_other_unseen = merged_df[(merged_df[\"disposition\"]==6)][\"diag_other\"] \\\n",
    "                        .value_counts()\\\n",
    "                        .to_frame().reset_index().rename(columns={'index': 'diag_exp', 'diag_other': 'Frequency'})\\\n",
    "                        .sort_values(by=['Frequency'], ascending=False)\n",
    "concat_unseen = pd.concat([diag_unseen.drop(['diag'], axis=1), diag_other_unseen], ignore_index = True)\\\n",
    "                        .sort_values(by=['Frequency'], ascending=False)"
   ]
  },
  {
   "cell_type": "code",
   "execution_count": 12,
   "metadata": {},
   "outputs": [
    {
     "name": "stdout",
     "output_type": "stream",
     "text": [
      "Populating the interactive namespace from numpy and matplotlib\n"
     ]
    },
    {
     "data": {
      "text/plain": [
       "<matplotlib.figure.Figure at 0x7ffbdfdf1828>"
      ]
     },
     "metadata": {},
     "output_type": "display_data"
    },
    {
     "data": {
      "image/png": "[encoded data removed]",
      "text/plain": [
       "<matplotlib.figure.Figure at 0x7ffba3bc39e8>"
      ]
     },
     "metadata": {},
     "output_type": "display_data"
    }
   ],
   "source": [
    "# Creating visualisation for required analysis\n",
    "%pylab inline\n",
    "pylab.rcParams['figure.figsize'] = (15, 6)\n",
    "plt.figure()\n",
    "concat_unseen.iloc[0:20].plot(x='diag_exp', y='Frequency', kind='bar', title=\"Individual leaving without seen VS Diagnosis\");"
   ]
  },
  {
   "cell_type": "markdown",
   "metadata": {},
   "source": [
    "## Step 3 Answer: Most of diagnosis of unseen is Other/Not Stated(diag code 71)"
   ]
  },
  {
   "cell_type": "markdown",
   "metadata": {},
   "source": [
    "## Step 4: Discussion"
   ]
  },
  {
   "cell_type": "code",
   "execution_count": 13,
   "metadata": {},
   "outputs": [
    {
     "name": "stdout",
     "output_type": "stream",
     "text": [
      "Total Disposition Not Recorded incidents: 0\n"
     ]
    }
   ],
   "source": [
    "total_unrecorded = merged_df[(merged_df[\"disposition\"]==9)].shape[0]\n",
    "print(\"Total Disposition Not Recorded incidents:\", total_unrecorded)"
   ]
  },
  {
   "cell_type": "code",
   "execution_count": 17,
   "metadata": {},
   "outputs": [],
   "source": [
    "# Preparing data for plotting histograms as required in plotly\n",
    "diag_freq = merged_df[\"diag\"].value_counts().to_frame().reset_index().rename(columns={'index': 'diag', 'diag': 'Frequency'})\n",
    "df = merged_df\n",
    "data = []\n",
    "buttons = []\n",
    "\n",
    "demo = df.groupby(['disposition'])[df.columns[0]].count().to_frame().reset_index().rename(columns={'CPSC Case #': 'Frequency'})\n",
    "trace = go.Bar(x=demo['disposition'], y=demo.Frequency)\n",
    "data.append(trace)\n",
    "label = 'All'\n",
    "method = 'update'\n",
    "visible = [False]*(diag_freq.shape[0] + 1)\n",
    "visible[0] = True\n",
    "args = [{'visible': visible}, {'title': 'Distribution of all diagnosis' + ' across dispositions'}]\n",
    "buttons.append(dict(label= label, method=method, args=args))\n",
    "\n",
    "for i in range(diag_freq.shape[0]):\n",
    "    diag = diag_freq.iloc[i].diag\n",
    "    diag_exp = diagnosis_df[diagnosis_df[\"diag\"] == diag][\"diag_exp\"].item()[:20]\n",
    "    demo = df[df.diag == diag].groupby(['disposition'])[df.columns[0]].count().to_frame().reset_index().rename(columns={'CPSC Case #': 'Frequency'})\n",
    "    trace = go.Bar(x=demo['disposition'], y=demo.Frequency)\n",
    "    data.append(trace)\n",
    "    label = diag_exp\n",
    "    method = 'update'\n",
    "    visible = [False]*(diag_freq.shape[0] + 1)\n",
    "    visible[i+1] = True\n",
    "    args = [{'visible': visible}, {'title': 'Distribution of ' + diag_exp + ' across dispositions'}]\n",
    "    buttons.append(dict(label= label, method=method, args=args))\n",
    "\n",
    "# Preparing inputs for dashboard\n",
    "updatemenus = list([\n",
    "    dict(active=0,\n",
    "         buttons=list(buttons),\n",
    "    )\n",
    "])\n",
    "\n",
    "layout = dict(title='Frequency distribution for diagnosis across dispositions.', showlegend=False, updatemenus=updatemenus, margin=go.Margin(\n",
    "        l=50,\n",
    "        r=50,\n",
    "        b=100,\n",
    "        t=100,\n",
    "        pad=4\n",
    "    ))\n",
    "\n",
    "fig = dict(data=data, layout=layout)"
   ]
  },
  {
   "cell_type": "code",
   "execution_count": 18,
   "metadata": {},
   "outputs": [
    {
     "data": {
      "application/vnd.plotly.v1+json": {
       "data": [
        {
         "type": "bar",
         "x": [
          1,
          2,
          4,
          5,
          6,
          8
         ],
         "y": [
          59807,
          651,
          3979,
          415,
          619,
          28
         ]
        },
        {
         "type": "bar",
         "x": [
          1,
          2,
          4,
          5,
          6
         ],
         "y": [
          11910,
          41,
          185,
          48,
          123
         ]
        },
        {
         "type": "bar",
         "x": [
          1,
          2,
          4,
          5,
          6,
          8
         ],
         "y": [
          10312,
          29,
          217,
          34,
          52,
          2
         ]
        },
        {
         "type": "bar",
         "x": [
          1,
          2,
          4,
          5,
          6
         ],
         "y": [
          10248,
          11,
          43,
          3,
          21
         ]
        },
        {
         "type": "bar",
         "x": [
          1,
          2,
          4,
          5,
          6,
          8
         ],
         "y": [
          7561,
          267,
          1811,
          88,
          6,
          2
         ]
        },
        {
         "type": "bar",
         "x": [
          1,
          2,
          4,
          5,
          6,
          8
         ],
         "y": [
          7091,
          63,
          613,
          83,
          257,
          13
         ]
        },
        {
         "type": "bar",
         "x": [
          1,
          2,
          4,
          5,
          6,
          8
         ],
         "y": [
          4439,
          101,
          630,
          66,
          63,
          7
         ]
        },
        {
         "type": "bar",
         "x": [
          1,
          2,
          4,
          5,
          6
         ],
         "y": [
          1399,
          4,
          70,
          15,
          7
         ]
        },
        {
         "type": "bar",
         "x": [
          1,
          2,
          4,
          5,
          6
         ],
         "y": [
          1241,
          8,
          10,
          1,
          10
         ]
        },
        {
         "type": "bar",
         "x": [
          1,
          2,
          4,
          5,
          6
         ],
         "y": [
          928,
          8,
          43,
          6,
          3
         ]
        },
        {
         "type": "bar",
         "x": [
          1,
          2,
          4,
          5,
          6,
          8
         ],
         "y": [
          554,
          18,
          88,
          39,
          24,
          1
         ]
        },
        {
         "type": "bar",
         "x": [
          1,
          4,
          5,
          6
         ],
         "y": [
          612,
          15,
          2,
          7
         ]
        },
        {
         "type": "bar",
         "x": [
          1,
          2,
          4,
          5,
          6
         ],
         "y": [
          472,
          1,
          42,
          7,
          12
         ]
        },
        {
         "type": "bar",
         "x": [
          1,
          2,
          4,
          5,
          6
         ],
         "y": [
          443,
          29,
          27,
          3,
          10
         ]
        },
        {
         "type": "bar",
         "x": [
          1,
          2,
          4,
          5,
          6
         ],
         "y": [
          403,
          18,
          56,
          5,
          1
         ]
        },
        {
         "type": "bar",
         "x": [
          1,
          4,
          6
         ],
         "y": [
          410,
          2,
          2
         ]
        },
        {
         "type": "bar",
         "x": [
          1,
          2,
          4,
          5,
          6
         ],
         "y": [
          336,
          20,
          29,
          2,
          5
         ]
        },
        {
         "type": "bar",
         "x": [
          1,
          2,
          4,
          5,
          6
         ],
         "y": [
          318,
          4,
          12,
          1,
          2
         ]
        },
        {
         "type": "bar",
         "x": [
          1,
          2,
          4,
          5,
          6
         ],
         "y": [
          242,
          2,
          2,
          1,
          4
         ]
        },
        {
         "type": "bar",
         "x": [
          1,
          2,
          4
         ],
         "y": [
          179,
          2,
          17
         ]
        },
        {
         "type": "bar",
         "x": [
          1,
          2,
          4,
          5,
          6,
          8
         ],
         "y": [
          147,
          3,
          13,
          3,
          3,
          1
         ]
        },
        {
         "type": "bar",
         "x": [
          1,
          2
         ],
         "y": [
          146,
          3
         ]
        },
        {
         "type": "bar",
         "x": [
          1,
          2,
          4,
          5,
          6
         ],
         "y": [
          88,
          12,
          20,
          3,
          2
         ]
        },
        {
         "type": "bar",
         "x": [
          1,
          2,
          5,
          6
         ],
         "y": [
          82,
          1,
          1,
          2
         ]
        },
        {
         "type": "bar",
         "x": [
          1,
          2,
          4,
          6
         ],
         "y": [
          57,
          2,
          5,
          2
         ]
        },
        {
         "type": "bar",
         "x": [
          1,
          2,
          4,
          5
         ],
         "y": [
          58,
          4,
          1,
          1
         ]
        },
        {
         "type": "bar",
         "x": [
          1,
          4,
          5,
          8
         ],
         "y": [
          26,
          23,
          3,
          2
         ]
        },
        {
         "type": "bar",
         "x": [
          1,
          6
         ],
         "y": [
          34,
          1
         ]
        },
        {
         "type": "bar",
         "x": [
          1,
          4
         ],
         "y": [
          29,
          3
         ]
        },
        {
         "type": "bar",
         "x": [
          1
         ],
         "y": [
          25
         ]
        },
        {
         "type": "bar",
         "x": [
          1,
          4
         ],
         "y": [
          17,
          2
         ]
        }
       ],
       "layout": {
        "margin": {
         "b": 100,
         "l": 50,
         "pad": 4,
         "r": 50,
         "t": 100
        },
        "showlegend": false,
        "title": "Diagnosis vs Age",
        "updatemenus": [
         {
          "active": 0,
          "buttons": [
           {
            "args": [
             {
              "visible": [
               true,
               false,
               false,
               false,
               false,
               false,
               false,
               false,
               false,
               false,
               false,
               false,
               false,
               false,
               false,
               false,
               false,
               false,
               false,
               false,
               false,
               false,
               false,
               false,
               false,
               false,
               false,
               false,
               false,
               false,
               false
              ]
             },
             {
              "title": "Distribution of all diagnosis across dispositions"
             }
            ],
            "label": "All",
            "method": "update"
           },
           {
            "args": [
             {
              "visible": [
               false,
               true,
               false,
               false,
               false,
               false,
               false,
               false,
               false,
               false,
               false,
               false,
               false,
               false,
               false,
               false,
               false,
               false,
               false,
               false,
               false,
               false,
               false,
               false,
               false,
               false,
               false,
               false,
               false,
               false,
               false
              ]
             },
             {
              "title": "Distribution of Laceration across dispositions"
             }
            ],
            "label": "Laceration",
            "method": "update"
           },
           {
            "args": [
             {
              "visible": [
               false,
               false,
               true,
               false,
               false,
               false,
               false,
               false,
               false,
               false,
               false,
               false,
               false,
               false,
               false,
               false,
               false,
               false,
               false,
               false,
               false,
               false,
               false,
               false,
               false,
               false,
               false,
               false,
               false,
               false,
               false
              ]
             },
             {
              "title": "Distribution of Contusions, Abrasion across dispositions"
             }
            ],
            "label": "Contusions, Abrasion",
            "method": "update"
           },
           {
            "args": [
             {
              "visible": [
               false,
               false,
               false,
               true,
               false,
               false,
               false,
               false,
               false,
               false,
               false,
               false,
               false,
               false,
               false,
               false,
               false,
               false,
               false,
               false,
               false,
               false,
               false,
               false,
               false,
               false,
               false,
               false,
               false,
               false,
               false
              ]
             },
             {
              "title": "Distribution of Strain or Sprain across dispositions"
             }
            ],
            "label": "Strain or Sprain",
            "method": "update"
           },
           {
            "args": [
             {
              "visible": [
               false,
               false,
               false,
               false,
               true,
               false,
               false,
               false,
               false,
               false,
               false,
               false,
               false,
               false,
               false,
               false,
               false,
               false,
               false,
               false,
               false,
               false,
               false,
               false,
               false,
               false,
               false,
               false,
               false,
               false,
               false
              ]
             },
             {
              "title": "Distribution of Fracture across dispositions"
             }
            ],
            "label": "Fracture",
            "method": "update"
           },
           {
            "args": [
             {
              "visible": [
               false,
               false,
               false,
               false,
               false,
               true,
               false,
               false,
               false,
               false,
               false,
               false,
               false,
               false,
               false,
               false,
               false,
               false,
               false,
               false,
               false,
               false,
               false,
               false,
               false,
               false,
               false,
               false,
               false,
               false,
               false
              ]
             },
             {
              "title": "Distribution of Other/Not Stated across dispositions"
             }
            ],
            "label": "Other/Not Stated",
            "method": "update"
           },
           {
            "args": [
             {
              "visible": [
               false,
               false,
               false,
               false,
               false,
               false,
               true,
               false,
               false,
               false,
               false,
               false,
               false,
               false,
               false,
               false,
               false,
               false,
               false,
               false,
               false,
               false,
               false,
               false,
               false,
               false,
               false,
               false,
               false,
               false,
               false
              ]
             },
             {
              "title": "Distribution of Internal organ injur across dispositions"
             }
            ],
            "label": "Internal organ injur",
            "method": "update"
           },
           {
            "args": [
             {
              "visible": [
               false,
               false,
               false,
               false,
               false,
               false,
               false,
               true,
               false,
               false,
               false,
               false,
               false,
               false,
               false,
               false,
               false,
               false,
               false,
               false,
               false,
               false,
               false,
               false,
               false,
               false,
               false,
               false,
               false,
               false,
               false
              ]
             },
             {
              "title": "Distribution of Concussions across dispositions"
             }
            ],
            "label": "Concussions",
            "method": "update"
           },
           {
            "args": [
             {
              "visible": [
               false,
               false,
               false,
               false,
               false,
               false,
               false,
               false,
               true,
               false,
               false,
               false,
               false,
               false,
               false,
               false,
               false,
               false,
               false,
               false,
               false,
               false,
               false,
               false,
               false,
               false,
               false,
               false,
               false,
               false,
               false
              ]
             },
             {
              "title": "Distribution of Foreign body across dispositions"
             }
            ],
            "label": "Foreign body",
            "method": "update"
           },
           {
            "args": [
             {
              "visible": [
               false,
               false,
               false,
               false,
               false,
               false,
               false,
               false,
               false,
               true,
               false,
               false,
               false,
               false,
               false,
               false,
               false,
               false,
               false,
               false,
               false,
               false,
               false,
               false,
               false,
               false,
               false,
               false,
               false,
               false,
               false
              ]
             },
             {
              "title": "Distribution of Dislocation across dispositions"
             }
            ],
            "label": "Dislocation",
            "method": "update"
           },
           {
            "args": [
             {
              "visible": [
               false,
               false,
               false,
               false,
               false,
               false,
               false,
               false,
               false,
               false,
               true,
               false,
               false,
               false,
               false,
               false,
               false,
               false,
               false,
               false,
               false,
               false,
               false,
               false,
               false,
               false,
               false,
               false,
               false,
               false,
               false
              ]
             },
             {
              "title": "Distribution of Poisoning across dispositions"
             }
            ],
            "label": "Poisoning",
            "method": "update"
           },
           {
            "args": [
             {
              "visible": [
               false,
               false,
               false,
               false,
               false,
               false,
               false,
               false,
               false,
               false,
               false,
               true,
               false,
               false,
               false,
               false,
               false,
               false,
               false,
               false,
               false,
               false,
               false,
               false,
               false,
               false,
               false,
               false,
               false,
               false,
               false
              ]
             },
             {
              "title": "Distribution of Puncture across dispositions"
             }
            ],
            "label": "Puncture",
            "method": "update"
           },
           {
            "args": [
             {
              "visible": [
               false,
               false,
               false,
               false,
               false,
               false,
               false,
               false,
               false,
               false,
               false,
               false,
               true,
               false,
               false,
               false,
               false,
               false,
               false,
               false,
               false,
               false,
               false,
               false,
               false,
               false,
               false,
               false,
               false,
               false,
               false
              ]
             },
             {
              "title": "Distribution of Hematoma across dispositions"
             }
            ],
            "label": "Hematoma",
            "method": "update"
           },
           {
            "args": [
             {
              "visible": [
               false,
               false,
               false,
               false,
               false,
               false,
               false,
               false,
               false,
               false,
               false,
               false,
               false,
               true,
               false,
               false,
               false,
               false,
               false,
               false,
               false,
               false,
               false,
               false,
               false,
               false,
               false,
               false,
               false,
               false,
               false
              ]
             },
             {
              "title": "Distribution of Burns, thermal (from across dispositions"
             }
            ],
            "label": "Burns, thermal (from",
            "method": "update"
           },
           {
            "args": [
             {
              "visible": [
               false,
               false,
               false,
               false,
               false,
               false,
               false,
               false,
               false,
               false,
               false,
               false,
               false,
               false,
               true,
               false,
               false,
               false,
               false,
               false,
               false,
               false,
               false,
               false,
               false,
               false,
               false,
               false,
               false,
               false,
               false
              ]
             },
             {
              "title": "Distribution of Ingested foreign obj across dispositions"
             }
            ],
            "label": "Ingested foreign obj",
            "method": "update"
           },
           {
            "args": [
             {
              "visible": [
               false,
               false,
               false,
               false,
               false,
               false,
               false,
               false,
               false,
               false,
               false,
               false,
               false,
               false,
               false,
               true,
               false,
               false,
               false,
               false,
               false,
               false,
               false,
               false,
               false,
               false,
               false,
               false,
               false,
               false,
               false
              ]
             },
             {
              "title": "Distribution of Dermatitis, Conjunct across dispositions"
             }
            ],
            "label": "Dermatitis, Conjunct",
            "method": "update"
           },
           {
            "args": [
             {
              "visible": [
               false,
               false,
               false,
               false,
               false,
               false,
               false,
               false,
               false,
               false,
               false,
               false,
               false,
               false,
               false,
               false,
               true,
               false,
               false,
               false,
               false,
               false,
               false,
               false,
               false,
               false,
               false,
               false,
               false,
               false,
               false
              ]
             },
             {
              "title": "Distribution of Burns, scald (from h across dispositions"
             }
            ],
            "label": "Burns, scald (from h",
            "method": "update"
           },
           {
            "args": [
             {
              "visible": [
               false,
               false,
               false,
               false,
               false,
               false,
               false,
               false,
               false,
               false,
               false,
               false,
               false,
               false,
               false,
               false,
               false,
               true,
               false,
               false,
               false,
               false,
               false,
               false,
               false,
               false,
               false,
               false,
               false,
               false,
               false
              ]
             },
             {
              "title": "Distribution of Avulsion across dispositions"
             }
            ],
            "label": "Avulsion",
            "method": "update"
           },
           {
            "args": [
             {
              "visible": [
               false,
               false,
               false,
               false,
               false,
               false,
               false,
               false,
               false,
               false,
               false,
               false,
               false,
               false,
               false,
               false,
               false,
               false,
               true,
               false,
               false,
               false,
               false,
               false,
               false,
               false,
               false,
               false,
               false,
               false,
               false
              ]
             },
             {
              "title": "Distribution of Dental injury across dispositions"
             }
            ],
            "label": "Dental injury",
            "method": "update"
           },
           {
            "args": [
             {
              "visible": [
               false,
               false,
               false,
               false,
               false,
               false,
               false,
               false,
               false,
               false,
               false,
               false,
               false,
               false,
               false,
               false,
               false,
               false,
               false,
               true,
               false,
               false,
               false,
               false,
               false,
               false,
               false,
               false,
               false,
               false,
               false
              ]
             },
             {
              "title": "Distribution of Nerve damage across dispositions"
             }
            ],
            "label": "Nerve damage",
            "method": "update"
           },
           {
            "args": [
             {
              "visible": [
               false,
               false,
               false,
               false,
               false,
               false,
               false,
               false,
               false,
               false,
               false,
               false,
               false,
               false,
               false,
               false,
               false,
               false,
               false,
               false,
               true,
               false,
               false,
               false,
               false,
               false,
               false,
               false,
               false,
               false,
               false
              ]
             },
             {
              "title": "Distribution of Anoxia across dispositions"
             }
            ],
            "label": "Anoxia",
            "method": "update"
           },
           {
            "args": [
             {
              "visible": [
               false,
               false,
               false,
               false,
               false,
               false,
               false,
               false,
               false,
               false,
               false,
               false,
               false,
               false,
               false,
               false,
               false,
               false,
               false,
               false,
               false,
               true,
               false,
               false,
               false,
               false,
               false,
               false,
               false,
               false,
               false
              ]
             },
             {
              "title": "Distribution of Crushing across dispositions"
             }
            ],
            "label": "Crushing",
            "method": "update"
           },
           {
            "args": [
             {
              "visible": [
               false,
               false,
               false,
               false,
               false,
               false,
               false,
               false,
               false,
               false,
               false,
               false,
               false,
               false,
               false,
               false,
               false,
               false,
               false,
               false,
               false,
               false,
               true,
               false,
               false,
               false,
               false,
               false,
               false,
               false,
               false
              ]
             },
             {
              "title": "Distribution of Amputation across dispositions"
             }
            ],
            "label": "Amputation",
            "method": "update"
           },
           {
            "args": [
             {
              "visible": [
               false,
               false,
               false,
               false,
               false,
               false,
               false,
               false,
               false,
               false,
               false,
               false,
               false,
               false,
               false,
               false,
               false,
               false,
               false,
               false,
               false,
               false,
               false,
               true,
               false,
               false,
               false,
               false,
               false,
               false,
               false
              ]
             },
             {
              "title": "Distribution of Burns, chemical (cau across dispositions"
             }
            ],
            "label": "Burns, chemical (cau",
            "method": "update"
           },
           {
            "args": [
             {
              "visible": [
               false,
               false,
               false,
               false,
               false,
               false,
               false,
               false,
               false,
               false,
               false,
               false,
               false,
               false,
               false,
               false,
               false,
               false,
               false,
               false,
               false,
               false,
               false,
               false,
               true,
               false,
               false,
               false,
               false,
               false,
               false
              ]
             },
             {
              "title": "Distribution of Aspirated foreign ob across dispositions"
             }
            ],
            "label": "Aspirated foreign ob",
            "method": "update"
           },
           {
            "args": [
             {
              "visible": [
               false,
               false,
               false,
               false,
               false,
               false,
               false,
               false,
               false,
               false,
               false,
               false,
               false,
               false,
               false,
               false,
               false,
               false,
               false,
               false,
               false,
               false,
               false,
               false,
               false,
               true,
               false,
               false,
               false,
               false,
               false
              ]
             },
             {
              "title": "Distribution of Hemorrhage across dispositions"
             }
            ],
            "label": "Hemorrhage",
            "method": "update"
           },
           {
            "args": [
             {
              "visible": [
               false,
               false,
               false,
               false,
               false,
               false,
               false,
               false,
               false,
               false,
               false,
               false,
               false,
               false,
               false,
               false,
               false,
               false,
               false,
               false,
               false,
               false,
               false,
               false,
               false,
               false,
               true,
               false,
               false,
               false,
               false
              ]
             },
             {
              "title": "Distribution of Submersion (includin across dispositions"
             }
            ],
            "label": "Submersion (includin",
            "method": "update"
           },
           {
            "args": [
             {
              "visible": [
               false,
               false,
               false,
               false,
               false,
               false,
               false,
               false,
               false,
               false,
               false,
               false,
               false,
               false,
               false,
               false,
               false,
               false,
               false,
               false,
               false,
               false,
               false,
               false,
               false,
               false,
               false,
               true,
               false,
               false,
               false
              ]
             },
             {
              "title": "Distribution of Burns, radiation (in across dispositions"
             }
            ],
            "label": "Burns, radiation (in",
            "method": "update"
           },
           {
            "args": [
             {
              "visible": [
               false,
               false,
               false,
               false,
               false,
               false,
               false,
               false,
               false,
               false,
               false,
               false,
               false,
               false,
               false,
               false,
               false,
               false,
               false,
               false,
               false,
               false,
               false,
               false,
               false,
               false,
               false,
               false,
               true,
               false,
               false
              ]
             },
             {
              "title": "Distribution of Electric shock across dispositions"
             }
            ],
            "label": "Electric shock",
            "method": "update"
           },
           {
            "args": [
             {
              "visible": [
               false,
               false,
               false,
               false,
               false,
               false,
               false,
               false,
               false,
               false,
               false,
               false,
               false,
               false,
               false,
               false,
               false,
               false,
               false,
               false,
               false,
               false,
               false,
               false,
               false,
               false,
               false,
               false,
               false,
               true,
               false
              ]
             },
             {
              "title": "Distribution of Burns, electrical across dispositions"
             }
            ],
            "label": "Burns, electrical",
            "method": "update"
           },
           {
            "args": [
             {
              "visible": [
               false,
               false,
               false,
               false,
               false,
               false,
               false,
               false,
               false,
               false,
               false,
               false,
               false,
               false,
               false,
               false,
               false,
               false,
               false,
               false,
               false,
               false,
               false,
               false,
               false,
               false,
               false,
               false,
               false,
               false,
               true
              ]
             },
             {
              "title": "Distribution of Burns, not specified across dispositions"
             }
            ],
            "label": "Burns, not specified",
            "method": "update"
           }
          ]
         }
        ]
       }
      },
      "text/html": [
       "<div id=\"3d7c8e81-3bd3-471c-a80c-d025c234cf49\" style=\"height: 525px; width: 100%;\" class=\"plotly-graph-div\"></div><script type=\"text/javascript\">require([\"plotly\"], function(Plotly) { window.PLOTLYENV=window.PLOTLYENV || {};window.PLOTLYENV.BASE_URL=\"https://plot.ly\";Plotly.newPlot(\"3d7c8e81-3bd3-471c-a80c-d025c234cf49\", [{\"x\": [1, 2, 4, 5, 6, 8], \"type\": \"bar\", \"y\": [59807, 651, 3979, 415, 619, 28]}, {\"x\": [1, 2, 4, 5, 6], \"type\": \"bar\", \"y\": [11910, 41, 185, 48, 123]}, {\"x\": [1, 2, 4, 5, 6, 8], \"type\": \"bar\", \"y\": [10312, 29, 217, 34, 52, 2]}, {\"x\": [1, 2, 4, 5, 6], \"type\": \"bar\", \"y\": [10248, 11, 43, 3, 21]}, {\"x\": [1, 2, 4, 5, 6, 8], \"type\": \"bar\", \"y\": [7561, 267, 1811, 88, 6, 2]}, {\"x\": [1, 2, 4, 5, 6, 8], \"type\": \"bar\", \"y\": [7091, 63, 613, 83, 257, 13]}, {\"x\": [1, 2, 4, 5, 6, 8], \"type\": \"bar\", \"y\": [4439, 101, 630, 66, 63, 7]}, {\"x\": [1, 2, 4, 5, 6], \"type\": \"bar\", \"y\": [1399, 4, 70, 15, 7]}, {\"x\": [1, 2, 4, 5, 6], \"type\": \"bar\", \"y\": [1241, 8, 10, 1, 10]}, {\"x\": [1, 2, 4, 5, 6], \"type\": \"bar\", \"y\": [928, 8, 43, 6, 3]}, {\"x\": [1, 2, 4, 5, 6, 8], \"type\": \"bar\", \"y\": [554, 18, 88, 39, 24, 1]}, {\"x\": [1, 4, 5, 6], \"type\": \"bar\", \"y\": [612, 15, 2, 7]}, {\"x\": [1, 2, 4, 5, 6], \"type\": \"bar\", \"y\": [472, 1, 42, 7, 12]}, {\"x\": [1, 2, 4, 5, 6], \"type\": \"bar\", \"y\": [443, 29, 27, 3, 10]}, {\"x\": [1, 2, 4, 5, 6], \"type\": \"bar\", \"y\": [403, 18, 56, 5, 1]}, {\"x\": [1, 4, 6], \"type\": \"bar\", \"y\": [410, 2, 2]}, {\"x\": [1, 2, 4, 5, 6], \"type\": \"bar\", \"y\": [336, 20, 29, 2, 5]}, {\"x\": [1, 2, 4, 5, 6], \"type\": \"bar\", \"y\": [318, 4, 12, 1, 2]}, {\"x\": [1, 2, 4, 5, 6], \"type\": \"bar\", \"y\": [242, 2, 2, 1, 4]}, {\"x\": [1, 2, 4], \"type\": \"bar\", \"y\": [179, 2, 17]}, {\"x\": [1, 2, 4, 5, 6, 8], \"type\": \"bar\", \"y\": [147, 3, 13, 3, 3, 1]}, {\"x\": [1, 2], \"type\": \"bar\", \"y\": [146, 3]}, {\"x\": [1, 2, 4, 5, 6], \"type\": \"bar\", \"y\": [88, 12, 20, 3, 2]}, {\"x\": [1, 2, 5, 6], \"type\": \"bar\", \"y\": [82, 1, 1, 2]}, {\"x\": [1, 2, 4, 6], \"type\": \"bar\", \"y\": [57, 2, 5, 2]}, {\"x\": [1, 2, 4, 5], \"type\": \"bar\", \"y\": [58, 4, 1, 1]}, {\"x\": [1, 4, 5, 8], \"type\": \"bar\", \"y\": [26, 23, 3, 2]}, {\"x\": [1, 6], \"type\": \"bar\", \"y\": [34, 1]}, {\"x\": [1, 4], \"type\": \"bar\", \"y\": [29, 3]}, {\"x\": [1], \"type\": \"bar\", \"y\": [25]}, {\"x\": [1, 4], \"type\": \"bar\", \"y\": [17, 2]}], {\"title\": \"Diagnosis vs Age\", \"margin\": {\"b\": 100, \"r\": 50, \"l\": 50, \"pad\": 4, \"t\": 100}, \"updatemenus\": [{\"buttons\": [{\"label\": \"All\", \"args\": [{\"visible\": [true, false, false, false, false, false, false, false, false, false, false, false, false, false, false, false, false, false, false, false, false, false, false, false, false, false, false, false, false, false, false]}, {\"title\": \"Distribution of all diagnosis across dispositions\"}], \"method\": \"update\"}, {\"label\": \"Laceration\", \"args\": [{\"visible\": [false, true, false, false, false, false, false, false, false, false, false, false, false, false, false, false, false, false, false, false, false, false, false, false, false, false, false, false, false, false, false]}, {\"title\": \"Distribution of Laceration across dispositions\"}], \"method\": \"update\"}, {\"label\": \"Contusions, Abrasion\", \"args\": [{\"visible\": [false, false, true, false, false, false, false, false, false, false, false, false, false, false, false, false, false, false, false, false, false, false, false, false, false, false, false, false, false, false, false]}, {\"title\": \"Distribution of Contusions, Abrasion across dispositions\"}], \"method\": \"update\"}, {\"label\": \"Strain or Sprain\", \"args\": [{\"visible\": [false, false, false, true, false, false, false, false, false, false, false, false, false, false, false, false, false, false, false, false, false, false, false, false, false, false, false, false, false, false, false]}, {\"title\": \"Distribution of Strain or Sprain across dispositions\"}], \"method\": \"update\"}, {\"label\": \"Fracture\", \"args\": [{\"visible\": [false, false, false, false, true, false, false, false, false, false, false, false, false, false, false, false, false, false, false, false, false, false, false, false, false, false, false, false, false, false, false]}, {\"title\": \"Distribution of Fracture across dispositions\"}], \"method\": \"update\"}, {\"label\": \"Other/Not Stated\", \"args\": [{\"visible\": [false, false, false, false, false, true, false, false, false, false, false, false, false, false, false, false, false, false, false, false, false, false, false, false, false, false, false, false, false, false, false]}, {\"title\": \"Distribution of Other/Not Stated across dispositions\"}], \"method\": \"update\"}, {\"label\": \"Internal organ injur\", \"args\": [{\"visible\": [false, false, false, false, false, false, true, false, false, false, false, false, false, false, false, false, false, false, false, false, false, false, false, false, false, false, false, false, false, false, false]}, {\"title\": \"Distribution of Internal organ injur across dispositions\"}], \"method\": \"update\"}, {\"label\": \"Concussions\", \"args\": [{\"visible\": [false, false, false, false, false, false, false, true, false, false, false, false, false, false, false, false, false, false, false, false, false, false, false, false, false, false, false, false, false, false, false]}, {\"title\": \"Distribution of Concussions across dispositions\"}], \"method\": \"update\"}, {\"label\": \"Foreign body\", \"args\": [{\"visible\": [false, false, false, false, false, false, false, false, true, false, false, false, false, false, false, false, false, false, false, false, false, false, false, false, false, false, false, false, false, false, false]}, {\"title\": \"Distribution of Foreign body across dispositions\"}], \"method\": \"update\"}, {\"label\": \"Dislocation\", \"args\": [{\"visible\": [false, false, false, false, false, false, false, false, false, true, false, false, false, false, false, false, false, false, false, false, false, false, false, false, false, false, false, false, false, false, false]}, {\"title\": \"Distribution of Dislocation across dispositions\"}], \"method\": \"update\"}, {\"label\": \"Poisoning\", \"args\": [{\"visible\": [false, false, false, false, false, false, false, false, false, false, true, false, false, false, false, false, false, false, false, false, false, false, false, false, false, false, false, false, false, false, false]}, {\"title\": \"Distribution of Poisoning across dispositions\"}], \"method\": \"update\"}, {\"label\": \"Puncture\", \"args\": [{\"visible\": [false, false, false, false, false, false, false, false, false, false, false, true, false, false, false, false, false, false, false, false, false, false, false, false, false, false, false, false, false, false, false]}, {\"title\": \"Distribution of Puncture across dispositions\"}], \"method\": \"update\"}, {\"label\": \"Hematoma\", \"args\": [{\"visible\": [false, false, false, false, false, false, false, false, false, false, false, false, true, false, false, false, false, false, false, false, false, false, false, false, false, false, false, false, false, false, false]}, {\"title\": \"Distribution of Hematoma across dispositions\"}], \"method\": \"update\"}, {\"label\": \"Burns, thermal (from\", \"args\": [{\"visible\": [false, false, false, false, false, false, false, false, false, false, false, false, false, true, false, false, false, false, false, false, false, false, false, false, false, false, false, false, false, false, false]}, {\"title\": \"Distribution of Burns, thermal (from across dispositions\"}], \"method\": \"update\"}, {\"label\": \"Ingested foreign obj\", \"args\": [{\"visible\": [false, false, false, false, false, false, false, false, false, false, false, false, false, false, true, false, false, false, false, false, false, false, false, false, false, false, false, false, false, false, false]}, {\"title\": \"Distribution of Ingested foreign obj across dispositions\"}], \"method\": \"update\"}, {\"label\": \"Dermatitis, Conjunct\", \"args\": [{\"visible\": [false, false, false, false, false, false, false, false, false, false, false, false, false, false, false, true, false, false, false, false, false, false, false, false, false, false, false, false, false, false, false]}, {\"title\": \"Distribution of Dermatitis, Conjunct across dispositions\"}], \"method\": \"update\"}, {\"label\": \"Burns, scald (from h\", \"args\": [{\"visible\": [false, false, false, false, false, false, false, false, false, false, false, false, false, false, false, false, true, false, false, false, false, false, false, false, false, false, false, false, false, false, false]}, {\"title\": \"Distribution of Burns, scald (from h across dispositions\"}], \"method\": \"update\"}, {\"label\": \"Avulsion\", \"args\": [{\"visible\": [false, false, false, false, false, false, false, false, false, false, false, false, false, false, false, false, false, true, false, false, false, false, false, false, false, false, false, false, false, false, false]}, {\"title\": \"Distribution of Avulsion across dispositions\"}], \"method\": \"update\"}, {\"label\": \"Dental injury\", \"args\": [{\"visible\": [false, false, false, false, false, false, false, false, false, false, false, false, false, false, false, false, false, false, true, false, false, false, false, false, false, false, false, false, false, false, false]}, {\"title\": \"Distribution of Dental injury across dispositions\"}], \"method\": \"update\"}, {\"label\": \"Nerve damage\", \"args\": [{\"visible\": [false, false, false, false, false, false, false, false, false, false, false, false, false, false, false, false, false, false, false, true, false, false, false, false, false, false, false, false, false, false, false]}, {\"title\": \"Distribution of Nerve damage across dispositions\"}], \"method\": \"update\"}, {\"label\": \"Anoxia\", \"args\": [{\"visible\": [false, false, false, false, false, false, false, false, false, false, false, false, false, false, false, false, false, false, false, false, true, false, false, false, false, false, false, false, false, false, false]}, {\"title\": \"Distribution of Anoxia across dispositions\"}], \"method\": \"update\"}, {\"label\": \"Crushing\", \"args\": [{\"visible\": [false, false, false, false, false, false, false, false, false, false, false, false, false, false, false, false, false, false, false, false, false, true, false, false, false, false, false, false, false, false, false]}, {\"title\": \"Distribution of Crushing across dispositions\"}], \"method\": \"update\"}, {\"label\": \"Amputation\", \"args\": [{\"visible\": [false, false, false, false, false, false, false, false, false, false, false, false, false, false, false, false, false, false, false, false, false, false, true, false, false, false, false, false, false, false, false]}, {\"title\": \"Distribution of Amputation across dispositions\"}], \"method\": \"update\"}, {\"label\": \"Burns, chemical (cau\", \"args\": [{\"visible\": [false, false, false, false, false, false, false, false, false, false, false, false, false, false, false, false, false, false, false, false, false, false, false, true, false, false, false, false, false, false, false]}, {\"title\": \"Distribution of Burns, chemical (cau across dispositions\"}], \"method\": \"update\"}, {\"label\": \"Aspirated foreign ob\", \"args\": [{\"visible\": [false, false, false, false, false, false, false, false, false, false, false, false, false, false, false, false, false, false, false, false, false, false, false, false, true, false, false, false, false, false, false]}, {\"title\": \"Distribution of Aspirated foreign ob across dispositions\"}], \"method\": \"update\"}, {\"label\": \"Hemorrhage\", \"args\": [{\"visible\": [false, false, false, false, false, false, false, false, false, false, false, false, false, false, false, false, false, false, false, false, false, false, false, false, false, true, false, false, false, false, false]}, {\"title\": \"Distribution of Hemorrhage across dispositions\"}], \"method\": \"update\"}, {\"label\": \"Submersion (includin\", \"args\": [{\"visible\": [false, false, false, false, false, false, false, false, false, false, false, false, false, false, false, false, false, false, false, false, false, false, false, false, false, false, true, false, false, false, false]}, {\"title\": \"Distribution of Submersion (includin across dispositions\"}], \"method\": \"update\"}, {\"label\": \"Burns, radiation (in\", \"args\": [{\"visible\": [false, false, false, false, false, false, false, false, false, false, false, false, false, false, false, false, false, false, false, false, false, false, false, false, false, false, false, true, false, false, false]}, {\"title\": \"Distribution of Burns, radiation (in across dispositions\"}], \"method\": \"update\"}, {\"label\": \"Electric shock\", \"args\": [{\"visible\": [false, false, false, false, false, false, false, false, false, false, false, false, false, false, false, false, false, false, false, false, false, false, false, false, false, false, false, false, true, false, false]}, {\"title\": \"Distribution of Electric shock across dispositions\"}], \"method\": \"update\"}, {\"label\": \"Burns, electrical\", \"args\": [{\"visible\": [false, false, false, false, false, false, false, false, false, false, false, false, false, false, false, false, false, false, false, false, false, false, false, false, false, false, false, false, false, true, false]}, {\"title\": \"Distribution of Burns, electrical across dispositions\"}], \"method\": \"update\"}, {\"label\": \"Burns, not specified\", \"args\": [{\"visible\": [false, false, false, false, false, false, false, false, false, false, false, false, false, false, false, false, false, false, false, false, false, false, false, false, false, false, false, false, false, false, true]}, {\"title\": \"Distribution of Burns, not specified across dispositions\"}], \"method\": \"update\"}], \"active\": 0}], \"showlegend\": false}, {\"linkText\": \"Export to plot.ly\", \"showLink\": true})});</script>"
      ],
      "text/vnd.plotly.v1+html": [
       "<div id=\"3d7c8e81-3bd3-471c-a80c-d025c234cf49\" style=\"height: 525px; width: 100%;\" class=\"plotly-graph-div\"></div><script type=\"text/javascript\">require([\"plotly\"], function(Plotly) { window.PLOTLYENV=window.PLOTLYENV || {};window.PLOTLYENV.BASE_URL=\"https://plot.ly\";Plotly.newPlot(\"3d7c8e81-3bd3-471c-a80c-d025c234cf49\", [{\"x\": [1, 2, 4, 5, 6, 8], \"type\": \"bar\", \"y\": [59807, 651, 3979, 415, 619, 28]}, {\"x\": [1, 2, 4, 5, 6], \"type\": \"bar\", \"y\": [11910, 41, 185, 48, 123]}, {\"x\": [1, 2, 4, 5, 6, 8], \"type\": \"bar\", \"y\": [10312, 29, 217, 34, 52, 2]}, {\"x\": [1, 2, 4, 5, 6], \"type\": \"bar\", \"y\": [10248, 11, 43, 3, 21]}, {\"x\": [1, 2, 4, 5, 6, 8], \"type\": \"bar\", \"y\": [7561, 267, 1811, 88, 6, 2]}, {\"x\": [1, 2, 4, 5, 6, 8], \"type\": \"bar\", \"y\": [7091, 63, 613, 83, 257, 13]}, {\"x\": [1, 2, 4, 5, 6, 8], \"type\": \"bar\", \"y\": [4439, 101, 630, 66, 63, 7]}, {\"x\": [1, 2, 4, 5, 6], \"type\": \"bar\", \"y\": [1399, 4, 70, 15, 7]}, {\"x\": [1, 2, 4, 5, 6], \"type\": \"bar\", \"y\": [1241, 8, 10, 1, 10]}, {\"x\": [1, 2, 4, 5, 6], \"type\": \"bar\", \"y\": [928, 8, 43, 6, 3]}, {\"x\": [1, 2, 4, 5, 6, 8], \"type\": \"bar\", \"y\": [554, 18, 88, 39, 24, 1]}, {\"x\": [1, 4, 5, 6], \"type\": \"bar\", \"y\": [612, 15, 2, 7]}, {\"x\": [1, 2, 4, 5, 6], \"type\": \"bar\", \"y\": [472, 1, 42, 7, 12]}, {\"x\": [1, 2, 4, 5, 6], \"type\": \"bar\", \"y\": [443, 29, 27, 3, 10]}, {\"x\": [1, 2, 4, 5, 6], \"type\": \"bar\", \"y\": [403, 18, 56, 5, 1]}, {\"x\": [1, 4, 6], \"type\": \"bar\", \"y\": [410, 2, 2]}, {\"x\": [1, 2, 4, 5, 6], \"type\": \"bar\", \"y\": [336, 20, 29, 2, 5]}, {\"x\": [1, 2, 4, 5, 6], \"type\": \"bar\", \"y\": [318, 4, 12, 1, 2]}, {\"x\": [1, 2, 4, 5, 6], \"type\": \"bar\", \"y\": [242, 2, 2, 1, 4]}, {\"x\": [1, 2, 4], \"type\": \"bar\", \"y\": [179, 2, 17]}, {\"x\": [1, 2, 4, 5, 6, 8], \"type\": \"bar\", \"y\": [147, 3, 13, 3, 3, 1]}, {\"x\": [1, 2], \"type\": \"bar\", \"y\": [146, 3]}, {\"x\": [1, 2, 4, 5, 6], \"type\": \"bar\", \"y\": [88, 12, 20, 3, 2]}, {\"x\": [1, 2, 5, 6], \"type\": \"bar\", \"y\": [82, 1, 1, 2]}, {\"x\": [1, 2, 4, 6], \"type\": \"bar\", \"y\": [57, 2, 5, 2]}, {\"x\": [1, 2, 4, 5], \"type\": \"bar\", \"y\": [58, 4, 1, 1]}, {\"x\": [1, 4, 5, 8], \"type\": \"bar\", \"y\": [26, 23, 3, 2]}, {\"x\": [1, 6], \"type\": \"bar\", \"y\": [34, 1]}, {\"x\": [1, 4], \"type\": \"bar\", \"y\": [29, 3]}, {\"x\": [1], \"type\": \"bar\", \"y\": [25]}, {\"x\": [1, 4], \"type\": \"bar\", \"y\": [17, 2]}], {\"title\": \"Diagnosis vs Age\", \"margin\": {\"b\": 100, \"r\": 50, \"l\": 50, \"pad\": 4, \"t\": 100}, \"updatemenus\": [{\"buttons\": [{\"label\": \"All\", \"args\": [{\"visible\": [true, false, false, false, false, false, false, false, false, false, false, false, false, false, false, false, false, false, false, false, false, false, false, false, false, false, false, false, false, false, false]}, {\"title\": \"Distribution of all diagnosis across dispositions\"}], \"method\": \"update\"}, {\"label\": \"Laceration\", \"args\": [{\"visible\": [false, true, false, false, false, false, false, false, false, false, false, false, false, false, false, false, false, false, false, false, false, false, false, false, false, false, false, false, false, false, false]}, {\"title\": \"Distribution of Laceration across dispositions\"}], \"method\": \"update\"}, {\"label\": \"Contusions, Abrasion\", \"args\": [{\"visible\": [false, false, true, false, false, false, false, false, false, false, false, false, false, false, false, false, false, false, false, false, false, false, false, false, false, false, false, false, false, false, false]}, {\"title\": \"Distribution of Contusions, Abrasion across dispositions\"}], \"method\": \"update\"}, {\"label\": \"Strain or Sprain\", \"args\": [{\"visible\": [false, false, false, true, false, false, false, false, false, false, false, false, false, false, false, false, false, false, false, false, false, false, false, false, false, false, false, false, false, false, false]}, {\"title\": \"Distribution of Strain or Sprain across dispositions\"}], \"method\": \"update\"}, {\"label\": \"Fracture\", \"args\": [{\"visible\": [false, false, false, false, true, false, false, false, false, false, false, false, false, false, false, false, false, false, false, false, false, false, false, false, false, false, false, false, false, false, false]}, {\"title\": \"Distribution of Fracture across dispositions\"}], \"method\": \"update\"}, {\"label\": \"Other/Not Stated\", \"args\": [{\"visible\": [false, false, false, false, false, true, false, false, false, false, false, false, false, false, false, false, false, false, false, false, false, false, false, false, false, false, false, false, false, false, false]}, {\"title\": \"Distribution of Other/Not Stated across dispositions\"}], \"method\": \"update\"}, {\"label\": \"Internal organ injur\", \"args\": [{\"visible\": [false, false, false, false, false, false, true, false, false, false, false, false, false, false, false, false, false, false, false, false, false, false, false, false, false, false, false, false, false, false, false]}, {\"title\": \"Distribution of Internal organ injur across dispositions\"}], \"method\": \"update\"}, {\"label\": \"Concussions\", \"args\": [{\"visible\": [false, false, false, false, false, false, false, true, false, false, false, false, false, false, false, false, false, false, false, false, false, false, false, false, false, false, false, false, false, false, false]}, {\"title\": \"Distribution of Concussions across dispositions\"}], \"method\": \"update\"}, {\"label\": \"Foreign body\", \"args\": [{\"visible\": [false, false, false, false, false, false, false, false, true, false, false, false, false, false, false, false, false, false, false, false, false, false, false, false, false, false, false, false, false, false, false]}, {\"title\": \"Distribution of Foreign body across dispositions\"}], \"method\": \"update\"}, {\"label\": \"Dislocation\", \"args\": [{\"visible\": [false, false, false, false, false, false, false, false, false, true, false, false, false, false, false, false, false, false, false, false, false, false, false, false, false, false, false, false, false, false, false]}, {\"title\": \"Distribution of Dislocation across dispositions\"}], \"method\": \"update\"}, {\"label\": \"Poisoning\", \"args\": [{\"visible\": [false, false, false, false, false, false, false, false, false, false, true, false, false, false, false, false, false, false, false, false, false, false, false, false, false, false, false, false, false, false, false]}, {\"title\": \"Distribution of Poisoning across dispositions\"}], \"method\": \"update\"}, {\"label\": \"Puncture\", \"args\": [{\"visible\": [false, false, false, false, false, false, false, false, false, false, false, true, false, false, false, false, false, false, false, false, false, false, false, false, false, false, false, false, false, false, false]}, {\"title\": \"Distribution of Puncture across dispositions\"}], \"method\": \"update\"}, {\"label\": \"Hematoma\", \"args\": [{\"visible\": [false, false, false, false, false, false, false, false, false, false, false, false, true, false, false, false, false, false, false, false, false, false, false, false, false, false, false, false, false, false, false]}, {\"title\": \"Distribution of Hematoma across dispositions\"}], \"method\": \"update\"}, {\"label\": \"Burns, thermal (from\", \"args\": [{\"visible\": [false, false, false, false, false, false, false, false, false, false, false, false, false, true, false, false, false, false, false, false, false, false, false, false, false, false, false, false, false, false, false]}, {\"title\": \"Distribution of Burns, thermal (from across dispositions\"}], \"method\": \"update\"}, {\"label\": \"Ingested foreign obj\", \"args\": [{\"visible\": [false, false, false, false, false, false, false, false, false, false, false, false, false, false, true, false, false, false, false, false, false, false, false, false, false, false, false, false, false, false, false]}, {\"title\": \"Distribution of Ingested foreign obj across dispositions\"}], \"method\": \"update\"}, {\"label\": \"Dermatitis, Conjunct\", \"args\": [{\"visible\": [false, false, false, false, false, false, false, false, false, false, false, false, false, false, false, true, false, false, false, false, false, false, false, false, false, false, false, false, false, false, false]}, {\"title\": \"Distribution of Dermatitis, Conjunct across dispositions\"}], \"method\": \"update\"}, {\"label\": \"Burns, scald (from h\", \"args\": [{\"visible\": [false, false, false, false, false, false, false, false, false, false, false, false, false, false, false, false, true, false, false, false, false, false, false, false, false, false, false, false, false, false, false]}, {\"title\": \"Distribution of Burns, scald (from h across dispositions\"}], \"method\": \"update\"}, {\"label\": \"Avulsion\", \"args\": [{\"visible\": [false, false, false, false, false, false, false, false, false, false, false, false, false, false, false, false, false, true, false, false, false, false, false, false, false, false, false, false, false, false, false]}, {\"title\": \"Distribution of Avulsion across dispositions\"}], \"method\": \"update\"}, {\"label\": \"Dental injury\", \"args\": [{\"visible\": [false, false, false, false, false, false, false, false, false, false, false, false, false, false, false, false, false, false, true, false, false, false, false, false, false, false, false, false, false, false, false]}, {\"title\": \"Distribution of Dental injury across dispositions\"}], \"method\": \"update\"}, {\"label\": \"Nerve damage\", \"args\": [{\"visible\": [false, false, false, false, false, false, false, false, false, false, false, false, false, false, false, false, false, false, false, true, false, false, false, false, false, false, false, false, false, false, false]}, {\"title\": \"Distribution of Nerve damage across dispositions\"}], \"method\": \"update\"}, {\"label\": \"Anoxia\", \"args\": [{\"visible\": [false, false, false, false, false, false, false, false, false, false, false, false, false, false, false, false, false, false, false, false, true, false, false, false, false, false, false, false, false, false, false]}, {\"title\": \"Distribution of Anoxia across dispositions\"}], \"method\": \"update\"}, {\"label\": \"Crushing\", \"args\": [{\"visible\": [false, false, false, false, false, false, false, false, false, false, false, false, false, false, false, false, false, false, false, false, false, true, false, false, false, false, false, false, false, false, false]}, {\"title\": \"Distribution of Crushing across dispositions\"}], \"method\": \"update\"}, {\"label\": \"Amputation\", \"args\": [{\"visible\": [false, false, false, false, false, false, false, false, false, false, false, false, false, false, false, false, false, false, false, false, false, false, true, false, false, false, false, false, false, false, false]}, {\"title\": \"Distribution of Amputation across dispositions\"}], \"method\": \"update\"}, {\"label\": \"Burns, chemical (cau\", \"args\": [{\"visible\": [false, false, false, false, false, false, false, false, false, false, false, false, false, false, false, false, false, false, false, false, false, false, false, true, false, false, false, false, false, false, false]}, {\"title\": \"Distribution of Burns, chemical (cau across dispositions\"}], \"method\": \"update\"}, {\"label\": \"Aspirated foreign ob\", \"args\": [{\"visible\": [false, false, false, false, false, false, false, false, false, false, false, false, false, false, false, false, false, false, false, false, false, false, false, false, true, false, false, false, false, false, false]}, {\"title\": \"Distribution of Aspirated foreign ob across dispositions\"}], \"method\": \"update\"}, {\"label\": \"Hemorrhage\", \"args\": [{\"visible\": [false, false, false, false, false, false, false, false, false, false, false, false, false, false, false, false, false, false, false, false, false, false, false, false, false, true, false, false, false, false, false]}, {\"title\": \"Distribution of Hemorrhage across dispositions\"}], \"method\": \"update\"}, {\"label\": \"Submersion (includin\", \"args\": [{\"visible\": [false, false, false, false, false, false, false, false, false, false, false, false, false, false, false, false, false, false, false, false, false, false, false, false, false, false, true, false, false, false, false]}, {\"title\": \"Distribution of Submersion (includin across dispositions\"}], \"method\": \"update\"}, {\"label\": \"Burns, radiation (in\", \"args\": [{\"visible\": [false, false, false, false, false, false, false, false, false, false, false, false, false, false, false, false, false, false, false, false, false, false, false, false, false, false, false, true, false, false, false]}, {\"title\": \"Distribution of Burns, radiation (in across dispositions\"}], \"method\": \"update\"}, {\"label\": \"Electric shock\", \"args\": [{\"visible\": [false, false, false, false, false, false, false, false, false, false, false, false, false, false, false, false, false, false, false, false, false, false, false, false, false, false, false, false, true, false, false]}, {\"title\": \"Distribution of Electric shock across dispositions\"}], \"method\": \"update\"}, {\"label\": \"Burns, electrical\", \"args\": [{\"visible\": [false, false, false, false, false, false, false, false, false, false, false, false, false, false, false, false, false, false, false, false, false, false, false, false, false, false, false, false, false, true, false]}, {\"title\": \"Distribution of Burns, electrical across dispositions\"}], \"method\": \"update\"}, {\"label\": \"Burns, not specified\", \"args\": [{\"visible\": [false, false, false, false, false, false, false, false, false, false, false, false, false, false, false, false, false, false, false, false, false, false, false, false, false, false, false, false, false, false, true]}, {\"title\": \"Distribution of Burns, not specified across dispositions\"}], \"method\": \"update\"}], \"active\": 0}], \"showlegend\": false}, {\"linkText\": \"Export to plot.ly\", \"showLink\": true})});</script>"
      ]
     },
     "metadata": {},
     "output_type": "display_data"
    }
   ],
   "source": [
    "# Plot the dashboard\n",
    "py.offline.iplot(fig, filename='update_dropdown')"
   ]
  },
  {
   "cell_type": "code",
   "execution_count": 27,
   "metadata": {},
   "outputs": [],
   "source": [
    "# Preparing data for plotting histograms as required in plotly\n",
    "disp_freq = merged_df[\"disposition\"].value_counts().to_frame().reset_index().rename(columns={'index': 'disp', 'disposition': 'Frequency'})\n",
    "df = merged_df\n",
    "data = []\n",
    "buttons = []\n",
    "\n",
    "demo = df.groupby(['diag'])[df.columns[0]].count().to_frame().reset_index().rename(columns={'CPSC Case #': 'Frequency'})\n",
    "trace = go.Bar(x=demo['diag'], y=demo.Frequency)\n",
    "data.append(trace)\n",
    "label = 'All'\n",
    "method = 'update'\n",
    "visible = [False]*(diag_freq.shape[0] + 1)\n",
    "visible[0] = True\n",
    "args = [{'visible': visible}, {'title': 'Distribution of all dispositions' + ' across diagnosis'}]\n",
    "buttons.append(dict(label= label, method=method, args=args))\n",
    "\n",
    "for i in range(disp_freq.shape[0]):\n",
    "    disp = disp_freq.iloc[i].disp\n",
    "    disp_exp = disposition_df[disposition_df[\"disposition\"] == disp][\"disposition_exp\"].item()[:20]\n",
    "    demo = df[df.disposition == disp].groupby(['diag'])[df.columns[0]].count().to_frame().reset_index().rename(columns={'CPSC Case #': 'Frequency'})\n",
    "    trace = go.Bar(x=demo['diag'], y=demo.Frequency)\n",
    "    data.append(trace)\n",
    "    label = disp_exp\n",
    "    method = 'update'\n",
    "    visible = [False]*(diag_freq.shape[0] + 1)\n",
    "    visible[i+1] = True\n",
    "    args = [{'visible': visible}, {'title': 'Distribution of ' + disp_exp + ' across diagnosis'}]\n",
    "    buttons.append(dict(label= label, method=method, args=args))\n",
    "\n",
    "# Preparing inputs for dashboard\n",
    "updatemenus = list([\n",
    "    dict(active=0,\n",
    "         buttons=list(buttons),\n",
    "    )\n",
    "])\n",
    "\n",
    "layout = dict(title='Frequency distribution for disposition across diagnosis.', showlegend=False, updatemenus=updatemenus, margin=go.Margin(\n",
    "        l=50,\n",
    "        r=50,\n",
    "        b=100,\n",
    "        t=100,\n",
    "        pad=4\n",
    "    ))\n",
    "\n",
    "fig = dict(data=data, layout=layout)"
   ]
  },
  {
   "cell_type": "code",
   "execution_count": 28,
   "metadata": {},
   "outputs": [
    {
     "data": {
      "application/vnd.plotly.v1+json": {
       "data": [
        {
         "type": "bar",
         "x": [
          41,
          42,
          46,
          47,
          48,
          49,
          50,
          51,
          52,
          53,
          54,
          55,
          56,
          57,
          58,
          59,
          60,
          61,
          62,
          63,
          64,
          65,
          66,
          67,
          68,
          69,
          71,
          72,
          73,
          74
         ],
         "y": [
          483,
          66,
          25,
          19,
          392,
          86,
          125,
          512,
          1495,
          10646,
          149,
          988,
          1270,
          9735,
          534,
          12307,
          251,
          198,
          5306,
          636,
          10326,
          170,
          64,
          32,
          724,
          54,
          8120,
          337,
          35,
          414
         ]
        },
        {
         "type": "bar",
         "x": [
          41,
          42,
          46,
          47,
          48,
          49,
          50,
          51,
          52,
          53,
          54,
          55,
          56,
          57,
          58,
          59,
          60,
          61,
          62,
          63,
          64,
          65,
          66,
          67,
          68,
          69,
          71,
          72,
          73,
          74
         ],
         "y": [
          403,
          57,
          25,
          17,
          336,
          82,
          88,
          443,
          1399,
          10312,
          146,
          928,
          1241,
          7561,
          472,
          11910,
          242,
          179,
          4439,
          612,
          10248,
          147,
          58,
          29,
          554,
          26,
          7091,
          318,
          34,
          410
         ]
        },
        {
         "type": "bar",
         "x": [
          41,
          42,
          47,
          48,
          50,
          51,
          52,
          53,
          55,
          56,
          57,
          58,
          59,
          60,
          61,
          62,
          63,
          64,
          65,
          66,
          67,
          68,
          69,
          71,
          72,
          74
         ],
         "y": [
          56,
          5,
          2,
          29,
          20,
          27,
          70,
          217,
          43,
          10,
          1811,
          42,
          185,
          2,
          17,
          630,
          15,
          43,
          13,
          1,
          3,
          88,
          23,
          613,
          12,
          2
         ]
        },
        {
         "type": "bar",
         "x": [
          41,
          42,
          48,
          49,
          50,
          51,
          52,
          53,
          54,
          55,
          56,
          57,
          58,
          59,
          60,
          61,
          62,
          64,
          65,
          66,
          68,
          71,
          72
         ],
         "y": [
          18,
          2,
          20,
          1,
          12,
          29,
          4,
          29,
          3,
          8,
          8,
          267,
          1,
          41,
          2,
          2,
          101,
          11,
          3,
          4,
          18,
          63,
          4
         ]
        },
        {
         "type": "bar",
         "x": [
          41,
          42,
          48,
          49,
          50,
          51,
          52,
          53,
          55,
          56,
          57,
          58,
          59,
          60,
          62,
          63,
          64,
          65,
          68,
          71,
          72,
          73,
          74
         ],
         "y": [
          1,
          2,
          5,
          2,
          2,
          10,
          7,
          52,
          3,
          10,
          6,
          12,
          123,
          4,
          63,
          7,
          21,
          3,
          24,
          257,
          2,
          1,
          2
         ]
        },
        {
         "type": "bar",
         "x": [
          41,
          48,
          49,
          50,
          51,
          52,
          53,
          55,
          56,
          57,
          58,
          59,
          60,
          62,
          63,
          64,
          65,
          66,
          68,
          69,
          71,
          72
         ],
         "y": [
          5,
          2,
          1,
          3,
          3,
          15,
          34,
          6,
          1,
          88,
          7,
          48,
          1,
          66,
          2,
          3,
          3,
          1,
          39,
          3,
          83,
          1
         ]
        },
        {
         "type": "bar",
         "x": [
          53,
          57,
          62,
          65,
          68,
          69,
          71
         ],
         "y": [
          2,
          2,
          7,
          1,
          1,
          2,
          13
         ]
        }
       ],
       "layout": {
        "margin": {
         "b": 100,
         "l": 50,
         "pad": 4,
         "r": 50,
         "t": 100
        },
        "showlegend": false,
        "title": "Frequency distribution for disposition across diagnosis.",
        "updatemenus": [
         {
          "active": 0,
          "buttons": [
           {
            "args": [
             {
              "visible": [
               true,
               false,
               false,
               false,
               false,
               false,
               false,
               false,
               false,
               false,
               false,
               false,
               false,
               false,
               false,
               false,
               false,
               false,
               false,
               false,
               false,
               false,
               false,
               false,
               false,
               false,
               false,
               false,
               false,
               false,
               false
              ]
             },
             {
              "title": "Distribution of all dispositions across diagnosis"
             }
            ],
            "label": "All",
            "method": "update"
           },
           {
            "args": [
             {
              "visible": [
               false,
               true,
               false,
               false,
               false,
               false,
               false,
               false,
               false,
               false,
               false,
               false,
               false,
               false,
               false,
               false,
               false,
               false,
               false,
               false,
               false,
               false,
               false,
               false,
               false,
               false,
               false,
               false,
               false,
               false,
               false
              ]
             },
             {
              "title": "Distribution of Treated and released across diagnosis"
             }
            ],
            "label": "Treated and released",
            "method": "update"
           },
           {
            "args": [
             {
              "visible": [
               false,
               false,
               true,
               false,
               false,
               false,
               false,
               false,
               false,
               false,
               false,
               false,
               false,
               false,
               false,
               false,
               false,
               false,
               false,
               false,
               false,
               false,
               false,
               false,
               false,
               false,
               false,
               false,
               false,
               false,
               false
              ]
             },
             {
              "title": "Distribution of Treated and admitted across diagnosis"
             }
            ],
            "label": "Treated and admitted",
            "method": "update"
           },
           {
            "args": [
             {
              "visible": [
               false,
               false,
               false,
               true,
               false,
               false,
               false,
               false,
               false,
               false,
               false,
               false,
               false,
               false,
               false,
               false,
               false,
               false,
               false,
               false,
               false,
               false,
               false,
               false,
               false,
               false,
               false,
               false,
               false,
               false,
               false
              ]
             },
             {
              "title": "Distribution of Treated and transfer across diagnosis"
             }
            ],
            "label": "Treated and transfer",
            "method": "update"
           },
           {
            "args": [
             {
              "visible": [
               false,
               false,
               false,
               false,
               true,
               false,
               false,
               false,
               false,
               false,
               false,
               false,
               false,
               false,
               false,
               false,
               false,
               false,
               false,
               false,
               false,
               false,
               false,
               false,
               false,
               false,
               false,
               false,
               false,
               false,
               false
              ]
             },
             {
              "title": "Distribution of Left without being s across diagnosis"
             }
            ],
            "label": "Left without being s",
            "method": "update"
           },
           {
            "args": [
             {
              "visible": [
               false,
               false,
               false,
               false,
               false,
               true,
               false,
               false,
               false,
               false,
               false,
               false,
               false,
               false,
               false,
               false,
               false,
               false,
               false,
               false,
               false,
               false,
               false,
               false,
               false,
               false,
               false,
               false,
               false,
               false,
               false
              ]
             },
             {
              "title": "Distribution of Held for observation across diagnosis"
             }
            ],
            "label": "Held for observation",
            "method": "update"
           },
           {
            "args": [
             {
              "visible": [
               false,
               false,
               false,
               false,
               false,
               false,
               true,
               false,
               false,
               false,
               false,
               false,
               false,
               false,
               false,
               false,
               false,
               false,
               false,
               false,
               false,
               false,
               false,
               false,
               false,
               false,
               false,
               false,
               false,
               false,
               false
              ]
             },
             {
              "title": "Distribution of Fatality, including  across diagnosis"
             }
            ],
            "label": "Fatality, including ",
            "method": "update"
           }
          ]
         }
        ]
       }
      },
      "text/html": [
       "<div id=\"e84326db-14ee-4652-bc29-6b143fcc0f55\" style=\"height: 525px; width: 100%;\" class=\"plotly-graph-div\"></div><script type=\"text/javascript\">require([\"plotly\"], function(Plotly) { window.PLOTLYENV=window.PLOTLYENV || {};window.PLOTLYENV.BASE_URL=\"https://plot.ly\";Plotly.newPlot(\"e84326db-14ee-4652-bc29-6b143fcc0f55\", [{\"x\": [41, 42, 46, 47, 48, 49, 50, 51, 52, 53, 54, 55, 56, 57, 58, 59, 60, 61, 62, 63, 64, 65, 66, 67, 68, 69, 71, 72, 73, 74], \"type\": \"bar\", \"y\": [483, 66, 25, 19, 392, 86, 125, 512, 1495, 10646, 149, 988, 1270, 9735, 534, 12307, 251, 198, 5306, 636, 10326, 170, 64, 32, 724, 54, 8120, 337, 35, 414]}, {\"x\": [41, 42, 46, 47, 48, 49, 50, 51, 52, 53, 54, 55, 56, 57, 58, 59, 60, 61, 62, 63, 64, 65, 66, 67, 68, 69, 71, 72, 73, 74], \"type\": \"bar\", \"y\": [403, 57, 25, 17, 336, 82, 88, 443, 1399, 10312, 146, 928, 1241, 7561, 472, 11910, 242, 179, 4439, 612, 10248, 147, 58, 29, 554, 26, 7091, 318, 34, 410]}, {\"x\": [41, 42, 47, 48, 50, 51, 52, 53, 55, 56, 57, 58, 59, 60, 61, 62, 63, 64, 65, 66, 67, 68, 69, 71, 72, 74], \"type\": \"bar\", \"y\": [56, 5, 2, 29, 20, 27, 70, 217, 43, 10, 1811, 42, 185, 2, 17, 630, 15, 43, 13, 1, 3, 88, 23, 613, 12, 2]}, {\"x\": [41, 42, 48, 49, 50, 51, 52, 53, 54, 55, 56, 57, 58, 59, 60, 61, 62, 64, 65, 66, 68, 71, 72], \"type\": \"bar\", \"y\": [18, 2, 20, 1, 12, 29, 4, 29, 3, 8, 8, 267, 1, 41, 2, 2, 101, 11, 3, 4, 18, 63, 4]}, {\"x\": [41, 42, 48, 49, 50, 51, 52, 53, 55, 56, 57, 58, 59, 60, 62, 63, 64, 65, 68, 71, 72, 73, 74], \"type\": \"bar\", \"y\": [1, 2, 5, 2, 2, 10, 7, 52, 3, 10, 6, 12, 123, 4, 63, 7, 21, 3, 24, 257, 2, 1, 2]}, {\"x\": [41, 48, 49, 50, 51, 52, 53, 55, 56, 57, 58, 59, 60, 62, 63, 64, 65, 66, 68, 69, 71, 72], \"type\": \"bar\", \"y\": [5, 2, 1, 3, 3, 15, 34, 6, 1, 88, 7, 48, 1, 66, 2, 3, 3, 1, 39, 3, 83, 1]}, {\"x\": [53, 57, 62, 65, 68, 69, 71], \"type\": \"bar\", \"y\": [2, 2, 7, 1, 1, 2, 13]}], {\"title\": \"Frequency distribution for disposition across diagnosis.\", \"margin\": {\"b\": 100, \"r\": 50, \"l\": 50, \"pad\": 4, \"t\": 100}, \"updatemenus\": [{\"buttons\": [{\"label\": \"All\", \"args\": [{\"visible\": [true, false, false, false, false, false, false, false, false, false, false, false, false, false, false, false, false, false, false, false, false, false, false, false, false, false, false, false, false, false, false]}, {\"title\": \"Distribution of all dispositions across diagnosis\"}], \"method\": \"update\"}, {\"label\": \"Treated and released\", \"args\": [{\"visible\": [false, true, false, false, false, false, false, false, false, false, false, false, false, false, false, false, false, false, false, false, false, false, false, false, false, false, false, false, false, false, false]}, {\"title\": \"Distribution of Treated and released across diagnosis\"}], \"method\": \"update\"}, {\"label\": \"Treated and admitted\", \"args\": [{\"visible\": [false, false, true, false, false, false, false, false, false, false, false, false, false, false, false, false, false, false, false, false, false, false, false, false, false, false, false, false, false, false, false]}, {\"title\": \"Distribution of Treated and admitted across diagnosis\"}], \"method\": \"update\"}, {\"label\": \"Treated and transfer\", \"args\": [{\"visible\": [false, false, false, true, false, false, false, false, false, false, false, false, false, false, false, false, false, false, false, false, false, false, false, false, false, false, false, false, false, false, false]}, {\"title\": \"Distribution of Treated and transfer across diagnosis\"}], \"method\": \"update\"}, {\"label\": \"Left without being s\", \"args\": [{\"visible\": [false, false, false, false, true, false, false, false, false, false, false, false, false, false, false, false, false, false, false, false, false, false, false, false, false, false, false, false, false, false, false]}, {\"title\": \"Distribution of Left without being s across diagnosis\"}], \"method\": \"update\"}, {\"label\": \"Held for observation\", \"args\": [{\"visible\": [false, false, false, false, false, true, false, false, false, false, false, false, false, false, false, false, false, false, false, false, false, false, false, false, false, false, false, false, false, false, false]}, {\"title\": \"Distribution of Held for observation across diagnosis\"}], \"method\": \"update\"}, {\"label\": \"Fatality, including \", \"args\": [{\"visible\": [false, false, false, false, false, false, true, false, false, false, false, false, false, false, false, false, false, false, false, false, false, false, false, false, false, false, false, false, false, false, false]}, {\"title\": \"Distribution of Fatality, including  across diagnosis\"}], \"method\": \"update\"}], \"active\": 0}], \"showlegend\": false}, {\"linkText\": \"Export to plot.ly\", \"showLink\": true})});</script>"
      ],
      "text/vnd.plotly.v1+html": [
       "<div id=\"e84326db-14ee-4652-bc29-6b143fcc0f55\" style=\"height: 525px; width: 100%;\" class=\"plotly-graph-div\"></div><script type=\"text/javascript\">require([\"plotly\"], function(Plotly) { window.PLOTLYENV=window.PLOTLYENV || {};window.PLOTLYENV.BASE_URL=\"https://plot.ly\";Plotly.newPlot(\"e84326db-14ee-4652-bc29-6b143fcc0f55\", [{\"x\": [41, 42, 46, 47, 48, 49, 50, 51, 52, 53, 54, 55, 56, 57, 58, 59, 60, 61, 62, 63, 64, 65, 66, 67, 68, 69, 71, 72, 73, 74], \"type\": \"bar\", \"y\": [483, 66, 25, 19, 392, 86, 125, 512, 1495, 10646, 149, 988, 1270, 9735, 534, 12307, 251, 198, 5306, 636, 10326, 170, 64, 32, 724, 54, 8120, 337, 35, 414]}, {\"x\": [41, 42, 46, 47, 48, 49, 50, 51, 52, 53, 54, 55, 56, 57, 58, 59, 60, 61, 62, 63, 64, 65, 66, 67, 68, 69, 71, 72, 73, 74], \"type\": \"bar\", \"y\": [403, 57, 25, 17, 336, 82, 88, 443, 1399, 10312, 146, 928, 1241, 7561, 472, 11910, 242, 179, 4439, 612, 10248, 147, 58, 29, 554, 26, 7091, 318, 34, 410]}, {\"x\": [41, 42, 47, 48, 50, 51, 52, 53, 55, 56, 57, 58, 59, 60, 61, 62, 63, 64, 65, 66, 67, 68, 69, 71, 72, 74], \"type\": \"bar\", \"y\": [56, 5, 2, 29, 20, 27, 70, 217, 43, 10, 1811, 42, 185, 2, 17, 630, 15, 43, 13, 1, 3, 88, 23, 613, 12, 2]}, {\"x\": [41, 42, 48, 49, 50, 51, 52, 53, 54, 55, 56, 57, 58, 59, 60, 61, 62, 64, 65, 66, 68, 71, 72], \"type\": \"bar\", \"y\": [18, 2, 20, 1, 12, 29, 4, 29, 3, 8, 8, 267, 1, 41, 2, 2, 101, 11, 3, 4, 18, 63, 4]}, {\"x\": [41, 42, 48, 49, 50, 51, 52, 53, 55, 56, 57, 58, 59, 60, 62, 63, 64, 65, 68, 71, 72, 73, 74], \"type\": \"bar\", \"y\": [1, 2, 5, 2, 2, 10, 7, 52, 3, 10, 6, 12, 123, 4, 63, 7, 21, 3, 24, 257, 2, 1, 2]}, {\"x\": [41, 48, 49, 50, 51, 52, 53, 55, 56, 57, 58, 59, 60, 62, 63, 64, 65, 66, 68, 69, 71, 72], \"type\": \"bar\", \"y\": [5, 2, 1, 3, 3, 15, 34, 6, 1, 88, 7, 48, 1, 66, 2, 3, 3, 1, 39, 3, 83, 1]}, {\"x\": [53, 57, 62, 65, 68, 69, 71], \"type\": \"bar\", \"y\": [2, 2, 7, 1, 1, 2, 13]}], {\"title\": \"Frequency distribution for disposition across diagnosis.\", \"margin\": {\"b\": 100, \"r\": 50, \"l\": 50, \"pad\": 4, \"t\": 100}, \"updatemenus\": [{\"buttons\": [{\"label\": \"All\", \"args\": [{\"visible\": [true, false, false, false, false, false, false, false, false, false, false, false, false, false, false, false, false, false, false, false, false, false, false, false, false, false, false, false, false, false, false]}, {\"title\": \"Distribution of all dispositions across diagnosis\"}], \"method\": \"update\"}, {\"label\": \"Treated and released\", \"args\": [{\"visible\": [false, true, false, false, false, false, false, false, false, false, false, false, false, false, false, false, false, false, false, false, false, false, false, false, false, false, false, false, false, false, false]}, {\"title\": \"Distribution of Treated and released across diagnosis\"}], \"method\": \"update\"}, {\"label\": \"Treated and admitted\", \"args\": [{\"visible\": [false, false, true, false, false, false, false, false, false, false, false, false, false, false, false, false, false, false, false, false, false, false, false, false, false, false, false, false, false, false, false]}, {\"title\": \"Distribution of Treated and admitted across diagnosis\"}], \"method\": \"update\"}, {\"label\": \"Treated and transfer\", \"args\": [{\"visible\": [false, false, false, true, false, false, false, false, false, false, false, false, false, false, false, false, false, false, false, false, false, false, false, false, false, false, false, false, false, false, false]}, {\"title\": \"Distribution of Treated and transfer across diagnosis\"}], \"method\": \"update\"}, {\"label\": \"Left without being s\", \"args\": [{\"visible\": [false, false, false, false, true, false, false, false, false, false, false, false, false, false, false, false, false, false, false, false, false, false, false, false, false, false, false, false, false, false, false]}, {\"title\": \"Distribution of Left without being s across diagnosis\"}], \"method\": \"update\"}, {\"label\": \"Held for observation\", \"args\": [{\"visible\": [false, false, false, false, false, true, false, false, false, false, false, false, false, false, false, false, false, false, false, false, false, false, false, false, false, false, false, false, false, false, false]}, {\"title\": \"Distribution of Held for observation across diagnosis\"}], \"method\": \"update\"}, {\"label\": \"Fatality, including \", \"args\": [{\"visible\": [false, false, false, false, false, false, true, false, false, false, false, false, false, false, false, false, false, false, false, false, false, false, false, false, false, false, false, false, false, false, false]}, {\"title\": \"Distribution of Fatality, including  across diagnosis\"}], \"method\": \"update\"}], \"active\": 0}], \"showlegend\": false}, {\"linkText\": \"Export to plot.ly\", \"showLink\": true})});</script>"
      ]
     },
     "metadata": {},
     "output_type": "display_data"
    }
   ],
   "source": [
    "# Plot the dashboard\n",
    "py.offline.iplot(fig, filename='update_dropdown_2')"
   ]
  },
  {
   "cell_type": "markdown",
   "metadata": {},
   "source": [
    "For most of the deaths, the reason is Other/Not Stated. Internal organ injury(code 62) is the second largest reason for deaths.\n",
    "Most of the time the diagnois is not stated if patient leaves without seeing."
   ]
  },
  {
   "cell_type": "code",
   "execution_count": 30,
   "metadata": {},
   "outputs": [],
   "source": [
    "# Creating contingency table\n",
    "contingency_table = pd.pivot_table(merged_df, values=[\"CPSC Case #\"], index=[\"disposition\"], columns=[\"diag\"], aggfunc=lambda x: len(x.unique())).fillna(value=0)\n",
    "# Calculating chi square and p-value\n",
    "chi2, p, dof, _ = chi2_contingency(contingency_table.values)"
   ]
  },
  {
   "cell_type": "code",
   "execution_count": 33,
   "metadata": {},
   "outputs": [
    {
     "name": "stdout",
     "output_type": "stream",
     "text": [
      "Chi square, significance level and degrees of freedom are 7179.962553169011 , 0.0 and 145 respectively\n"
     ]
    }
   ],
   "source": [
    "print(\"Chi square, significance level and degrees of freedom are\", chi2, \",\" , p, \"and\", dof, \"respectively\")"
   ]
  }
 ],
 "metadata": {
  "kernelspec": {
   "display_name": "Python 3",
   "language": "python",
   "name": "python3"
  },
  "language_info": {
   "codemirror_mode": {
    "name": "ipython",
    "version": 3
   },
   "file_extension": ".py",
   "mimetype": "text/x-python",
   "name": "python",
   "nbconvert_exporter": "python",
   "pygments_lexer": "ipython3",
   "version": "3.5.2"
  }
 },
 "nbformat": 4,
 "nbformat_minor": 2
}
