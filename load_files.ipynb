{
 "cells": [
  {
   "cell_type": "code",
   "execution_count": 2,
   "metadata": {},
   "outputs": [],
   "source": [
    "%run 'utils.ipynb'"
   ]
  },
  {
   "cell_type": "code",
   "execution_count": 1,
   "metadata": {},
   "outputs": [],
   "source": [
    "# Path of all data files\n",
    "DATA_PATH = \"./data\"\n",
    "MAIN_CSV_PATH = DATA_PATH + \"/NEISS2014.csv\"\n",
    "BODY_PART_PATH = DATA_PATH + \"/BodyParts.csv\"\n",
    "DISPOSITION_PATH = DATA_PATH + \"/Disposition.csv\"\n",
    "DIAGNOSIS_PATH = DATA_PATH + \"/DiagnosisCodes.csv\""
   ]
  },
  {
   "cell_type": "code",
   "execution_count": 3,
   "metadata": {},
   "outputs": [],
   "source": [
    "# Loading the main data to act as source of truth in entire project\n",
    "main_df = pd.read_csv(MAIN_CSV_PATH)\n",
    "row_num, col_num = main_df.shape\n",
    "cols = get_columns(main_df)"
   ]
  },
  {
   "cell_type": "code",
   "execution_count": 4,
   "metadata": {},
   "outputs": [],
   "source": [
    "# Loading body parts codes\n",
    "def load_body_parts():\n",
    "    body_parts_df = pd.read_csv(BODY_PART_PATH)\n",
    "    print(\"DataFrame body_parts_df loaded.\")\n",
    "    return body_parts_df"
   ]
  },
  {
   "cell_type": "code",
   "execution_count": 83,
   "metadata": {},
   "outputs": [],
   "source": [
    "# Loading diagnosis codes\n",
    "def load_diagnosis():\n",
    "    diagnosis_df = pd.read_csv(DIAGNOSIS_PATH)\n",
    "    diagnosis_df.rename(columns = {'Diagnosis': 'diag_exp', 'Code': 'diag'}, inplace=True)\n",
    "    print(\"DataFrame diagnosis_df loaded\")\n",
    "    return diagnosis_df"
   ]
  },
  {
   "cell_type": "code",
   "execution_count": 84,
   "metadata": {},
   "outputs": [],
   "source": [
    "# Loading disposition codes\n",
    "def load_disposition():\n",
    "    disposition_df = pd.read_csv(DISPOSITION_PATH)\n",
    "    disposition_df.rename(columns = {'Code': 'disposition', 'Disposition': 'disposition_exp'}, inplace=True)\n",
    "    print(\"DataFrame disposition_df loaded\")\n",
    "    return disposition_df"
   ]
  },
  {
   "cell_type": "code",
   "execution_count": null,
   "metadata": {},
   "outputs": [],
   "source": [
    "# NEISS has coded the age for infants less than 2 years\n",
    "# Decoding the age as follows\n",
    "def age_manipulation(x):\n",
    "    if x['age'] > 200:\n",
    "        months = x['age'] % 200\n",
    "        years = months//12\n",
    "        return years\n",
    "    return x['age']\n",
    "\n",
    "# Creating an additional age manipulation column\n",
    "main_df[\"age_man\"] = main_df[[\"age\"]].apply(age_manipulation, axis=1)"
   ]
  }
 ],
 "metadata": {
  "kernelspec": {
   "display_name": "Python 3",
   "language": "python",
   "name": "python3"
  },
  "language_info": {
   "codemirror_mode": {
    "name": "ipython",
    "version": 3
   },
   "file_extension": ".py",
   "mimetype": "text/x-python",
   "name": "python",
   "nbconvert_exporter": "python",
   "pygments_lexer": "ipython3",
   "version": "3.5.2"
  }
 },
 "nbformat": 4,
 "nbformat_minor": 2
}
