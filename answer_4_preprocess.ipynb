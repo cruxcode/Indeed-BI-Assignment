{
 "cells": [
  {
   "cell_type": "code",
   "execution_count": 246,
   "metadata": {},
   "outputs": [],
   "source": [
    "%run 'load_files.ipynb'\n",
    "import re\n",
    "import numpy as np\n",
    "from scipy.stats import chi2_contingency"
   ]
  },
  {
   "cell_type": "code",
   "execution_count": 247,
   "metadata": {},
   "outputs": [],
   "source": [
    "def apply_regex(x):\n",
    "    pattern = '[0-9]+[\\s]*[-]*[YMWOD][\\s]*[\\/-]*[\\s]*[O]?'\n",
    "    searcher = re.compile(pattern, re.IGNORECASE)\n",
    "    if searcher.search(x):\n",
    "        return (re.search(r'[0-9]+', searcher.search(x).group(0)).group(0), re.search(r'[YMWDO]', searcher.search(x).group(0)).group(0))\n",
    "    return 'hit'"
   ]
  },
  {
   "cell_type": "code",
   "execution_count": 248,
   "metadata": {},
   "outputs": [],
   "source": [
    "main_df['age_'] = main_df['narrative'].apply(apply_regex)"
   ]
  },
  {
   "cell_type": "code",
   "execution_count": 249,
   "metadata": {},
   "outputs": [],
   "source": [
    "checklist = []\n",
    "def age_check(x):\n",
    "    if x['age'] > 100:\n",
    "        if int(x['age_'][0]) > 100:\n",
    "            checklist.append(x['age_'])\n",
    "        return x['age_'][0]\n",
    "    return x['age']"
   ]
  },
  {
   "cell_type": "code",
   "execution_count": 250,
   "metadata": {},
   "outputs": [],
   "source": [
    "main_df['age_checked'] = main_df[['age', 'age_']].apply(age_check, axis=1)"
   ]
  },
  {
   "cell_type": "code",
   "execution_count": 251,
   "metadata": {},
   "outputs": [
    {
     "data": {
      "text/plain": [
       "37"
      ]
     },
     "execution_count": 251,
     "metadata": {},
     "output_type": "execute_result"
    }
   ],
   "source": [
    "len(checklist)"
   ]
  },
  {
   "cell_type": "code",
   "execution_count": 252,
   "metadata": {},
   "outputs": [],
   "source": [
    "main_df['age_checked_int'] = main_df['age_checked'].astype('int', copy=True)"
   ]
  },
  {
   "cell_type": "code",
   "execution_count": 253,
   "metadata": {},
   "outputs": [],
   "source": [
    "main_df = main_df[main_df['age_checked_int'] <= 104]"
   ]
  },
  {
   "cell_type": "code",
   "execution_count": 284,
   "metadata": {},
   "outputs": [],
   "source": [
    "def age_cat(x):\n",
    "    if x['age_checked_int'] < 21:\n",
    "        return 'age_grp_1'\n",
    "    if x['age_checked_int'] >=21 and x['age_checked_int'] < 41:\n",
    "        return 'age_grp_2'\n",
    "    if x['age_checked_int'] >=41 and x['age_checked_int'] < 61:\n",
    "        return 'age_grp_3'\n",
    "    if x['age_checked_int'] >=61 and x['age_checked_int'] < 81:\n",
    "        return 'age_grp_4'\n",
    "    if x['age_checked_int'] >= 81:\n",
    "        return 'age_grp_5'"
   ]
  },
  {
   "cell_type": "code",
   "execution_count": 285,
   "metadata": {},
   "outputs": [],
   "source": [
    "main_df[\"age_cat\"] = main_df.apply(age_cat, axis=1)"
   ]
  }
 ],
 "metadata": {
  "kernelspec": {
   "display_name": "Python 3",
   "language": "python",
   "name": "python3"
  },
  "language_info": {
   "codemirror_mode": {
    "name": "ipython",
    "version": 3
   },
   "file_extension": ".py",
   "mimetype": "text/x-python",
   "name": "python",
   "nbconvert_exporter": "python",
   "pygments_lexer": "ipython3",
   "version": "3.5.2"
  }
 },
 "nbformat": 4,
 "nbformat_minor": 2
}
