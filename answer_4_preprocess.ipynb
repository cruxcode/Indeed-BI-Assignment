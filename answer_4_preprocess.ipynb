{
 "cells": [
  {
   "cell_type": "code",
   "execution_count": 3,
   "metadata": {},
   "outputs": [],
   "source": [
    "%run 'load_files.ipynb'\n",
    "import re\n",
    "import numpy as np\n",
    "from scipy.stats import chi2_contingency"
   ]
  },
  {
   "cell_type": "code",
   "execution_count": 8,
   "metadata": {},
   "outputs": [],
   "source": [
    "# NEISS has coded the age for infants less than 2 years\n",
    "# Decoding the age as follows\n",
    "def age_manipulation(x):\n",
    "    if x['age'] > 200:\n",
    "        months = x['age'] % 200\n",
    "        years = months//12\n",
    "        return years\n",
    "    return x['age']\n",
    "\n",
    "# Creating an additional age manipulation column\n",
    "main_df[\"age_man\"] = main_df[[\"age\"]].apply(age_manipulation, axis=1)"
   ]
  },
  {
   "cell_type": "code",
   "execution_count": 16,
   "metadata": {},
   "outputs": [],
   "source": [
    "def age_cat(x):\n",
    "    if x['age_man'] < 6:\n",
    "        return 'age_grp_1'\n",
    "    if x['age_man'] >=6 and x['age_man'] < 21:\n",
    "        return 'age_grp_2'\n",
    "    if x['age_man'] >=21 and x['age_man'] < 41:\n",
    "        return 'age_grp_3'\n",
    "    if x['age_man'] >=41 and x['age_man'] < 61:\n",
    "        return 'age_grp_4'\n",
    "    if x['age_man'] >=61 and x['age_man'] < 81:\n",
    "        return 'age_grp_5'\n",
    "    if x['age_man'] >= 81:\n",
    "        return 'age_grp_6'"
   ]
  },
  {
   "cell_type": "code",
   "execution_count": 14,
   "metadata": {},
   "outputs": [],
   "source": [
    "main_df[\"age_cat\"] = main_df.apply(age_cat, axis=1)"
   ]
  }
 ],
 "metadata": {
  "kernelspec": {
   "display_name": "Python 3",
   "language": "python",
   "name": "python3"
  },
  "language_info": {
   "codemirror_mode": {
    "name": "ipython",
    "version": 3
   },
   "file_extension": ".py",
   "mimetype": "text/x-python",
   "name": "python",
   "nbconvert_exporter": "python",
   "pygments_lexer": "ipython3",
   "version": "3.5.2"
  }
 },
 "nbformat": 4,
 "nbformat_minor": 2
}
